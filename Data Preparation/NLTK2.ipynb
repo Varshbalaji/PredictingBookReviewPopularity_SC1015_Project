{
 "cells": [
  {
   "cell_type": "code",
   "execution_count": 1,
   "id": "b0025636",
   "metadata": {},
   "outputs": [],
   "source": [
    "import pandas as pd\n",
    "import nltk\n",
    "from nltk.sentiment.vader import SentimentIntensityAnalyzer\n",
    "from nltk.corpus import wordnet\n",
    "#nltk.download(['punkt','averaged_perceptron_tagger','vader_lexicon','stopwords','wordnet'])\n",
    "\n",
    "pd.options.mode.chained_assignment = None"
   ]
  },
  {
   "cell_type": "code",
   "execution_count": 2,
   "id": "0af02c14",
   "metadata": {},
   "outputs": [],
   "source": [
    "#Reading the list-contained columns as list instead of strings\n",
    "import ast\n",
    "generic = lambda x: ast.literal_eval(x)\n",
    "conv = {'Sentences_in_Reviews': generic,\n",
    "        'Tokenized_Words': generic}"
   ]
  },
  {
   "cell_type": "code",
   "execution_count": null,
   "id": "b524579e",
   "metadata": {},
   "outputs": [],
   "source": [
    "book_dtf = pd.read_csv(\"C:/Users/joann/Downloads/newProject/Data_Cleaning/NLTK.csv\")"
   ]
  },
  {
   "cell_type": "code",
   "execution_count": 4,
   "id": "0cdb9d54",
   "metadata": {},
   "outputs": [
    {
     "data": {
      "text/html": [
       "<div>\n",
       "<style scoped>\n",
       "    .dataframe tbody tr th:only-of-type {\n",
       "        vertical-align: middle;\n",
       "    }\n",
       "\n",
       "    .dataframe tbody tr th {\n",
       "        vertical-align: top;\n",
       "    }\n",
       "\n",
       "    .dataframe thead th {\n",
       "        text-align: right;\n",
       "    }\n",
       "</style>\n",
       "<table border=\"1\" class=\"dataframe\">\n",
       "  <thead>\n",
       "    <tr style=\"text-align: right;\">\n",
       "      <th></th>\n",
       "      <th>User_Reviews</th>\n",
       "      <th>Stars_Ratings</th>\n",
       "      <th>Review</th>\n",
       "      <th>Combined_Likes_Count</th>\n",
       "      <th>Popularity</th>\n",
       "      <th>Diff_Ratings</th>\n",
       "      <th>Quote</th>\n",
       "      <th>Sentences_in_Reviews</th>\n",
       "      <th>Num_Sentence</th>\n",
       "      <th>Tokenized_Words</th>\n",
       "      <th>Num_Tokenized_Words</th>\n",
       "      <th>Average_WordsinSentence</th>\n",
       "      <th>Num_Letters</th>\n",
       "      <th>Average_WordLength</th>\n",
       "      <th>posTAGS</th>\n",
       "    </tr>\n",
       "  </thead>\n",
       "  <tbody>\n",
       "    <tr>\n",
       "      <th>0</th>\n",
       "      <td>3</td>\n",
       "      <td>5</td>\n",
       "      <td>So I just finished this book and I don't know ...</td>\n",
       "      <td>14137</td>\n",
       "      <td>0</td>\n",
       "      <td>0.79</td>\n",
       "      <td>False</td>\n",
       "      <td>[So I just finished this book and I don't know...</td>\n",
       "      <td>6</td>\n",
       "      <td>[so, i, just, finished, this, book, and, i, do...</td>\n",
       "      <td>74</td>\n",
       "      <td>12.333333</td>\n",
       "      <td>288</td>\n",
       "      <td>3.891892</td>\n",
       "      <td>[(so, RB), (i, JJ), (just, RB), (finished, VBN...</td>\n",
       "    </tr>\n",
       "    <tr>\n",
       "      <th>1</th>\n",
       "      <td>3</td>\n",
       "      <td>5</td>\n",
       "      <td>Murakami is Love!</td>\n",
       "      <td>3549</td>\n",
       "      <td>0</td>\n",
       "      <td>1.18</td>\n",
       "      <td>False</td>\n",
       "      <td>[Murakami is Love!]</td>\n",
       "      <td>1</td>\n",
       "      <td>[murakami, is, love]</td>\n",
       "      <td>3</td>\n",
       "      <td>3.000000</td>\n",
       "      <td>14</td>\n",
       "      <td>4.666667</td>\n",
       "      <td>[(murakami, NN), (is, VBZ), (love, VB)]</td>\n",
       "    </tr>\n",
       "    <tr>\n",
       "      <th>2</th>\n",
       "      <td>6</td>\n",
       "      <td>2</td>\n",
       "      <td>Dated and not very illuminating. Perhaps the t...</td>\n",
       "      <td>1977</td>\n",
       "      <td>0</td>\n",
       "      <td>-1.96</td>\n",
       "      <td>False</td>\n",
       "      <td>[Dated and not very illuminating., Perhaps the...</td>\n",
       "      <td>2</td>\n",
       "      <td>[dated, and, not, very, illuminating, perhaps,...</td>\n",
       "      <td>11</td>\n",
       "      <td>5.500000</td>\n",
       "      <td>57</td>\n",
       "      <td>5.181818</td>\n",
       "      <td>[(dated, VBN), (and, CC), (not, RB), (very, RB...</td>\n",
       "    </tr>\n",
       "    <tr>\n",
       "      <th>3</th>\n",
       "      <td>6</td>\n",
       "      <td>4</td>\n",
       "      <td>Great read...my first tharoor book...read prim...</td>\n",
       "      <td>131</td>\n",
       "      <td>0</td>\n",
       "      <td>0.14</td>\n",
       "      <td>False</td>\n",
       "      <td>[Great read...my first tharoor book...read pri...</td>\n",
       "      <td>1</td>\n",
       "      <td>[great, read, my, first, tharoor, book, read, ...</td>\n",
       "      <td>40</td>\n",
       "      <td>40.000000</td>\n",
       "      <td>191</td>\n",
       "      <td>4.775000</td>\n",
       "      <td>[(great, JJ), (read, VB), (my, PRP$), (first, ...</td>\n",
       "    </tr>\n",
       "    <tr>\n",
       "      <th>4</th>\n",
       "      <td>6</td>\n",
       "      <td>5</td>\n",
       "      <td>Staggering... Mindboggling....what a book...cl...</td>\n",
       "      <td>1179</td>\n",
       "      <td>0</td>\n",
       "      <td>0.83</td>\n",
       "      <td>False</td>\n",
       "      <td>[Staggering... Mindboggling....what a book...c...</td>\n",
       "      <td>1</td>\n",
       "      <td>[staggering, mindboggling, what, a, book, clea...</td>\n",
       "      <td>29</td>\n",
       "      <td>29.000000</td>\n",
       "      <td>141</td>\n",
       "      <td>4.862069</td>\n",
       "      <td>[(staggering, VBG), (mindboggling, VBG), (what...</td>\n",
       "    </tr>\n",
       "  </tbody>\n",
       "</table>\n",
       "</div>"
      ],
      "text/plain": [
       "   User_Reviews  Stars_Ratings  \\\n",
       "0             3              5   \n",
       "1             3              5   \n",
       "2             6              2   \n",
       "3             6              4   \n",
       "4             6              5   \n",
       "\n",
       "                                              Review  Combined_Likes_Count  \\\n",
       "0  So I just finished this book and I don't know ...                 14137   \n",
       "1                                  Murakami is Love!                  3549   \n",
       "2  Dated and not very illuminating. Perhaps the t...                  1977   \n",
       "3  Great read...my first tharoor book...read prim...                   131   \n",
       "4  Staggering... Mindboggling....what a book...cl...                  1179   \n",
       "\n",
       "   Popularity  Diff_Ratings  Quote  \\\n",
       "0           0          0.79  False   \n",
       "1           0          1.18  False   \n",
       "2           0         -1.96  False   \n",
       "3           0          0.14  False   \n",
       "4           0          0.83  False   \n",
       "\n",
       "                                Sentences_in_Reviews  Num_Sentence  \\\n",
       "0  [So I just finished this book and I don't know...             6   \n",
       "1                                [Murakami is Love!]             1   \n",
       "2  [Dated and not very illuminating., Perhaps the...             2   \n",
       "3  [Great read...my first tharoor book...read pri...             1   \n",
       "4  [Staggering... Mindboggling....what a book...c...             1   \n",
       "\n",
       "                                     Tokenized_Words  Num_Tokenized_Words  \\\n",
       "0  [so, i, just, finished, this, book, and, i, do...                   74   \n",
       "1                               [murakami, is, love]                    3   \n",
       "2  [dated, and, not, very, illuminating, perhaps,...                   11   \n",
       "3  [great, read, my, first, tharoor, book, read, ...                   40   \n",
       "4  [staggering, mindboggling, what, a, book, clea...                   29   \n",
       "\n",
       "   Average_WordsinSentence  Num_Letters  Average_WordLength  \\\n",
       "0                12.333333          288            3.891892   \n",
       "1                 3.000000           14            4.666667   \n",
       "2                 5.500000           57            5.181818   \n",
       "3                40.000000          191            4.775000   \n",
       "4                29.000000          141            4.862069   \n",
       "\n",
       "                                             posTAGS  \n",
       "0  [(so, RB), (i, JJ), (just, RB), (finished, VBN...  \n",
       "1            [(murakami, NN), (is, VBZ), (love, VB)]  \n",
       "2  [(dated, VBN), (and, CC), (not, RB), (very, RB...  \n",
       "3  [(great, JJ), (read, VB), (my, PRP$), (first, ...  \n",
       "4  [(staggering, VBG), (mindboggling, VBG), (what...  "
      ]
     },
     "execution_count": 4,
     "metadata": {},
     "output_type": "execute_result"
    }
   ],
   "source": [
    "del book_dtf[\"Unnamed: 0\"]\n",
    "book_dtf.head()"
   ]
  },
  {
   "cell_type": "code",
   "execution_count": null,
   "id": "9c9fdf61",
   "metadata": {},
   "outputs": [],
   "source": [
    "book_dtf.shape"
   ]
  },
  {
   "cell_type": "code",
   "execution_count": null,
   "id": "46475135",
   "metadata": {},
   "outputs": [],
   "source": [
    "#POS tagging will be used to avoid confusion between two same words that have different meanings.\n",
    "#With respect to definition and context, we give each word a particular tag and process them\n",
    "#Will return a list of tuple containing the word and the associated POS Tags\n",
    "book_dtf[\"posTAGS\"] = book_dtf[\"Tokenized_Words\"].apply(nltk.pos_tag)"
   ]
  },
  {
   "cell_type": "code",
   "execution_count": 6,
   "id": "08778ea8",
   "metadata": {},
   "outputs": [],
   "source": [
    "def count_posTAGS(posTAGS, TAGS):\n",
    "    count = 0\n",
    "    for words in posTAGS:\n",
    "        if words[1] in TAGS:\n",
    "            count+=1\n",
    "    return(count)\n",
    "\n",
    "#Find sum of verbs of all form in an individual review:\n",
    "    # VB = base form, VBD = past tense, VBG = present participle, VBN = past participle, VBP = singular present, VBZ = 3rd person singular present\n",
    "book_dtf[\"Num_Verbs\"] = book_dtf[\"posTAGS\"].apply(count_posTAGS, TAGS = [\"VB\", \"VBD\", \"VBG\", \"VBN\", \"VBP\", \"VBZ\"])\n",
    "\n",
    "#Find sum of nouns of all form in an individual review:\n",
    "    # NN = singular noun, NNS = plural noun, NNP = proper noun singular, NNPS = proper noun plural\n",
    "book_dtf[\"Num_Nouns\"] = book_dtf[\"posTAGS\"].apply(count_posTAGS, TAGS = [\"NN\", \"NNS\", \"NNP\", \"NNPS\"])\n",
    "\n",
    "#Find sum of adjective + adverb of all form in an individual review:\n",
    "    # JJ = adjective, JJR = comparative adjective, JJS = superlative adjective\n",
    "    # RB = adverb, RBR = comparative adverb,  RBS = superlativr adverb\n",
    "book_dtf[\"Num_AdjAdverb\"] = book_dtf[\"posTAGS\"].apply(count_posTAGS, TAGS = [\"JJ\", \"JJR\", \"JJS\", \"RB\", \"RBR\", \"RBS\"])"
   ]
  },
  {
   "cell_type": "code",
   "execution_count": null,
   "id": "de228ff3",
   "metadata": {},
   "outputs": [],
   "source": [
    "#Calculate percentage of verbs, nouns and (adjective + adverbs) for each review\n",
    "book_dtf[\"Percentage_Verbs\"] = book_dtf[\"Num_Verbs\"]/book_dtf[\"Num_Tokenized_Words\"]\n",
    "book_dtf[\"Percentage_Nouns\"] = book_dtf[\"Num_Nouns\"]/book_dtf[\"Num_Tokenized_Words\"]\n",
    "book_dtf[\"Percentage_AdjAdverb\"] = book_dtf[\"Num_AdjAdverb\"]/book_dtf[\"Num_Tokenized_Words\"]"
   ]
  },
  {
   "cell_type": "code",
   "execution_count": null,
   "id": "8f639b9b",
   "metadata": {},
   "outputs": [],
   "source": [
    "book_dtf = book_dtf.drop(columns=['Num_Verbs','Num_Nouns','Num_AdjAdverb'])"
   ]
  },
  {
   "cell_type": "code",
   "execution_count": null,
   "id": "420f40b7",
   "metadata": {},
   "outputs": [],
   "source": [
    "book_dtf.head()"
   ]
  },
  {
   "cell_type": "code",
   "execution_count": null,
   "id": "64d773f2",
   "metadata": {},
   "outputs": [],
   "source": [
    "#Sentiment Analysis\n",
    "sid = SentimentIntensityAnalyzer()"
   ]
  },
  {
   "cell_type": "code",
   "execution_count": null,
   "id": "3cca658e",
   "metadata": {},
   "outputs": [],
   "source": [
    "#Count SentimentyIntensity for each review, if the value of the compound is positive, then it is a positive review, otherwise it is a negative review.\n",
    "def count_SentimentScore(reviews):\n",
    "    score = sid.polarity_scores(reviews)\n",
    "    return score[\"compound\"]\n",
    "    \n",
    "book_dtf[\"Sentiment_Score\"] = book_dtf[\"Review\"].apply(count_SentimentScore)"
   ]
  },
  {
   "cell_type": "code",
   "execution_count": null,
   "id": "8d4093e5",
   "metadata": {},
   "outputs": [],
   "source": [
    "book_dtf = book_dtf.drop(columns=['Sentences_in_Reviews'])"
   ]
  },
  {
   "cell_type": "code",
   "execution_count": null,
   "id": "43ebb053",
   "metadata": {},
   "outputs": [],
   "source": [
    "book_dtf.head()"
   ]
  },
  {
   "cell_type": "code",
   "execution_count": null,
   "id": "50f5034a",
   "metadata": {},
   "outputs": [],
   "source": [
    "#Stopwords contain commonly used words in english\n",
    "stopwords = nltk.corpus.stopwords.words('english')\n",
    "\n",
    "\n",
    "#Remove stopwords from Tokenized_Words\n",
    "def filtered_tokenized_words(list):\n",
    "    filtered_words = []\n",
    "    for words in list:\n",
    "        if words not in stopwords:\n",
    "            filtered_words.append(words)\n",
    "    \n",
    "    return filtered_words\n",
    "\n",
    "\n",
    "book_dtf[\"Tokenized_Words\"] = book_dtf[\"Tokenized_Words\"].apply(filtered_tokenized_words)"
   ]
  },
  {
   "cell_type": "code",
   "execution_count": null,
   "id": "35926693",
   "metadata": {},
   "outputs": [],
   "source": [
    "lemmatizer = nltk.stem.wordnet.WordNetLemmatizer()"
   ]
  },
  {
   "cell_type": "code",
   "execution_count": null,
   "id": "a9c168fb",
   "metadata": {},
   "outputs": [],
   "source": [
    "def get_wordnet_pos(tag):\n",
    "    if tag.startswith('J'):\n",
    "        return wordnet.ADJ\n",
    "    elif tag.startswith('V'):\n",
    "        return wordnet.VERB\n",
    "    elif tag.startswith('N'):\n",
    "        return wordnet.NOUN\n",
    "    elif tag.startswith('R'):\n",
    "        return wordnet.ADV\n",
    "    else:\n",
    "        return wordnet.NOUN\n",
    "\n",
    "def get_pos_for_lemmatizer(list):\n",
    "    lemmatized_words = []\n",
    "    for package in list:\n",
    "        lemmatized_words.append(lemmatizer.lemmatize(package[0], get_wordnet_pos(package[1])))\n",
    "    \n",
    "    return lemmatized_words\n",
    "\n",
    "\n",
    "book_dtf[\"Tokenized_Words\"] = book_dtf[\"posTAGS\"].apply(get_pos_for_lemmatizer)"
   ]
  },
  {
   "cell_type": "code",
   "execution_count": null,
   "id": "cd8ea9f6",
   "metadata": {},
   "outputs": [],
   "source": [
    "#Changing the True or False of Quote to numeric number\n",
    "#0 = False, 1 = True\n",
    "\n",
    "book_dtf[\"Quote\"] = book_dtf[\"Quote\"].astype(int)\n",
    "\n",
    "#Dropping the data with NULL values\n",
    "book_dtf = book_dtf.dropna()"
   ]
  },
  {
   "cell_type": "code",
   "execution_count": null,
   "id": "0d4f0112",
   "metadata": {},
   "outputs": [],
   "source": [
    "book_dtf.head()"
   ]
  },
  {
   "cell_type": "code",
   "execution_count": null,
   "id": "5cb45c77",
   "metadata": {},
   "outputs": [],
   "source": [
    "book_dtf = book_dtf[[\"Popularity\",\"User_Reviews\",\"Stars_Ratings\",\"Diff_Ratings\",\"Num_Tokenized_Words\",\"Average_WordLength\",\"Average_WordsinSentence\",\"Percentage_Verbs\",\"Percentage_Nouns\",\"Percentage_AdjAdverb\",\"Quote\",\"Sentiment_Score\",\"Tokenized_Words\"]]"
   ]
  },
  {
   "cell_type": "code",
   "execution_count": null,
   "id": "aa918884",
   "metadata": {},
   "outputs": [],
   "source": [
    "book_dtf.head()"
   ]
  },
  {
   "cell_type": "code",
   "execution_count": null,
   "id": "38c12eee",
   "metadata": {},
   "outputs": [],
   "source": [
    "book_dtf.shape"
   ]
  },
  {
   "cell_type": "code",
   "execution_count": null,
   "id": "e61c1cb7",
   "metadata": {},
   "outputs": [],
   "source": [
    "book_dtf.to_csv('NLTK.csv', encoding='utf-8')"
   ]
  },
  {
   "cell_type": "code",
   "execution_count": null,
   "id": "c6b8c8a5",
   "metadata": {},
   "outputs": [],
   "source": []
  }
 ],
 "metadata": {
  "kernelspec": {
   "display_name": "Python 3 (ipykernel)",
   "language": "python",
   "name": "python3"
  },
  "language_info": {
   "codemirror_mode": {
    "name": "ipython",
    "version": 3
   },
   "file_extension": ".py",
   "mimetype": "text/x-python",
   "name": "python",
   "nbconvert_exporter": "python",
   "pygments_lexer": "ipython3",
   "version": "3.9.7"
  }
 },
 "nbformat": 4,
 "nbformat_minor": 5
}
