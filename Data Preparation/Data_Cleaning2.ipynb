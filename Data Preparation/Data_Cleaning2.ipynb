{
 "cells": [
  {
   "cell_type": "code",
   "execution_count": 1,
   "id": "6a5bfed1",
   "metadata": {},
   "outputs": [],
   "source": [
    "import pandas as pd\n",
    "import numpy as np\n",
    "import matplotlib.pyplot as plt\n",
    "import seaborn as sb\n",
    "import re\n",
    "#In order to ignore false-positive chained assignment warning\n",
    "pd.options.mode.chained_assignment = None"
   ]
  },
  {
   "cell_type": "code",
   "execution_count": 2,
   "id": "29360126",
   "metadata": {},
   "outputs": [],
   "source": [
    "book_dtf = pd.read_csv(\"C:/Users/joann/Downloads/newProject/Data_Cleaning/Cleaned_Data.csv\")\n",
    "\n",
    "#Resseting the index\n",
    "book_dtf = book_dtf.reset_index(drop = True)"
   ]
  },
  {
   "cell_type": "code",
   "execution_count": 3,
   "id": "37ed5d58",
   "metadata": {},
   "outputs": [
    {
     "name": "stdout",
     "output_type": "stream",
     "text": [
      "Requirement already satisfied: fasttext in c:\\users\\joann\\anaconda3\\lib\\site-packages (0.9.2)\n",
      "Requirement already satisfied: setuptools>=0.7.0 in c:\\users\\joann\\anaconda3\\lib\\site-packages (from fasttext) (58.0.4)\n",
      "Requirement already satisfied: numpy in c:\\users\\joann\\anaconda3\\lib\\site-packages (from fasttext) (1.20.3)\n",
      "Requirement already satisfied: pybind11>=2.2 in c:\\users\\joann\\anaconda3\\lib\\site-packages (from fasttext) (2.9.2)\n"
     ]
    }
   ],
   "source": [
    "#Filtering reviews that is written in English only\n",
    "\n",
    "#And to do so, we'll be using the fasttext library\n",
    "!pip install fasttext\n",
    "import fasttext"
   ]
  },
  {
   "cell_type": "code",
   "execution_count": 4,
   "id": "11fb5a15",
   "metadata": {},
   "outputs": [
    {
     "data": {
      "text/html": [
       "<div>\n",
       "<style scoped>\n",
       "    .dataframe tbody tr th:only-of-type {\n",
       "        vertical-align: middle;\n",
       "    }\n",
       "\n",
       "    .dataframe tbody tr th {\n",
       "        vertical-align: top;\n",
       "    }\n",
       "\n",
       "    .dataframe thead th {\n",
       "        text-align: right;\n",
       "    }\n",
       "</style>\n",
       "<table border=\"1\" class=\"dataframe\">\n",
       "  <thead>\n",
       "    <tr style=\"text-align: right;\">\n",
       "      <th></th>\n",
       "      <th>User_ID</th>\n",
       "      <th>Book_ID</th>\n",
       "      <th>Stars_Ratings</th>\n",
       "      <th>Review</th>\n",
       "      <th>Date_Added</th>\n",
       "      <th>Likes_Count</th>\n",
       "      <th>Num_Review</th>\n",
       "      <th>Num_Ratings</th>\n",
       "      <th>Average_Ratings</th>\n",
       "      <th>Author_Name</th>\n",
       "      <th>Combined_Likes_Count</th>\n",
       "    </tr>\n",
       "  </thead>\n",
       "  <tbody>\n",
       "    <tr>\n",
       "      <th>0</th>\n",
       "      <td>e88c751829dc59cef8e3f23bf10e0f13</td>\n",
       "      <td>1</td>\n",
       "      <td>5</td>\n",
       "      <td>\"I am the Half-blood prince\". \\n Read to find ...</td>\n",
       "      <td>Sat Nov 26 10:52:38 -0800 2016</td>\n",
       "      <td>1</td>\n",
       "      <td>22680.0</td>\n",
       "      <td>1713866.0</td>\n",
       "      <td>4.54</td>\n",
       "      <td>[{'author_id': '1077326', 'role': ''}, {'autho...</td>\n",
       "      <td>7439</td>\n",
       "    </tr>\n",
       "    <tr>\n",
       "      <th>1</th>\n",
       "      <td>bd12db2c6bb0e2e26e2b1868a1463b68</td>\n",
       "      <td>1</td>\n",
       "      <td>5</td>\n",
       "      <td>The insights into the life of Tom Riddle do no...</td>\n",
       "      <td>Fri Aug 30 18:56:16 -0700 2013</td>\n",
       "      <td>1</td>\n",
       "      <td>22680.0</td>\n",
       "      <td>1713866.0</td>\n",
       "      <td>4.54</td>\n",
       "      <td>[{'author_id': '1077326', 'role': ''}, {'autho...</td>\n",
       "      <td>7439</td>\n",
       "    </tr>\n",
       "    <tr>\n",
       "      <th>2</th>\n",
       "      <td>5c0a76a445829482c8bbc8243734795a</td>\n",
       "      <td>1</td>\n",
       "      <td>3</td>\n",
       "      <td>In no way do I diss Harry Potter, but I must s...</td>\n",
       "      <td>Sun Apr 19 16:46:01 -0700 2009</td>\n",
       "      <td>2</td>\n",
       "      <td>22680.0</td>\n",
       "      <td>1713866.0</td>\n",
       "      <td>4.54</td>\n",
       "      <td>[{'author_id': '1077326', 'role': ''}, {'autho...</td>\n",
       "      <td>7439</td>\n",
       "    </tr>\n",
       "    <tr>\n",
       "      <th>3</th>\n",
       "      <td>c96c64adc01b167628026634543278e9</td>\n",
       "      <td>1</td>\n",
       "      <td>5</td>\n",
       "      <td>This was my favorite HP book so far! What a ch...</td>\n",
       "      <td>Tue Jan 06 15:26:36 -0800 2015</td>\n",
       "      <td>1</td>\n",
       "      <td>22680.0</td>\n",
       "      <td>1713866.0</td>\n",
       "      <td>4.54</td>\n",
       "      <td>[{'author_id': '1077326', 'role': ''}, {'autho...</td>\n",
       "      <td>7439</td>\n",
       "    </tr>\n",
       "    <tr>\n",
       "      <th>4</th>\n",
       "      <td>4af2b6a2ed4e32ee9f12f7240c3b6df8</td>\n",
       "      <td>1</td>\n",
       "      <td>5</td>\n",
       "      <td>One of the most moving of the series. It is in...</td>\n",
       "      <td>Thu Jun 23 08:09:30 -0700 2016</td>\n",
       "      <td>1</td>\n",
       "      <td>22680.0</td>\n",
       "      <td>1713866.0</td>\n",
       "      <td>4.54</td>\n",
       "      <td>[{'author_id': '1077326', 'role': ''}, {'autho...</td>\n",
       "      <td>7439</td>\n",
       "    </tr>\n",
       "  </tbody>\n",
       "</table>\n",
       "</div>"
      ],
      "text/plain": [
       "                            User_ID  Book_ID  Stars_Ratings  \\\n",
       "0  e88c751829dc59cef8e3f23bf10e0f13        1              5   \n",
       "1  bd12db2c6bb0e2e26e2b1868a1463b68        1              5   \n",
       "2  5c0a76a445829482c8bbc8243734795a        1              3   \n",
       "3  c96c64adc01b167628026634543278e9        1              5   \n",
       "4  4af2b6a2ed4e32ee9f12f7240c3b6df8        1              5   \n",
       "\n",
       "                                              Review  \\\n",
       "0  \"I am the Half-blood prince\". \\n Read to find ...   \n",
       "1  The insights into the life of Tom Riddle do no...   \n",
       "2  In no way do I diss Harry Potter, but I must s...   \n",
       "3  This was my favorite HP book so far! What a ch...   \n",
       "4  One of the most moving of the series. It is in...   \n",
       "\n",
       "                       Date_Added  Likes_Count  Num_Review  Num_Ratings  \\\n",
       "0  Sat Nov 26 10:52:38 -0800 2016            1     22680.0    1713866.0   \n",
       "1  Fri Aug 30 18:56:16 -0700 2013            1     22680.0    1713866.0   \n",
       "2  Sun Apr 19 16:46:01 -0700 2009            2     22680.0    1713866.0   \n",
       "3  Tue Jan 06 15:26:36 -0800 2015            1     22680.0    1713866.0   \n",
       "4  Thu Jun 23 08:09:30 -0700 2016            1     22680.0    1713866.0   \n",
       "\n",
       "   Average_Ratings                                        Author_Name  \\\n",
       "0             4.54  [{'author_id': '1077326', 'role': ''}, {'autho...   \n",
       "1             4.54  [{'author_id': '1077326', 'role': ''}, {'autho...   \n",
       "2             4.54  [{'author_id': '1077326', 'role': ''}, {'autho...   \n",
       "3             4.54  [{'author_id': '1077326', 'role': ''}, {'autho...   \n",
       "4             4.54  [{'author_id': '1077326', 'role': ''}, {'autho...   \n",
       "\n",
       "   Combined_Likes_Count  \n",
       "0                  7439  \n",
       "1                  7439  \n",
       "2                  7439  \n",
       "3                  7439  \n",
       "4                  7439  "
      ]
     },
     "execution_count": 4,
     "metadata": {},
     "output_type": "execute_result"
    }
   ],
   "source": [
    "#Deleting the previous indexing\n",
    "del book_dtf[\"Unnamed: 0\"]\n",
    "book_dtf.head()"
   ]
  },
  {
   "cell_type": "code",
   "execution_count": 5,
   "id": "d6fece43",
   "metadata": {},
   "outputs": [
    {
     "data": {
      "text/plain": [
       "(2309970, 11)"
      ]
     },
     "execution_count": 5,
     "metadata": {},
     "output_type": "execute_result"
    }
   ],
   "source": [
    "book_dtf.shape"
   ]
  },
  {
   "cell_type": "code",
   "execution_count": 6,
   "id": "6cd11e25",
   "metadata": {},
   "outputs": [
    {
     "name": "stderr",
     "output_type": "stream",
     "text": [
      "Warning : `load_model` does not return WordVectorModel or SupervisedModel any more, but a `FastText` object which is very similar.\n"
     ]
    }
   ],
   "source": [
    "#Loading the pre-trained model\n",
    "model = fasttext.load_model('lid.176.bin')"
   ]
  },
  {
   "cell_type": "code",
   "execution_count": 7,
   "id": "0aed3b33",
   "metadata": {},
   "outputs": [],
   "source": [
    "#Remove the \\n character from the reviews and replace it with spacebar, because fasttext can't predict with \\n character\n",
    "#Reviews thus will only be one paragraph instead of multiple paragraphs\n",
    "\n",
    "list_of_reviews = book_dtf[\"Review\"].str.replace('\\n','').to_list()\n",
    "prediction = model.predict(list_of_reviews)"
   ]
  },
  {
   "cell_type": "code",
   "execution_count": 8,
   "id": "a44abf42",
   "metadata": {},
   "outputs": [
    {
     "name": "stdout",
     "output_type": "stream",
     "text": [
      "2029087\n"
     ]
    }
   ],
   "source": [
    "#Prediction return two values:\n",
    "    #If review is in English, then \"__label__en\" will be returned, otherwise, \"__label__xx\" where the xx will be replaced by the predicted langugage\n",
    "    #It will also return the probability of how sure they are that the text is the one that has been predicted\n",
    "\n",
    "#Thus, retain every review with \"__label__en\" with probability of it being English being more than 80%. The index of these reviews are kept in the list english_reviews_index\n",
    "english_reviews_index = []\n",
    "index = 0\n",
    "for i in range(len(prediction[0])):\n",
    "    if prediction[0][i][0] == \"__label__en\" and prediction[1][i][0] > 0.80:\n",
    "        english_reviews_index.append(i)\n",
    "        \n",
    "print(len(english_reviews_index))"
   ]
  },
  {
   "cell_type": "code",
   "execution_count": 9,
   "id": "643947db",
   "metadata": {},
   "outputs": [
    {
     "name": "stdout",
     "output_type": "stream",
     "text": [
      "(2029087, 11)\n"
     ]
    }
   ],
   "source": [
    "#We keep the data whose index is in the english_reviews_index\n",
    "#Index is reseted, so that the old index won't be used in the new dataframe. Drop is set to True so that the old index isn't saved as a column\n",
    "\n",
    "book_dtf = book_dtf.iloc[english_reviews_index,].reset_index(drop=True)\n",
    "print(book_dtf.shape)"
   ]
  },
  {
   "cell_type": "code",
   "execution_count": 10,
   "id": "c5088a51",
   "metadata": {},
   "outputs": [],
   "source": [
    "book_dtf.to_csv('Cleaned_Data.csv', encoding='utf-8')"
   ]
  }
 ],
 "metadata": {
  "kernelspec": {
   "display_name": "Python 3 (ipykernel)",
   "language": "python",
   "name": "python3"
  },
  "language_info": {
   "codemirror_mode": {
    "name": "ipython",
    "version": 3
   },
   "file_extension": ".py",
   "mimetype": "text/x-python",
   "name": "python",
   "nbconvert_exporter": "python",
   "pygments_lexer": "ipython3",
   "version": "3.9.7"
  }
 },
 "nbformat": 4,
 "nbformat_minor": 5
}
