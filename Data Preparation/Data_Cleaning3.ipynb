{
 "cells": [
  {
   "cell_type": "code",
   "execution_count": 1,
   "id": "80ac6080",
   "metadata": {},
   "outputs": [],
   "source": [
    "import pandas as pd\n",
    "import numpy as np\n",
    "import matplotlib.pyplot as plt\n",
    "import seaborn as sb\n",
    "import re\n",
    "\n",
    "#In order to ignore false-positive chained assignment warning\n",
    "pd.options.mode.chained_assignment = None"
   ]
  },
  {
   "cell_type": "code",
   "execution_count": 2,
   "id": "3ae15144",
   "metadata": {},
   "outputs": [],
   "source": [
    "book_dtf = pd.read_csv(\"C:/Users/joann/Downloads/newProject/Data_Cleaning/Cleaned_Data.csv\")"
   ]
  },
  {
   "cell_type": "code",
   "execution_count": 3,
   "id": "64b3ef6c",
   "metadata": {},
   "outputs": [
    {
     "data": {
      "text/html": [
       "<div>\n",
       "<style scoped>\n",
       "    .dataframe tbody tr th:only-of-type {\n",
       "        vertical-align: middle;\n",
       "    }\n",
       "\n",
       "    .dataframe tbody tr th {\n",
       "        vertical-align: top;\n",
       "    }\n",
       "\n",
       "    .dataframe thead th {\n",
       "        text-align: right;\n",
       "    }\n",
       "</style>\n",
       "<table border=\"1\" class=\"dataframe\">\n",
       "  <thead>\n",
       "    <tr style=\"text-align: right;\">\n",
       "      <th></th>\n",
       "      <th>User_ID</th>\n",
       "      <th>Book_ID</th>\n",
       "      <th>Stars_Ratings</th>\n",
       "      <th>Review</th>\n",
       "      <th>Date_Added</th>\n",
       "      <th>Likes_Count</th>\n",
       "      <th>Num_Review</th>\n",
       "      <th>Num_Ratings</th>\n",
       "      <th>Average_Ratings</th>\n",
       "      <th>Author_Name</th>\n",
       "      <th>Combined_Likes_Count</th>\n",
       "    </tr>\n",
       "  </thead>\n",
       "  <tbody>\n",
       "    <tr>\n",
       "      <th>0</th>\n",
       "      <td>e88c751829dc59cef8e3f23bf10e0f13</td>\n",
       "      <td>1</td>\n",
       "      <td>5</td>\n",
       "      <td>\"I am the Half-blood prince\". \\n Read to find ...</td>\n",
       "      <td>Sat Nov 26 10:52:38 -0800 2016</td>\n",
       "      <td>1</td>\n",
       "      <td>22680.0</td>\n",
       "      <td>1713866.0</td>\n",
       "      <td>4.54</td>\n",
       "      <td>[{'author_id': '1077326', 'role': ''}, {'autho...</td>\n",
       "      <td>7439</td>\n",
       "    </tr>\n",
       "    <tr>\n",
       "      <th>1</th>\n",
       "      <td>bd12db2c6bb0e2e26e2b1868a1463b68</td>\n",
       "      <td>1</td>\n",
       "      <td>5</td>\n",
       "      <td>The insights into the life of Tom Riddle do no...</td>\n",
       "      <td>Fri Aug 30 18:56:16 -0700 2013</td>\n",
       "      <td>1</td>\n",
       "      <td>22680.0</td>\n",
       "      <td>1713866.0</td>\n",
       "      <td>4.54</td>\n",
       "      <td>[{'author_id': '1077326', 'role': ''}, {'autho...</td>\n",
       "      <td>7439</td>\n",
       "    </tr>\n",
       "    <tr>\n",
       "      <th>2</th>\n",
       "      <td>5c0a76a445829482c8bbc8243734795a</td>\n",
       "      <td>1</td>\n",
       "      <td>3</td>\n",
       "      <td>In no way do I diss Harry Potter, but I must s...</td>\n",
       "      <td>Sun Apr 19 16:46:01 -0700 2009</td>\n",
       "      <td>2</td>\n",
       "      <td>22680.0</td>\n",
       "      <td>1713866.0</td>\n",
       "      <td>4.54</td>\n",
       "      <td>[{'author_id': '1077326', 'role': ''}, {'autho...</td>\n",
       "      <td>7439</td>\n",
       "    </tr>\n",
       "    <tr>\n",
       "      <th>3</th>\n",
       "      <td>c96c64adc01b167628026634543278e9</td>\n",
       "      <td>1</td>\n",
       "      <td>5</td>\n",
       "      <td>This was my favorite HP book so far! What a ch...</td>\n",
       "      <td>Tue Jan 06 15:26:36 -0800 2015</td>\n",
       "      <td>1</td>\n",
       "      <td>22680.0</td>\n",
       "      <td>1713866.0</td>\n",
       "      <td>4.54</td>\n",
       "      <td>[{'author_id': '1077326', 'role': ''}, {'autho...</td>\n",
       "      <td>7439</td>\n",
       "    </tr>\n",
       "    <tr>\n",
       "      <th>4</th>\n",
       "      <td>4af2b6a2ed4e32ee9f12f7240c3b6df8</td>\n",
       "      <td>1</td>\n",
       "      <td>5</td>\n",
       "      <td>One of the most moving of the series. It is in...</td>\n",
       "      <td>Thu Jun 23 08:09:30 -0700 2016</td>\n",
       "      <td>1</td>\n",
       "      <td>22680.0</td>\n",
       "      <td>1713866.0</td>\n",
       "      <td>4.54</td>\n",
       "      <td>[{'author_id': '1077326', 'role': ''}, {'autho...</td>\n",
       "      <td>7439</td>\n",
       "    </tr>\n",
       "  </tbody>\n",
       "</table>\n",
       "</div>"
      ],
      "text/plain": [
       "                            User_ID  Book_ID  Stars_Ratings  \\\n",
       "0  e88c751829dc59cef8e3f23bf10e0f13        1              5   \n",
       "1  bd12db2c6bb0e2e26e2b1868a1463b68        1              5   \n",
       "2  5c0a76a445829482c8bbc8243734795a        1              3   \n",
       "3  c96c64adc01b167628026634543278e9        1              5   \n",
       "4  4af2b6a2ed4e32ee9f12f7240c3b6df8        1              5   \n",
       "\n",
       "                                              Review  \\\n",
       "0  \"I am the Half-blood prince\". \\n Read to find ...   \n",
       "1  The insights into the life of Tom Riddle do no...   \n",
       "2  In no way do I diss Harry Potter, but I must s...   \n",
       "3  This was my favorite HP book so far! What a ch...   \n",
       "4  One of the most moving of the series. It is in...   \n",
       "\n",
       "                       Date_Added  Likes_Count  Num_Review  Num_Ratings  \\\n",
       "0  Sat Nov 26 10:52:38 -0800 2016            1     22680.0    1713866.0   \n",
       "1  Fri Aug 30 18:56:16 -0700 2013            1     22680.0    1713866.0   \n",
       "2  Sun Apr 19 16:46:01 -0700 2009            2     22680.0    1713866.0   \n",
       "3  Tue Jan 06 15:26:36 -0800 2015            1     22680.0    1713866.0   \n",
       "4  Thu Jun 23 08:09:30 -0700 2016            1     22680.0    1713866.0   \n",
       "\n",
       "   Average_Ratings                                        Author_Name  \\\n",
       "0             4.54  [{'author_id': '1077326', 'role': ''}, {'autho...   \n",
       "1             4.54  [{'author_id': '1077326', 'role': ''}, {'autho...   \n",
       "2             4.54  [{'author_id': '1077326', 'role': ''}, {'autho...   \n",
       "3             4.54  [{'author_id': '1077326', 'role': ''}, {'autho...   \n",
       "4             4.54  [{'author_id': '1077326', 'role': ''}, {'autho...   \n",
       "\n",
       "   Combined_Likes_Count  \n",
       "0                  7439  \n",
       "1                  7439  \n",
       "2                  7439  \n",
       "3                  7439  \n",
       "4                  7439  "
      ]
     },
     "execution_count": 3,
     "metadata": {},
     "output_type": "execute_result"
    }
   ],
   "source": [
    "#Deleting the previous indexing\n",
    "del book_dtf[\"Unnamed: 0\"]\n",
    "\n",
    "book_dtf.head()"
   ]
  },
  {
   "cell_type": "code",
   "execution_count": 4,
   "id": "3e036bc7",
   "metadata": {},
   "outputs": [
    {
     "data": {
      "text/plain": [
       "(2029087, 11)"
      ]
     },
     "execution_count": 4,
     "metadata": {},
     "output_type": "execute_result"
    }
   ],
   "source": [
    "book_dtf.shape"
   ]
  },
  {
   "cell_type": "code",
   "execution_count": 5,
   "id": "7040746e",
   "metadata": {},
   "outputs": [
    {
     "name": "stdout",
     "output_type": "stream",
     "text": [
      "2029087\n"
     ]
    }
   ],
   "source": [
    "#Count the number of review words in each review and store it in a new column called Review_Word_Count\n",
    "list_number = []\n",
    "for i in range(book_dtf.shape[0]):\n",
    "    list_number.append(len(re.findall(r'\\w+', book_dtf[\"Review\"][i])))\n",
    "\n",
    "print(len(list_number))\n",
    "\n",
    "book_dtf[\"Review_Word_Count\"] = list_number"
   ]
  },
  {
   "cell_type": "code",
   "execution_count": 6,
   "id": "7b4056fb",
   "metadata": {},
   "outputs": [
    {
     "name": "stdout",
     "output_type": "stream",
     "text": [
      "(2029087, 13)\n"
     ]
    }
   ],
   "source": [
    "#To determine if a review is popular or not, we will use a variable called Ratio\n",
    "    #Ratio = Combined Likes and Comments on the review / Total number of combined likes and reviews of the book\n",
    "    #Ratio will tell us the relative popularity of the review, and allows a fair comparison between reviews on different books with varying number of readers\n",
    "    \n",
    "book_dtf[\"Ratio\"] = book_dtf[\"Likes_Count\"]/book_dtf[\"Combined_Likes_Count\"]\n",
    "print(book_dtf.shape)"
   ]
  },
  {
   "cell_type": "code",
   "execution_count": 7,
   "id": "87a78c51",
   "metadata": {},
   "outputs": [
    {
     "name": "stdout",
     "output_type": "stream",
     "text": [
      "(2029087, 14)\n"
     ]
    }
   ],
   "source": [
    "#Books with Ratio less than 0.02 will be considered as unpopular, while those above 0.02 will be considered as popular\n",
    "#We will label unpopular with 0 and popular with 1\n",
    "\n",
    "book_dtf[\"Popularity\"] = np.where(book_dtf[\"Ratio\"]> 0.02 ,1,0)\n",
    "print(book_dtf.shape)"
   ]
  },
  {
   "cell_type": "code",
   "execution_count": 8,
   "id": "3a9078f3",
   "metadata": {},
   "outputs": [
    {
     "data": {
      "text/plain": [
       "0    1659872\n",
       "1     369215\n",
       "Name: Popularity, dtype: int64"
      ]
     },
     "execution_count": 8,
     "metadata": {},
     "output_type": "execute_result"
    }
   ],
   "source": [
    "book_dtf[\"Popularity\"].value_counts()"
   ]
  },
  {
   "cell_type": "code",
   "execution_count": 9,
   "id": "f35afb41",
   "metadata": {},
   "outputs": [
    {
     "name": "stdout",
     "output_type": "stream",
     "text": [
      "User_ID\n",
      "0000c3d51aa099745e93a4e99c4856c8    57\n",
      "0001085188e302fc6b2568de45a5f56b     2\n",
      "000192962b87d560f00b06fdcbd71681     4\n",
      "000253cf1077f203bca050637f2ec7f7     9\n",
      "000259bcbae87b5fd301a6f507ac3f49     1\n",
      "                                    ..\n",
      "ffff483c0ce66e6475445eab566bb48f     6\n",
      "ffff601c0ffa34bd5ffbbf2caee30644    15\n",
      "ffff7cafdaf5196383cb2efca08fb6fe    98\n",
      "ffffbb062a8b208c9c1031b529c08f7a     2\n",
      "fffff8a718843c0e11dfd93fb41c1297     3\n",
      "Name: User_Reviews, Length: 130539, dtype: int64\n"
     ]
    }
   ],
   "source": [
    "# Calculate Number of Reviews made by each user\n",
    "User_Reviews = book_dtf.groupby(\"User_ID\")[\"Book_ID\"].count().rename(\"User_Reviews\")\n",
    "print(User_Reviews)"
   ]
  },
  {
   "cell_type": "code",
   "execution_count": 10,
   "id": "24716244",
   "metadata": {},
   "outputs": [],
   "source": [
    "book_dtf = book_dtf.merge(User_Reviews,on='User_ID')"
   ]
  },
  {
   "cell_type": "code",
   "execution_count": 11,
   "id": "9e549239",
   "metadata": {},
   "outputs": [],
   "source": [
    "#Keeping only the columns that we need\n",
    "book_dtf = book_dtf[[\"Book_ID\", \"User_Reviews\", \"Stars_Ratings\", \"Average_Ratings\", \"Num_Ratings\", \"Review\", \"Combined_Likes_Count\", \"Likes_Count\", \"Ratio\", \"Popularity\"]]"
   ]
  },
  {
   "cell_type": "code",
   "execution_count": 12,
   "id": "bc97ce6c",
   "metadata": {},
   "outputs": [
    {
     "data": {
      "text/html": [
       "<div>\n",
       "<style scoped>\n",
       "    .dataframe tbody tr th:only-of-type {\n",
       "        vertical-align: middle;\n",
       "    }\n",
       "\n",
       "    .dataframe tbody tr th {\n",
       "        vertical-align: top;\n",
       "    }\n",
       "\n",
       "    .dataframe thead th {\n",
       "        text-align: right;\n",
       "    }\n",
       "</style>\n",
       "<table border=\"1\" class=\"dataframe\">\n",
       "  <thead>\n",
       "    <tr style=\"text-align: right;\">\n",
       "      <th></th>\n",
       "      <th>Book_ID</th>\n",
       "      <th>User_Reviews</th>\n",
       "      <th>Stars_Ratings</th>\n",
       "      <th>Average_Ratings</th>\n",
       "      <th>Num_Ratings</th>\n",
       "      <th>Review</th>\n",
       "      <th>Combined_Likes_Count</th>\n",
       "      <th>Likes_Count</th>\n",
       "      <th>Ratio</th>\n",
       "      <th>Popularity</th>\n",
       "    </tr>\n",
       "  </thead>\n",
       "  <tbody>\n",
       "    <tr>\n",
       "      <th>0</th>\n",
       "      <td>1</td>\n",
       "      <td>18</td>\n",
       "      <td>5</td>\n",
       "      <td>4.54</td>\n",
       "      <td>1713866.0</td>\n",
       "      <td>\"I am the Half-blood prince\". \\n Read to find ...</td>\n",
       "      <td>7439</td>\n",
       "      <td>1</td>\n",
       "      <td>0.000134</td>\n",
       "      <td>0</td>\n",
       "    </tr>\n",
       "    <tr>\n",
       "      <th>1</th>\n",
       "      <td>2</td>\n",
       "      <td>18</td>\n",
       "      <td>5</td>\n",
       "      <td>4.47</td>\n",
       "      <td>1766895.0</td>\n",
       "      <td>** spoiler alert ** \\n A little memorial for m...</td>\n",
       "      <td>23232</td>\n",
       "      <td>1</td>\n",
       "      <td>0.000043</td>\n",
       "      <td>0</td>\n",
       "    </tr>\n",
       "    <tr>\n",
       "      <th>2</th>\n",
       "      <td>6</td>\n",
       "      <td>18</td>\n",
       "      <td>5</td>\n",
       "      <td>4.53</td>\n",
       "      <td>1792561.0</td>\n",
       "      <td>One of my fav books!!</td>\n",
       "      <td>11254</td>\n",
       "      <td>1</td>\n",
       "      <td>0.000089</td>\n",
       "      <td>0</td>\n",
       "    </tr>\n",
       "    <tr>\n",
       "      <th>3</th>\n",
       "      <td>24770</td>\n",
       "      <td>18</td>\n",
       "      <td>5</td>\n",
       "      <td>3.86</td>\n",
       "      <td>457310.0</td>\n",
       "      <td>** spoiler alert ** \\n Oh my goodness, it was ...</td>\n",
       "      <td>4130</td>\n",
       "      <td>7</td>\n",
       "      <td>0.001695</td>\n",
       "      <td>0</td>\n",
       "    </tr>\n",
       "    <tr>\n",
       "      <th>4</th>\n",
       "      <td>47281</td>\n",
       "      <td>18</td>\n",
       "      <td>4</td>\n",
       "      <td>4.11</td>\n",
       "      <td>338446.0</td>\n",
       "      <td>I thought this was a great and educational boo...</td>\n",
       "      <td>1449</td>\n",
       "      <td>2</td>\n",
       "      <td>0.001380</td>\n",
       "      <td>0</td>\n",
       "    </tr>\n",
       "  </tbody>\n",
       "</table>\n",
       "</div>"
      ],
      "text/plain": [
       "   Book_ID  User_Reviews  Stars_Ratings  Average_Ratings  Num_Ratings  \\\n",
       "0        1            18              5             4.54    1713866.0   \n",
       "1        2            18              5             4.47    1766895.0   \n",
       "2        6            18              5             4.53    1792561.0   \n",
       "3    24770            18              5             3.86     457310.0   \n",
       "4    47281            18              4             4.11     338446.0   \n",
       "\n",
       "                                              Review  Combined_Likes_Count  \\\n",
       "0  \"I am the Half-blood prince\". \\n Read to find ...                  7439   \n",
       "1  ** spoiler alert ** \\n A little memorial for m...                 23232   \n",
       "2                              One of my fav books!!                 11254   \n",
       "3  ** spoiler alert ** \\n Oh my goodness, it was ...                  4130   \n",
       "4  I thought this was a great and educational boo...                  1449   \n",
       "\n",
       "   Likes_Count     Ratio  Popularity  \n",
       "0            1  0.000134           0  \n",
       "1            1  0.000043           0  \n",
       "2            1  0.000089           0  \n",
       "3            7  0.001695           0  \n",
       "4            2  0.001380           0  "
      ]
     },
     "execution_count": 12,
     "metadata": {},
     "output_type": "execute_result"
    }
   ],
   "source": [
    "book_dtf.head()"
   ]
  },
  {
   "cell_type": "code",
   "execution_count": 13,
   "id": "986c16b0",
   "metadata": {},
   "outputs": [
    {
     "data": {
      "text/plain": [
       "(2029087, 10)"
      ]
     },
     "execution_count": 13,
     "metadata": {},
     "output_type": "execute_result"
    }
   ],
   "source": [
    "book_dtf.shape"
   ]
  },
  {
   "cell_type": "code",
   "execution_count": 14,
   "id": "cd4cd7f7",
   "metadata": {},
   "outputs": [],
   "source": [
    "book_dtf.to_csv('Cleaned_Data.csv', encoding='utf-8')"
   ]
  },
  {
   "cell_type": "code",
   "execution_count": null,
   "id": "bdfcdfa8",
   "metadata": {},
   "outputs": [],
   "source": []
  }
 ],
 "metadata": {
  "kernelspec": {
   "display_name": "Python 3 (ipykernel)",
   "language": "python",
   "name": "python3"
  },
  "language_info": {
   "codemirror_mode": {
    "name": "ipython",
    "version": 3
   },
   "file_extension": ".py",
   "mimetype": "text/x-python",
   "name": "python",
   "nbconvert_exporter": "python",
   "pygments_lexer": "ipython3",
   "version": "3.9.7"
  }
 },
 "nbformat": 4,
 "nbformat_minor": 5
}
