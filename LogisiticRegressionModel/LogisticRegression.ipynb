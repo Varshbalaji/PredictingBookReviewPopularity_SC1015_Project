{
 "cells": [
  {
   "cell_type": "code",
   "execution_count": 274,
   "id": "b4eed9b9",
   "metadata": {},
   "outputs": [],
   "source": [
    "import sys\n",
    "import pandas as pd\n",
    "import numpy as np\n",
    "import statsmodels.api as sm\n",
    "from sklearn.model_selection import train_test_split, ShuffleSplit, GridSearchCV\n",
    "from sklearn.metrics import classification_report, confusion_matrix, roc_auc_score\n",
    "from sklearn.pipeline import make_pipeline\n",
    "from sklearn.compose import ColumnTransformer\n",
    "from sklearn.feature_extraction.text import CountVectorizer\n",
    "from sklearn.preprocessing import StandardScaler\n",
    "from sklearn.linear_model import LogisticRegression"
   ]
  },
  {
   "cell_type": "code",
   "execution_count": 275,
   "id": "157e3383",
   "metadata": {},
   "outputs": [],
   "source": [
    "book_dtf = pd.read_csv(\"NLTK.csv\")"
   ]
  },
  {
   "cell_type": "code",
   "execution_count": 276,
   "id": "f287c090",
   "metadata": {},
   "outputs": [],
   "source": [
    "#tells us how/what format numpy objects are printed\n",
    "np.set_printoptions(threshold=sys.maxsize)\n"
   ]
  },
  {
   "cell_type": "code",
   "execution_count": 284,
   "id": "4b5ec700",
   "metadata": {},
   "outputs": [],
   "source": [
    "# train and test data splitting into 85% and 15%\n",
    "Train_X,Test_X, Train_Y, Test_Y = train_test_split(DataF.drop(columns=[\"Popularity\"]), \n",
    "                                                    DataF[\"Popularity\"],\n",
    "                                                    test_size = 0.15,\n",
    "                                                    random_state = 229)"
   ]
  },
  {
   "cell_type": "code",
   "execution_count": 285,
   "id": "5477d22f",
   "metadata": {},
   "outputs": [],
   "source": [
    "#First Subset is just non-Textual features, Second Subset is Textual and Non Textual Features \n",
    "#Third Subset is only Non Textual Features\n",
    "#splitting our features where Popularity is our dependent variable and the others our the indepedent variables predicting the dependent variable \n",
    "First_Subset = [\"User_Reviews\",\"Stars_Ratings\",\"Diff_Ratings\"]\n",
    "Third_Subset = [\"User_Reviews\",\"Stars_Ratings\",\"Diff_Ratings\",\n",
    "            \"Num_Tokenized_Words\",\"Average_WordLength\",\"Average_WordsinSentence\",\"Percentage_Verbs\",\n",
    "            \"Percentage_Nouns\",\"Percentage_AdjAdverb\",\"Quote\",\"Sentiment_Score\"]\n"
   ]
  },
  {
   "cell_type": "code",
   "execution_count": 286,
   "id": "a33856b7",
   "metadata": {},
   "outputs": [],
   "source": [
    "DataF.columns = DataF.columns.to_series().apply(lambda x: x.strip())"
   ]
  },
  {
   "cell_type": "code",
   "execution_count": 287,
   "id": "7835cb8b",
   "metadata": {},
   "outputs": [
    {
     "name": "stderr",
     "output_type": "stream",
     "text": [
      "C:\\Users\\varsh\\anaconda3\\lib\\site-packages\\statsmodels\\tsa\\tsatools.py:142: FutureWarning: In a future version of pandas all arguments of concat except for the argument 'objs' will be keyword-only\n",
      "  x = pd.concat(x[::order], 1)\n"
     ]
    },
    {
     "name": "stdout",
     "output_type": "stream",
     "text": [
      "Optimization terminated successfully.\n",
      "         Current function value: 0.455958\n",
      "         Iterations 6\n"
     ]
    }
   ],
   "source": [
    "# Creating Logisitic Regression classifier object, fittting the model with data on train set and predicting based on test set\n",
    "# training our data where we add a column of ones to the array Subset 1\n",
    "LogisticRegression_Var = sm.Logit(Train_Y, sm.add_constant(Train_X[First_Subset])).fit()"
   ]
  },
  {
   "cell_type": "code",
   "execution_count": 288,
   "id": "e332719e",
   "metadata": {},
   "outputs": [],
   "source": [
    "#Predicting based on train data set \n",
    "y_train_pred=LogisticRegression_Var.predict(sm.add_constant(Train_X[First_Subset]))\n",
    "y_train_pred=list(map(round,y_train_pred))"
   ]
  },
  {
   "cell_type": "code",
   "execution_count": 289,
   "id": "ddb7c89e",
   "metadata": {},
   "outputs": [
    {
     "data": {
      "text/plain": [
       "<AxesSubplot:>"
      ]
     },
     "execution_count": 289,
     "metadata": {},
     "output_type": "execute_result"
    },
    {
     "data": {
      "image/png": "[encoded data removed]",
      "text/plain": [
       "<Figure size 432x288 with 2 Axes>"
      ]
     },
     "metadata": {
      "needs_background": "light"
     },
     "output_type": "display_data"
    }
   ],
   "source": [
    "# Plot the two-way Confusion Matrix\n",
    "import seaborn as sb\n",
    "sb.heatmap(confusion_matrix(Train_Y, y_train_pred), \n",
    "           annot = True, fmt=\".0f\", annot_kws={\"size\": 18})"
   ]
  },
  {
   "cell_type": "code",
   "execution_count": 290,
   "id": "7e33c104",
   "metadata": {},
   "outputs": [
    {
     "name": "stdout",
     "output_type": "stream",
     "text": [
      "Train Data:\n",
      "Accuracy  :\t 0.8139125938010908\n",
      "TPR Train :\t 0.048178569656062334\n",
      "TNR Train :\t 0.9870592608698702\n",
      "FPR Train :\t 0.012940739130129829\n",
      "FNR Train :\t 0.9518214303439376\n"
     ]
    }
   ],
   "source": [
    "confusion_matrix_train = confusion_matrix(Train_Y, y_train_pred)\n",
    "#Calculate accuracy of the prediction on train data\n",
    "\n",
    "#Accuracy = (TP+TN)/Total data\n",
    "accuracy = (confusion_matrix_train[1][1]+confusion_matrix_train[0][0])/(confusion_matrix_train[1][1]+confusion_matrix_train[1][0]+confusion_matrix_train[0][1]+confusion_matrix_train[0][0])\n",
    "#TPR (True Positive Rate) = TP/(TP+FN)\n",
    "TPR = confusion_matrix_train[1][1]/(confusion_matrix_train[1][1]+confusion_matrix_train[1][0])\n",
    "#TNR (True Negative Rate) = TN/(TN+FP)\n",
    "TNR = confusion_matrix_train[0][0]/(confusion_matrix_train[0][0]+ confusion_matrix_train[0][1])\n",
    "#FPR (False Positive Rate) = FP/(TN+FP)\n",
    "FPR = confusion_matrix_train[0][1]/(confusion_matrix_train[0][1]+confusion_matrix_train[0][0])\n",
    "#FNR (False Negative Rate) = FN/(TP+FN)\n",
    "FNR = confusion_matrix_train[1][0]/(confusion_matrix_train[1][0]+confusion_matrix_train[1][1])\n",
    "\n",
    "print(\"Train Data:\")\n",
    "print(\"Accuracy  :\\t\", accuracy)\n",
    "print(\"TPR Train :\\t\", TPR)\n",
    "print(\"TNR Train :\\t\", TNR)\n",
    "print(\"FPR Train :\\t\", FPR)\n",
    "print(\"FNR Train :\\t\", FNR)"
   ]
  },
  {
   "cell_type": "markdown",
   "id": "1d1861f0",
   "metadata": {},
   "source": [
    "We observe a high TNR and a High FNR. The TPR and FPR are low. High TNR indicates a higher percentage of the model predicting review is not popular meanwhile Low TPR means lower percentage of the model predicting tthe review is popular\n",
    "\n",
    "High FNR theres a high chance that popular reviews is predicted as not-popular (maybe because of distribution again) Low FPR means theres a low chance that not-popular reviews is predicted as popular"
   ]
  },
  {
   "cell_type": "code",
   "execution_count": 291,
   "id": "0bf217df",
   "metadata": {},
   "outputs": [
    {
     "name": "stdout",
     "output_type": "stream",
     "text": [
      "                           Logit Regression Results                           \n",
      "==============================================================================\n",
      "Dep. Variable:             Popularity   No. Observations:               874057\n",
      "Model:                          Logit   Df Residuals:                   874053\n",
      "Method:                           MLE   Df Model:                            3\n",
      "Date:                Fri, 22 Apr 2022   Pseudo R-squ.:                 0.04617\n",
      "Time:                        17:55:16   Log-Likelihood:            -3.9853e+05\n",
      "converged:                       True   LL-Null:                   -4.1782e+05\n",
      "Covariance Type:            nonrobust   LLR p-value:                     0.000\n",
      "=================================================================================\n",
      "                    coef    std err          z      P>|z|      [0.025      0.975]\n",
      "---------------------------------------------------------------------------------\n",
      "const             1.1262      0.038     29.588      0.000       1.052       1.201\n",
      "User_Reviews      0.0016   8.92e-06    175.171      0.000       0.002       0.002\n",
      "Stars_Ratings    -0.7409      0.010    -77.367      0.000      -0.760      -0.722\n",
      "Diff_Ratings      0.7252      0.010     72.786      0.000       0.706       0.745\n",
      "=================================================================================\n"
     ]
    }
   ],
   "source": [
    "print(LogisticRegression_Var.summary())"
   ]
  },
  {
   "cell_type": "code",
   "execution_count": 292,
   "id": "bdd8d8fe",
   "metadata": {},
   "outputs": [
    {
     "name": "stderr",
     "output_type": "stream",
     "text": [
      "C:\\Users\\varsh\\anaconda3\\lib\\site-packages\\statsmodels\\tsa\\tsatools.py:142: FutureWarning: In a future version of pandas all arguments of concat except for the argument 'objs' will be keyword-only\n",
      "  x = pd.concat(x[::order], 1)\n"
     ]
    }
   ],
   "source": [
    "# making our prediction on Test set, adding of constant column ensures that we have a consistent set of variables . checking how good our predicition is on Test set\n",
    "X_Test= Test_X[First_Subset]\n",
    "PredictingVar = LogisticRegression_Var.predict(sm.add_constant(X_Test))\n",
    "PredictingVar = list(map(round,PredictingVar))"
   ]
  },
  {
   "cell_type": "code",
   "execution_count": 293,
   "id": "46636920",
   "metadata": {},
   "outputs": [
    {
     "data": {
      "text/plain": [
       "['Tokenized_Words']"
      ]
     },
     "execution_count": 293,
     "metadata": {},
     "output_type": "execute_result"
    }
   ],
   "source": [
    "DataF.select_dtypes(include=['object']).columns.tolist()"
   ]
  },
  {
   "cell_type": "code",
   "execution_count": 294,
   "id": "bb00418a",
   "metadata": {},
   "outputs": [
    {
     "data": {
      "text/plain": [
       "<AxesSubplot:>"
      ]
     },
     "execution_count": 294,
     "metadata": {},
     "output_type": "execute_result"
    },
    {
     "data": {
      "image/png": "[encoded data removed]",
      "text/plain": [
       "<Figure size 432x288 with 2 Axes>"
      ]
     },
     "metadata": {
      "needs_background": "light"
     },
     "output_type": "display_data"
    }
   ],
   "source": [
    "# Plot the two-way Confusion Matrix\n",
    "import seaborn as sb\n",
    "sb.heatmap(confusion_matrix(Test_Y, PredictingVar), \n",
    "           annot = True, fmt=\".0f\", annot_kws={\"size\": 18})\n"
   ]
  },
  {
   "cell_type": "code",
   "execution_count": 295,
   "id": "158cd457",
   "metadata": {},
   "outputs": [],
   "source": [
    "confusion_matrix_test = confusion_matrix(Test_Y, PredictingVar)"
   ]
  },
  {
   "cell_type": "code",
   "execution_count": 296,
   "id": "375f219a",
   "metadata": {},
   "outputs": [],
   "source": [
    "#Calculate accuracy of the prediction on train data\n",
    "\n",
    "#Accuracy = (TP+TN)/Total data\n",
    "accuracy = (confusion_matrix_test[1][1]+confusion_matrix_test[0][0])/(confusion_matrix_test[1][1]+confusion_matrix_test[1][0]+confusion_matrix_test[0][1]+confusion_matrix_test[0][0])\n"
   ]
  },
  {
   "cell_type": "code",
   "execution_count": 297,
   "id": "2a906cdd",
   "metadata": {},
   "outputs": [],
   "source": [
    "#TPR (True Positive Rate) = TP/(TP+FN)\n",
    "TPR = confusion_matrix_test[1][1]/(confusion_matrix_test[1][1]+confusion_matrix_test[1][0])"
   ]
  },
  {
   "cell_type": "code",
   "execution_count": 298,
   "id": "ad33cac0",
   "metadata": {},
   "outputs": [],
   "source": [
    "#TNR (True Negative Rate) = TN/(TN+FP)\n",
    "TNR = confusion_matrix_test[0][0]/(confusion_matrix_test[0][0]+ confusion_matrix_test[0][1])"
   ]
  },
  {
   "cell_type": "code",
   "execution_count": 299,
   "id": "e1a6c39b",
   "metadata": {},
   "outputs": [],
   "source": [
    "#FPR (False Positive Rate) = FP/(TN+FP)\n",
    "FPR = confusion_matrix_test[0][1]/(confusion_matrix_test[0][1]+confusion_matrix_test[0][0])"
   ]
  },
  {
   "cell_type": "code",
   "execution_count": 300,
   "id": "0e4f1491",
   "metadata": {},
   "outputs": [],
   "source": [
    "#FNR (False Negative Rate) = FN/(TP+FN)\n",
    "FNR = confusion_matrix_test[1][0]/(confusion_matrix_test[1][0]+confusion_matrix_test[1][1])"
   ]
  },
  {
   "cell_type": "code",
   "execution_count": 301,
   "id": "29878ee4",
   "metadata": {},
   "outputs": [
    {
     "name": "stdout",
     "output_type": "stream",
     "text": [
      "Test Data:\n",
      "Accuracy  :\t 0.8159174305978761\n",
      "TPR Train :\t 0.05202906255537834\n",
      "TNR Train :\t 0.9869317866239259\n",
      "FPR Train :\t 0.013068213376074141\n",
      "FNR Train :\t 0.9479709374446217\n"
     ]
    }
   ],
   "source": [
    "print(\"Test Data:\")\n",
    "print(\"Accuracy  :\\t\", accuracy)\n",
    "print(\"TPR Train :\\t\", TPR)\n",
    "print(\"TNR Train :\\t\", TNR)\n",
    "print(\"FPR Train :\\t\", FPR)\n",
    "print(\"FNR Train :\\t\", FNR)"
   ]
  },
  {
   "cell_type": "code",
   "execution_count": null,
   "id": "fe87db4d",
   "metadata": {},
   "outputs": [],
   "source": []
  },
  {
   "cell_type": "markdown",
   "id": "9955da7c",
   "metadata": {},
   "source": [
    "ANALYSIS OF PREDICTION BASED ON TEST DATA:\n",
    "Overfitting does not take place as our values are similar to ones obtained in our analysis of Train data"
   ]
  },
  {
   "cell_type": "markdown",
   "id": "28570451",
   "metadata": {},
   "source": [
    "USING TEXTUAL FEATURES: SUBSET 2"
   ]
  },
  {
   "cell_type": "code",
   "execution_count": 302,
   "id": "d365293f",
   "metadata": {},
   "outputs": [],
   "source": [
    " Second_Subset=[\"Num_Tokenized_Words\",\"Average_WordLength\",\"Average_WordsinSentence\",\"Percentage_Verbs\",\n",
    "            \"Percentage_Nouns\",\"Percentage_AdjAdverb\",\"Quote\",\"Sentiment_Score\"]"
   ]
  },
  {
   "cell_type": "code",
   "execution_count": 303,
   "id": "579855e2",
   "metadata": {},
   "outputs": [],
   "source": [
    "#Split the dataset into 85% train set and 15% test set\n",
    "#Integer is inserted to random_state to reproduce the same split everytime it is run\n",
    "X_train, X_test, y_train, y_test = train_test_split(DataF.drop(columns=[\"Popularity\"]), DataF[\"Popularity\"],\n",
    "                                                    test_size = 0.15, random_state = 229)"
   ]
  },
  {
   "cell_type": "code",
   "execution_count": 304,
   "id": "f5404f82",
   "metadata": {},
   "outputs": [],
   "source": [
    "DataF.columns = DataF.columns.to_series().apply(lambda x: x.strip())"
   ]
  },
  {
   "cell_type": "code",
   "execution_count": 305,
   "id": "74601c08",
   "metadata": {},
   "outputs": [
    {
     "name": "stderr",
     "output_type": "stream",
     "text": [
      "C:\\Users\\varsh\\anaconda3\\lib\\site-packages\\statsmodels\\tsa\\tsatools.py:142: FutureWarning: In a future version of pandas all arguments of concat except for the argument 'objs' will be keyword-only\n",
      "  x = pd.concat(x[::order], 1)\n"
     ]
    },
    {
     "name": "stdout",
     "output_type": "stream",
     "text": [
      "Optimization terminated successfully.\n",
      "         Current function value: 0.462236\n",
      "         Iterations 6\n"
     ]
    }
   ],
   "source": [
    "# Creating Logisitic Regression classifier object, fittting the model with data on train set and predicting based on test set\n",
    "# training our data where we add a column of ones to the array Subset 1\n",
    "LogisticRegression_Var = sm.Logit(y_train, sm.add_constant(X_train[Second_Subset])).fit()"
   ]
  },
  {
   "cell_type": "code",
   "execution_count": 306,
   "id": "2a6bcf7b",
   "metadata": {},
   "outputs": [],
   "source": [
    "#Predicting based on train data set \n",
    "y_train_pred=LogisticRegression_Var.predict(sm.add_constant(X_train[Second_Subset]))\n",
    "y_train_pred=list(map(round,y_train_pred))"
   ]
  },
  {
   "cell_type": "code",
   "execution_count": 307,
   "id": "ab01cdaf",
   "metadata": {},
   "outputs": [
    {
     "data": {
      "text/plain": [
       "<AxesSubplot:>"
      ]
     },
     "execution_count": 307,
     "metadata": {},
     "output_type": "execute_result"
    },
    {
     "data": {
      "image/png": "[encoded data removed]",
      "text/plain": [
       "<Figure size 432x288 with 2 Axes>"
      ]
     },
     "metadata": {
      "needs_background": "light"
     },
     "output_type": "display_data"
    }
   ],
   "source": [
    "# Plot the two-way Confusion Matrix\n",
    "import seaborn as sb\n",
    "sb.heatmap(confusion_matrix(y_train, y_train_pred), \n",
    "           annot = True, fmt=\".0f\", annot_kws={\"size\": 18})"
   ]
  },
  {
   "cell_type": "code",
   "execution_count": 308,
   "id": "58a283d4",
   "metadata": {},
   "outputs": [
    {
     "name": "stdout",
     "output_type": "stream",
     "text": [
      "Train Data:\n",
      "Accuracy  :\t 0.8150257935123224\n",
      "TPR Train :\t 0.01421286416199315\n",
      "TNR Train :\t 0.9961044517545398\n",
      "FPR Train :\t 0.0038955482454602203\n",
      "FNR Train :\t 0.9857871358380068\n"
     ]
    }
   ],
   "source": [
    "confusion_matrix_train = confusion_matrix(y_train, y_train_pred)\n",
    "#Calculate accuracy of the prediction on train data\n",
    "\n",
    "#Accuracy = (TP+TN)/Total data\n",
    "accuracy = (confusion_matrix_train[1][1]+confusion_matrix_train[0][0])/(confusion_matrix_train[1][1]+confusion_matrix_train[1][0]+confusion_matrix_train[0][1]+confusion_matrix_train[0][0])\n",
    "#TPR (True Positive Rate) = TP/(TP+FN)\n",
    "TPR = confusion_matrix_train[1][1]/(confusion_matrix_train[1][1]+confusion_matrix_train[1][0])\n",
    "#TNR (True Negative Rate) = TN/(TN+FP)\n",
    "TNR = confusion_matrix_train[0][0]/(confusion_matrix_train[0][0]+ confusion_matrix_train[0][1])\n",
    "#FPR (False Positive Rate) = FP/(TN+FP)\n",
    "FPR = confusion_matrix_train[0][1]/(confusion_matrix_train[0][1]+confusion_matrix_train[0][0])\n",
    "#FNR (False Negative Rate) = FN/(TP+FN)\n",
    "FNR = confusion_matrix_train[1][0]/(confusion_matrix_train[1][0]+confusion_matrix_train[1][1])\n",
    "\n",
    "print(\"Train Data:\")\n",
    "print(\"Accuracy  :\\t\", accuracy)\n",
    "print(\"TPR Train :\\t\", TPR)\n",
    "print(\"TNR Train :\\t\", TNR)\n",
    "print(\"FPR Train :\\t\", FPR)\n",
    "print(\"FNR Train :\\t\", FNR)"
   ]
  },
  {
   "cell_type": "code",
   "execution_count": 309,
   "id": "59e10956",
   "metadata": {},
   "outputs": [
    {
     "name": "stderr",
     "output_type": "stream",
     "text": [
      "C:\\Users\\varsh\\anaconda3\\lib\\site-packages\\statsmodels\\tsa\\tsatools.py:142: FutureWarning: In a future version of pandas all arguments of concat except for the argument 'objs' will be keyword-only\n",
      "  x = pd.concat(x[::order], 1)\n"
     ]
    }
   ],
   "source": [
    "# making our prediction on Test set, adding of constant column ensures that we have a consistent set of variables . checking how good our predicition is on Test set\n",
    "X_Test= X_test[Second_Subset]\n",
    "PredictingVar = LogisticRegression_Var.predict(sm.add_constant(X_Test))\n",
    "PredictingVar = list(map(round,PredictingVar))"
   ]
  },
  {
   "cell_type": "code",
   "execution_count": 310,
   "id": "26a61b86",
   "metadata": {},
   "outputs": [
    {
     "data": {
      "text/plain": [
       "<AxesSubplot:>"
      ]
     },
     "execution_count": 310,
     "metadata": {},
     "output_type": "execute_result"
    },
    {
     "data": {
      "image/png": "[encoded data removed]",
      "text/plain": [
       "<Figure size 432x288 with 2 Axes>"
      ]
     },
     "metadata": {
      "needs_background": "light"
     },
     "output_type": "display_data"
    }
   ],
   "source": [
    "# Plot the two-way Confusion Matrix\n",
    "import seaborn as sb\n",
    "sb.heatmap(confusion_matrix(y_test, PredictingVar), \n",
    "           annot = True, fmt=\".0f\", annot_kws={\"size\": 18})"
   ]
  },
  {
   "cell_type": "code",
   "execution_count": 311,
   "id": "b5eb3c2e",
   "metadata": {},
   "outputs": [],
   "source": [
    "confusion_matrix_test = confusion_matrix(y_test, PredictingVar)"
   ]
  },
  {
   "cell_type": "code",
   "execution_count": 312,
   "id": "75ec5b9e",
   "metadata": {},
   "outputs": [],
   "source": [
    "#Calculate accuracy of the prediction on train data\n",
    "\n",
    "#Accuracy = (TP+TN)/Total data\n",
    "accuracy = (confusion_matrix_test[1][1]+confusion_matrix_test[0][0])/(confusion_matrix_test[1][1]+confusion_matrix_test[1][0]+confusion_matrix_test[0][1]+confusion_matrix_test[0][0])\n"
   ]
  },
  {
   "cell_type": "code",
   "execution_count": 313,
   "id": "1d1256d8",
   "metadata": {},
   "outputs": [
    {
     "name": "stdout",
     "output_type": "stream",
     "text": [
      "Test Data:\n",
      "Accuracy  :\t 0.8164295994709749\n",
      "TPR Train :\t 0.01364522417153996\n",
      "TNR Train :\t 0.9961517404448113\n",
      "FPR Train :\t 0.0038482595551888026\n",
      "FNR Train :\t 0.98635477582846\n"
     ]
    }
   ],
   "source": [
    "#Accuracy = (TP+TN)/Total data\n",
    "accuracy = (confusion_matrix_test[1][1]+confusion_matrix_test[0][0])/(confusion_matrix_test[1][1]+confusion_matrix_test[1][0]+confusion_matrix_test[0][1]+confusion_matrix_test[0][0])\n",
    "#TPR (True Positive Rate) = TP/(TP+FN)\n",
    "TPR = confusion_matrix_test[1][1]/(confusion_matrix_test[1][1]+confusion_matrix_test[1][0])\n",
    "#TNR (True Negative Rate) = TN/(TN+FP)\n",
    "TNR = confusion_matrix_test[0][0]/(confusion_matrix_test[0][0]+ confusion_matrix_test[0][1])\n",
    "#FPR (False Positive Rate) = FP/(TN+FP)\n",
    "FPR = confusion_matrix_test[0][1]/(confusion_matrix_test[0][1]+confusion_matrix_test[0][0])\n",
    "#FNR (False Negative Rate) = FN/(TP+FN)\n",
    "FNR = confusion_matrix_test[1][0]/(confusion_matrix_test[1][0]+confusion_matrix_test[1][1])\n",
    "\n",
    "print(\"Test Data:\")\n",
    "print(\"Accuracy  :\\t\", accuracy)\n",
    "print(\"TPR Train :\\t\", TPR)\n",
    "print(\"TNR Train :\\t\", TNR)\n",
    "print(\"FPR Train :\\t\", FPR)\n",
    "print(\"FNR Train :\\t\", FNR)"
   ]
  },
  {
   "cell_type": "markdown",
   "id": "05d058ad",
   "metadata": {},
   "source": [
    "Analysis of train and test data of Textual characteristics\n",
    "Both have high TNR and FNR, and low TPR and FPR\n",
    "\n",
    "Analysis of Textual and Non-Textual prediction\n",
    "Both exhibit same characteristics (high in TNR and FNR, as well as lower in TPR and FPR)\n",
    "\n",
    "Accuracy of prediction with Non-Textual prediction is generally higher (0.82) compared to Textual charactertics(0.81).\n",
    "\n",
    "However, Textual prediction has a higher TNR (0.99) and FNR (0.985) compared to Non-textual prediction \n",
    "\n",
    "Textual prediction has much lower TPR and FPR compared to Non-textual prediction TPR (0.14) and FPR (0.003)\n",
    "\n",
    "This suggest that non-Textual prediction is better at sorting popular reviews \n",
    "\n",
    "It has higher TPR - higher percentage of model predicting correctly when review is popular\n",
    "And lower FNR - less mistake of mis-predicting the popular review as notTex-popular\n",
    "Textual-Reviews on the other hand is much better at handling non-popular reviews\n",
    "\n",
    "Higher TNR - higher percentage of model predicting correctly when review isn't popular\n",
    "and Lower FNR - which means less mistake of mis-predicting non-popular review as popular\n",
    "Conclusion:\n",
    "If we were to choose between Textual or Non-Textual characteristics for prediction, Non-Textual characteritics is better, because it generally has a higher accuracy. Plus, its more accurate in their prediction when the review is popular, when only 18.2% of our dataset is of popular reviews (highly undersampled)"
   ]
  },
  {
   "cell_type": "markdown",
   "id": "a66768a2",
   "metadata": {},
   "source": [
    "COMBINATION OF BOTH NON TEXTUAL AND TEXTUAL"
   ]
  },
  {
   "cell_type": "code",
   "execution_count": 314,
   "id": "4769c963",
   "metadata": {},
   "outputs": [],
   "source": [
    "Third_Subset = [\"User_Reviews\",\"Stars_Ratings\",\"Diff_Ratings\",\n",
    "            \"Num_Tokenized_Words\",\"Average_WordLength\",\"Average_WordsinSentence\",\"Percentage_Verbs\",\n",
    "            \"Percentage_Nouns\",\"Percentage_AdjAdverb\",\"Quote\",\"Sentiment_Score\"]"
   ]
  },
  {
   "cell_type": "code",
   "execution_count": 315,
   "id": "b2cac44f",
   "metadata": {},
   "outputs": [],
   "source": [
    "#Split the dataset into 85% train set and 15% test set\n",
    "#Integer is inserted to random_state to reproduce the same split everytime it is run\n",
    "X_train, X_test, y_train, y_test = train_test_split(DataF.drop(columns=[\"Popularity\"]), DataF[\"Popularity\"],\n",
    "                                                    test_size = 0.15, random_state = 229)"
   ]
  },
  {
   "cell_type": "code",
   "execution_count": 316,
   "id": "614b0b97",
   "metadata": {},
   "outputs": [],
   "source": [
    "DataF.columns = DataF.columns.to_series().apply(lambda x: x.strip())"
   ]
  },
  {
   "cell_type": "code",
   "execution_count": 317,
   "id": "04210f66",
   "metadata": {},
   "outputs": [
    {
     "name": "stderr",
     "output_type": "stream",
     "text": [
      "C:\\Users\\varsh\\anaconda3\\lib\\site-packages\\statsmodels\\tsa\\tsatools.py:142: FutureWarning: In a future version of pandas all arguments of concat except for the argument 'objs' will be keyword-only\n",
      "  x = pd.concat(x[::order], 1)\n"
     ]
    },
    {
     "name": "stdout",
     "output_type": "stream",
     "text": [
      "Optimization terminated successfully.\n",
      "         Current function value: 0.444957\n",
      "         Iterations 6\n"
     ]
    }
   ],
   "source": [
    "# Creating Logisitic Regression classifier object, fittting the model with data on train set and predicting based on test set\n",
    "# training our data where we add a column of ones to the array Subset 1\n",
    "LogisticRegression_Var = sm.Logit(y_train, sm.add_constant(X_train[Third_Subset])).fit()"
   ]
  },
  {
   "cell_type": "code",
   "execution_count": 318,
   "id": "fd16b790",
   "metadata": {},
   "outputs": [],
   "source": [
    "#Predicting based on train data set \n",
    "y_train_pred=LogisticRegression_Var.predict(sm.add_constant(X_train[Third_Subset]))\n",
    "y_train_pred=list(map(round,y_train_pred))"
   ]
  },
  {
   "cell_type": "code",
   "execution_count": 319,
   "id": "67d6ae74",
   "metadata": {},
   "outputs": [
    {
     "data": {
      "text/plain": [
       "<AxesSubplot:>"
      ]
     },
     "execution_count": 319,
     "metadata": {},
     "output_type": "execute_result"
    },
    {
     "data": {
      "image/png": "[encoded data removed]",
      "text/plain": [
       "<Figure size 432x288 with 2 Axes>"
      ]
     },
     "metadata": {
      "needs_background": "light"
     },
     "output_type": "display_data"
    }
   ],
   "source": [
    "# Plot the two-way Confusion Matrix\n",
    "import seaborn as sb\n",
    "sb.heatmap(confusion_matrix(y_train, y_train_pred), \n",
    "           annot = True, fmt=\".0f\", annot_kws={\"size\": 18})"
   ]
  },
  {
   "cell_type": "code",
   "execution_count": 320,
   "id": "8c0621a2",
   "metadata": {},
   "outputs": [
    {
     "name": "stdout",
     "output_type": "stream",
     "text": [
      "Train Data:\n",
      "Accuracy  :\t 0.8172876597292854\n",
      "TPR Train :\t 0.07082237331877513\n",
      "TNR Train :\t 0.9860773077651449\n",
      "FPR Train :\t 0.013922692234855127\n",
      "FNR Train :\t 0.9291776266812248\n"
     ]
    }
   ],
   "source": [
    "confusion_matrix_train = confusion_matrix(y_train, y_train_pred)\n",
    "#Calculate accuracy of the prediction on train data\n",
    "\n",
    "#Accuracy = (TP+TN)/Total data\n",
    "accuracy = (confusion_matrix_train[1][1]+confusion_matrix_train[0][0])/(confusion_matrix_train[1][1]+confusion_matrix_train[1][0]+confusion_matrix_train[0][1]+confusion_matrix_train[0][0])\n",
    "#TPR (True Positive Rate) = TP/(TP+FN)\n",
    "TPR = confusion_matrix_train[1][1]/(confusion_matrix_train[1][1]+confusion_matrix_train[1][0])\n",
    "#TNR (True Negative Rate) = TN/(TN+FP)\n",
    "TNR = confusion_matrix_train[0][0]/(confusion_matrix_train[0][0]+ confusion_matrix_train[0][1])\n",
    "#FPR (False Positive Rate) = FP/(TN+FP)\n",
    "FPR = confusion_matrix_train[0][1]/(confusion_matrix_train[0][1]+confusion_matrix_train[0][0])\n",
    "#FNR (False Negative Rate) = FN/(TP+FN)\n",
    "FNR = confusion_matrix_train[1][0]/(confusion_matrix_train[1][0]+confusion_matrix_train[1][1])\n",
    "\n",
    "print(\"Train Data:\")\n",
    "print(\"Accuracy  :\\t\", accuracy)\n",
    "print(\"TPR Train :\\t\", TPR)\n",
    "print(\"TNR Train :\\t\", TNR)\n",
    "print(\"FPR Train :\\t\", FPR)\n",
    "print(\"FNR Train :\\t\", FNR)"
   ]
  },
  {
   "cell_type": "code",
   "execution_count": 321,
   "id": "71508324",
   "metadata": {},
   "outputs": [
    {
     "name": "stderr",
     "output_type": "stream",
     "text": [
      "C:\\Users\\varsh\\anaconda3\\lib\\site-packages\\statsmodels\\tsa\\tsatools.py:142: FutureWarning: In a future version of pandas all arguments of concat except for the argument 'objs' will be keyword-only\n",
      "  x = pd.concat(x[::order], 1)\n"
     ]
    }
   ],
   "source": [
    "# making our prediction on Test set, adding of constant column ensures that we have a consistent set of variables . checking how good our predicition is on Test set\n",
    "X_Test= X_test[Third_Subset]\n",
    "PredictingVar = LogisticRegression_Var.predict(sm.add_constant(X_Test))\n",
    "PredictingVar = list(map(round,PredictingVar))"
   ]
  },
  {
   "cell_type": "code",
   "execution_count": 322,
   "id": "b161d0ec",
   "metadata": {},
   "outputs": [
    {
     "data": {
      "text/plain": [
       "<AxesSubplot:>"
      ]
     },
     "execution_count": 322,
     "metadata": {},
     "output_type": "execute_result"
    },
    {
     "data": {
      "image/png": "[encoded data removed]",
      "text/plain": [
       "<Figure size 432x288 with 2 Axes>"
      ]
     },
     "metadata": {
      "needs_background": "light"
     },
     "output_type": "display_data"
    }
   ],
   "source": [
    "# Plot the two-way Confusion Matrix\n",
    "import seaborn as sb\n",
    "sb.heatmap(confusion_matrix(y_test, PredictingVar), \n",
    "           annot = True, fmt=\".0f\", annot_kws={\"size\": 18})"
   ]
  },
  {
   "cell_type": "code",
   "execution_count": 323,
   "id": "09c74cdf",
   "metadata": {},
   "outputs": [],
   "source": [
    "confusion_matrix_test = confusion_matrix(y_test, PredictingVar)"
   ]
  },
  {
   "cell_type": "code",
   "execution_count": 324,
   "id": "9d59a73a",
   "metadata": {},
   "outputs": [],
   "source": [
    "#Calculate accuracy of the prediction on train data\n",
    "\n",
    "#Accuracy = (TP+TN)/Total data\n",
    "accuracy = (confusion_matrix_test[1][1]+confusion_matrix_test[0][0])/(confusion_matrix_test[1][1]+confusion_matrix_test[1][0]+confusion_matrix_test[0][1]+confusion_matrix_test[0][0])\n"
   ]
  },
  {
   "cell_type": "code",
   "execution_count": 325,
   "id": "28b11454",
   "metadata": {},
   "outputs": [
    {
     "name": "stdout",
     "output_type": "stream",
     "text": [
      "Test Data:\n",
      "Accuracy  :\t 0.8190812079405625\n",
      "TPR Train :\t 0.0735778841041999\n",
      "TNR Train :\t 0.9859796399298585\n",
      "FPR Train :\t 0.014020360070141473\n",
      "FNR Train :\t 0.9264221158958001\n"
     ]
    }
   ],
   "source": [
    "#Accuracy = (TP+TN)/Total data\n",
    "accuracy = (confusion_matrix_test[1][1]+confusion_matrix_test[0][0])/(confusion_matrix_test[1][1]+confusion_matrix_test[1][0]+confusion_matrix_test[0][1]+confusion_matrix_test[0][0])\n",
    "#TPR (True Positive Rate) = TP/(TP+FN)\n",
    "TPR = confusion_matrix_test[1][1]/(confusion_matrix_test[1][1]+confusion_matrix_test[1][0])\n",
    "#TNR (True Negative Rate) = TN/(TN+FP)\n",
    "TNR = confusion_matrix_test[0][0]/(confusion_matrix_test[0][0]+ confusion_matrix_test[0][1])\n",
    "#FPR (False Positive Rate) = FP/(TN+FP)\n",
    "FPR = confusion_matrix_test[0][1]/(confusion_matrix_test[0][1]+confusion_matrix_test[0][0])\n",
    "#FNR (False Negative Rate) = FN/(TP+FN)\n",
    "FNR = confusion_matrix_test[1][0]/(confusion_matrix_test[1][0]+confusion_matrix_test[1][1])\n",
    "\n",
    "print(\"Test Data:\")\n",
    "print(\"Accuracy  :\\t\", accuracy)\n",
    "print(\"TPR Train :\\t\", TPR)\n",
    "print(\"TNR Train :\\t\", TNR)\n",
    "print(\"FPR Train :\\t\", FPR)\n",
    "print(\"FNR Train :\\t\", FNR)"
   ]
  },
  {
   "cell_type": "markdown",
   "id": "24a47a4d",
   "metadata": {},
   "source": [
    "Analysis of training and testing set for Non-Textual and Textual prediction\n",
    "Has quite high TNR and FNR, and low TPR as well as FPR.\n",
    "\n",
    "Comparison of of Textual, Non-Textual, and Textual+Non-Textual prediction\n",
    "Both exhibit same characteristics (high in TNR and FNR, as well as lower in TPR and FPR)\n",
    "\n",
    "Accuracy of prediction is highest with Textual+Non-Textual prediction.\n",
    "\n",
    "Conclusion:\n",
    "Accuracy of prediction is highest with Textual+Non-Textual prediction."
   ]
  },
  {
   "cell_type": "markdown",
   "id": "4d56fc82",
   "metadata": {},
   "source": [
    "UNDERSAMPLING NON TEXTUAL"
   ]
  },
  {
   "cell_type": "code",
   "execution_count": 326,
   "id": "3fc12cdf",
   "metadata": {},
   "outputs": [],
   "source": [
    "#Undersampling our train data \n",
    "import numpy as np\n",
    "Size_y_train_major = len(y_train[y_train==0])\n",
    "Size_y_train_minor = len(y_train[y_train==1])\n",
    "Size_y_train_indices = y_train[y_train==0].index\n",
    "# generate random number where seed is used to generate the same random number again \n",
    "randomint = np.random.default_rng(seed=229)\n",
    "index_tobedropped = randomint.choice(Size_y_train_indices, Size_y_train_major-Size_y_train_minor, replace=False)\n",
    "X_train = X_train.drop(index_tobedropped)\n",
    "y_train = y_train.drop(index_tobedropped)"
   ]
  },
  {
   "cell_type": "markdown",
   "id": "12e6a929",
   "metadata": {},
   "source": [
    "NON-Textual Subset"
   ]
  },
  {
   "cell_type": "code",
   "execution_count": 327,
   "id": "77635418",
   "metadata": {},
   "outputs": [
    {
     "name": "stderr",
     "output_type": "stream",
     "text": [
      "C:\\Users\\varsh\\anaconda3\\lib\\site-packages\\statsmodels\\tsa\\tsatools.py:142: FutureWarning: In a future version of pandas all arguments of concat except for the argument 'objs' will be keyword-only\n",
      "  x = pd.concat(x[::order], 1)\n"
     ]
    },
    {
     "name": "stdout",
     "output_type": "stream",
     "text": [
      "Optimization terminated successfully.\n",
      "         Current function value: 0.656750\n",
      "         Iterations 5\n"
     ]
    }
   ],
   "source": [
    "# creating Logisitic Regression object and training our data \n",
    "logisticRegressionVar = sm.Logit(y_train, sm.add_constant(X_train[First_Subset])).fit()\n"
   ]
  },
  {
   "cell_type": "code",
   "execution_count": 328,
   "id": "503aa697",
   "metadata": {},
   "outputs": [
    {
     "name": "stdout",
     "output_type": "stream",
     "text": [
      "Train Data:\n",
      "Accuracy  :\t 0.617245272718249\n",
      "TPR Train :\t 0.49220184624547125\n",
      "TNR Train :\t 0.7422886991910268\n",
      "FPR Train :\t 0.25771130080897314\n",
      "FNR Train :\t 0.5077981537545287\n"
     ]
    },
    {
     "data": {
      "image/png": "[encoded data removed]",
      "text/plain": [
       "<Figure size 432x288 with 2 Axes>"
      ]
     },
     "metadata": {
      "needs_background": "light"
     },
     "output_type": "display_data"
    }
   ],
   "source": [
    "PredictingVar = logisticRegressionVar.predict(sm.add_constant(X_train[First_Subset]))\n",
    "PredictingVar = list(map(round,PredictingVar))\n",
    "# Plot the two-way Confusion Matrix\n",
    "import seaborn as sb\n",
    "sb.heatmap(confusion_matrix(y_train, PredictingVar), \n",
    "           annot = True, fmt=\".0f\", annot_kws={\"size\": 18})\n",
    "confusion_matrix_train = confusion_matrix(y_train,PredictingVar )\n",
    "#Calculate accuracy of the prediction on train data\n",
    "\n",
    "#Accuracy = (TP+TN)/Total data\n",
    "accuracy = (confusion_matrix_train[1][1]+confusion_matrix_train[0][0])/(confusion_matrix_train[1][1]+confusion_matrix_train[1][0]+confusion_matrix_train[0][1]+confusion_matrix_train[0][0])\n",
    "#TPR (True Positive Rate) = TP/(TP+FN)\n",
    "TPR = confusion_matrix_train[1][1]/(confusion_matrix_train[1][1]+confusion_matrix_train[1][0])\n",
    "#TNR (True Negative Rate) = TN/(TN+FP)\n",
    "TNR = confusion_matrix_train[0][0]/(confusion_matrix_train[0][0]+ confusion_matrix_train[0][1])\n",
    "#FPR (False Positive Rate) = FP/(TN+FP)\n",
    "FPR = confusion_matrix_train[0][1]/(confusion_matrix_train[0][1]+confusion_matrix_train[0][0])\n",
    "#FNR (False Negative Rate) = FN/(TP+FN)\n",
    "FNR = confusion_matrix_train[1][0]/(confusion_matrix_train[1][0]+confusion_matrix_train[1][1])\n",
    "\n",
    "print(\"Train Data:\")\n",
    "print(\"Accuracy  :\\t\", accuracy)\n",
    "print(\"TPR Train :\\t\", TPR)\n",
    "print(\"TNR Train :\\t\", TNR)\n",
    "print(\"FPR Train :\\t\", FPR)\n",
    "print(\"FNR Train :\\t\", FNR)"
   ]
  },
  {
   "cell_type": "code",
   "execution_count": 329,
   "id": "fda98c21",
   "metadata": {},
   "outputs": [
    {
     "name": "stderr",
     "output_type": "stream",
     "text": [
      "C:\\Users\\varsh\\anaconda3\\lib\\site-packages\\statsmodels\\tsa\\tsatools.py:142: FutureWarning: In a future version of pandas all arguments of concat except for the argument 'objs' will be keyword-only\n",
      "  x = pd.concat(x[::order], 1)\n"
     ]
    }
   ],
   "source": [
    "PredictingVar = logisticRegressionVar.predict(sm.add_constant(X_test[First_Subset]))\n",
    "PredictingVar = list(map(round,PredictingVar))"
   ]
  },
  {
   "cell_type": "code",
   "execution_count": 330,
   "id": "d6bfa559",
   "metadata": {},
   "outputs": [
    {
     "data": {
      "text/plain": [
       "<AxesSubplot:>"
      ]
     },
     "execution_count": 330,
     "metadata": {},
     "output_type": "execute_result"
    },
    {
     "data": {
      "image/png": "[encoded data removed]",
      "text/plain": [
       "<Figure size 432x288 with 2 Axes>"
      ]
     },
     "metadata": {
      "needs_background": "light"
     },
     "output_type": "display_data"
    }
   ],
   "source": [
    "# Plot the two-way Confusion Matrix\n",
    "import seaborn as sb\n",
    "sb.heatmap(confusion_matrix(y_test, PredictingVar), \n",
    "           annot = True, fmt=\".0f\", annot_kws={\"size\": 18})\n"
   ]
  },
  {
   "cell_type": "code",
   "execution_count": 331,
   "id": "79580eb8",
   "metadata": {},
   "outputs": [
    {
     "name": "stdout",
     "output_type": "stream",
     "text": [
      "Test Data:\n",
      "Accuracy  :\t 0.6956809252752097\n",
      "TPR Train :\t 0.49409888357256776\n",
      "TNR Train :\t 0.7408098007633043\n",
      "FPR Train :\t 0.25919019923669573\n",
      "FNR Train :\t 0.5059011164274322\n"
     ]
    }
   ],
   "source": [
    "confusion_matrix_test = confusion_matrix(y_test, PredictingVar)\n",
    "#Calculate accuracy of the prediction on train data\n",
    "\n",
    "#Accuracy = (TP+TN)/Total data\n",
    "accuracy = (confusion_matrix_test[1][1]+confusion_matrix_test[0][0])/(confusion_matrix_test[1][1]+confusion_matrix_test[1][0]+confusion_matrix_test[0][1]+confusion_matrix_test[0][0])\n",
    "#TPR (True Positive Rate) = TP/(TP+FN)\n",
    "TPR = confusion_matrix_test[1][1]/(confusion_matrix_test[1][1]+confusion_matrix_test[1][0])\n",
    "#TNR (True Negative Rate) = TN/(TN+FP)\n",
    "TNR = confusion_matrix_test[0][0]/(confusion_matrix_test[0][0]+ confusion_matrix_test[0][1])\n",
    "#FPR (False Positive Rate) = FP/(TN+FP)\n",
    "FPR = confusion_matrix_test[0][1]/(confusion_matrix_test[0][1]+confusion_matrix_test[0][0])\n",
    "#FNR (False Negative Rate) = FN/(TP+FN)\n",
    "FNR = confusion_matrix_test[1][0]/(confusion_matrix_test[1][0]+confusion_matrix_test[1][1])\n",
    "\n",
    "print(\"Test Data:\")\n",
    "print(\"Accuracy  :\\t\", accuracy)\n",
    "print(\"TPR Train :\\t\", TPR)\n",
    "print(\"TNR Train :\\t\", TNR)\n",
    "print(\"FPR Train :\\t\", FPR)\n",
    "print(\"FNR Train :\\t\", FNR)"
   ]
  },
  {
   "cell_type": "markdown",
   "id": "e51f04fa",
   "metadata": {},
   "source": [
    "TEXTUAL SUBSET UNDERSAMPLING"
   ]
  },
  {
   "cell_type": "code",
   "execution_count": 332,
   "id": "8a41776f",
   "metadata": {},
   "outputs": [
    {
     "name": "stderr",
     "output_type": "stream",
     "text": [
      "C:\\Users\\varsh\\anaconda3\\lib\\site-packages\\statsmodels\\tsa\\tsatools.py:142: FutureWarning: In a future version of pandas all arguments of concat except for the argument 'objs' will be keyword-only\n",
      "  x = pd.concat(x[::order], 1)\n"
     ]
    },
    {
     "name": "stdout",
     "output_type": "stream",
     "text": [
      "Optimization terminated successfully.\n",
      "         Current function value: 0.665682\n",
      "         Iterations 5\n",
      "Train Data:\n",
      "Accuracy  :\t 0.5986401310238721\n",
      "TPR Train :\t 0.5566653431932106\n",
      "TNR Train :\t 0.6406149188545337\n",
      "FPR Train :\t 0.3593850811454663\n",
      "FNR Train :\t 0.4433346568067894\n"
     ]
    },
    {
     "data": {
      "image/png": "[encoded data removed]",
      "text/plain": [
       "<Figure size 432x288 with 2 Axes>"
      ]
     },
     "metadata": {
      "needs_background": "light"
     },
     "output_type": "display_data"
    }
   ],
   "source": [
    "Size_y_train_major = len(y_train[y_train==0])\n",
    "Size_y_train_minor = len(y_train[y_train==1])\n",
    "Size_y_train_indices = y_train[y_train==0].index\n",
    "# generate random number where seed is used to generate the same random number again \n",
    "randomint = np.random.default_rng(seed=200)\n",
    "index_tobedropped = randomint.choice(Size_y_train_indices, Size_y_train_major-Size_y_train_minor, replace=False)\n",
    "X_train = X_train.drop(index_tobedropped)\n",
    "y_train = y_train.drop(index_tobedropped)\n",
    "\n",
    "# creating Logisitic Regression object and training our data \n",
    "logisticRegressionVar = sm.Logit(y_train, sm.add_constant(X_train[Second_Subset])).fit()\n",
    "\n",
    "PredictingVar = logisticRegressionVar.predict(sm.add_constant(X_train[Second_Subset]))\n",
    "PredictingVar = list(map(round,PredictingVar))\n",
    "# Plot the two-way Confusion Matrix\n",
    "import seaborn as sb\n",
    "sb.heatmap(confusion_matrix(y_train, PredictingVar), \n",
    "           annot = True, fmt=\".0f\", annot_kws={\"size\": 18})\n",
    "confusion_matrix_train = confusion_matrix(y_train,PredictingVar )\n",
    "#Calculate accuracy of the prediction on train data\n",
    "\n",
    "#Accuracy = (TP+TN)/Total data\n",
    "accuracy = (confusion_matrix_train[1][1]+confusion_matrix_train[0][0])/(confusion_matrix_train[1][1]+confusion_matrix_train[1][0]+confusion_matrix_train[0][1]+confusion_matrix_train[0][0])\n",
    "#TPR (True Positive Rate) = TP/(TP+FN)\n",
    "TPR = confusion_matrix_train[1][1]/(confusion_matrix_train[1][1]+confusion_matrix_train[1][0])\n",
    "#TNR (True Negative Rate) = TN/(TN+FP)\n",
    "TNR = confusion_matrix_train[0][0]/(confusion_matrix_train[0][0]+ confusion_matrix_train[0][1])\n",
    "#FPR (False Positive Rate) = FP/(TN+FP)\n",
    "FPR = confusion_matrix_train[0][1]/(confusion_matrix_train[0][1]+confusion_matrix_train[0][0])\n",
    "#FNR (False Negative Rate) = FN/(TP+FN)\n",
    "FNR = confusion_matrix_train[1][0]/(confusion_matrix_train[1][0]+confusion_matrix_train[1][1])\n",
    "\n",
    "print(\"Train Data:\")\n",
    "print(\"Accuracy  :\\t\", accuracy)\n",
    "print(\"TPR Train :\\t\", TPR)\n",
    "print(\"TNR Train :\\t\", TNR)\n",
    "print(\"FPR Train :\\t\", FPR)\n",
    "print(\"FNR Train :\\t\", FNR)\n"
   ]
  },
  {
   "cell_type": "code",
   "execution_count": 333,
   "id": "29d62fff",
   "metadata": {},
   "outputs": [
    {
     "name": "stderr",
     "output_type": "stream",
     "text": [
      "C:\\Users\\varsh\\anaconda3\\lib\\site-packages\\statsmodels\\tsa\\tsatools.py:142: FutureWarning: In a future version of pandas all arguments of concat except for the argument 'objs' will be keyword-only\n",
      "  x = pd.concat(x[::order], 1)\n"
     ]
    },
    {
     "name": "stdout",
     "output_type": "stream",
     "text": [
      "Test Data:\n",
      "Accuracy  :\t 0.6247098790244155\n",
      "TPR Train :\t 0.5588516746411484\n",
      "TNR Train :\t 0.6394537851798368\n",
      "FPR Train :\t 0.3605462148201633\n",
      "FNR Train :\t 0.4411483253588517\n"
     ]
    },
    {
     "data": {
      "image/png": "[encoded data removed]",
      "text/plain": [
       "<Figure size 432x288 with 2 Axes>"
      ]
     },
     "metadata": {
      "needs_background": "light"
     },
     "output_type": "display_data"
    }
   ],
   "source": [
    "PredictingVar = logisticRegressionVar.predict(sm.add_constant(X_test[Second_Subset]))\n",
    "PredictingVar = list(map(round,PredictingVar))\n",
    "\n",
    "# Plot the two-way Confusion Matrix\n",
    "import seaborn as sb\n",
    "sb.heatmap(confusion_matrix(y_test, PredictingVar), \n",
    "           annot = True, fmt=\".0f\", annot_kws={\"size\": 18})\n",
    "\n",
    "confusion_matrix_test = confusion_matrix(y_test, PredictingVar)\n",
    "#Calculate accuracy of the prediction on train data\n",
    "\n",
    "confusion_matrix_test = confusion_matrix(y_test, PredictingVar)\n",
    "#Calculate accuracy of the prediction on train data\n",
    "\n",
    "#Accuracy = (TP+TN)/Total data\n",
    "accuracy = (confusion_matrix_test[1][1]+confusion_matrix_test[0][0])/(confusion_matrix_test[1][1]+confusion_matrix_test[1][0]+confusion_matrix_test[0][1]+confusion_matrix_test[0][0])\n",
    "#TPR (True Positive Rate) = TP/(TP+FN)\n",
    "TPR = confusion_matrix_test[1][1]/(confusion_matrix_test[1][1]+confusion_matrix_test[1][0])\n",
    "#TNR (True Negative Rate) = TN/(TN+FP)\n",
    "TNR = confusion_matrix_test[0][0]/(confusion_matrix_test[0][0]+ confusion_matrix_test[0][1])\n",
    "#FPR (False Positive Rate) = FP/(TN+FP)\n",
    "FPR = confusion_matrix_test[0][1]/(confusion_matrix_test[0][1]+confusion_matrix_test[0][0])\n",
    "#FNR (False Negative Rate) = FN/(TP+FN)\n",
    "FNR = confusion_matrix_test[1][0]/(confusion_matrix_test[1][0]+confusion_matrix_test[1][1])\n",
    "\n",
    "print(\"Test Data:\")\n",
    "print(\"Accuracy  :\\t\", accuracy)\n",
    "print(\"TPR Train :\\t\", TPR)\n",
    "print(\"TNR Train :\\t\", TNR)\n",
    "print(\"FPR Train :\\t\", FPR)\n",
    "print(\"FNR Train :\\t\", FNR)"
   ]
  },
  {
   "cell_type": "markdown",
   "id": "78b15395",
   "metadata": {},
   "source": [
    " UNDERSAMPLING TEXTUAL AND NON TEXTUAL SUBSET "
   ]
  },
  {
   "cell_type": "code",
   "execution_count": 334,
   "id": "78bfd7e8",
   "metadata": {},
   "outputs": [
    {
     "name": "stderr",
     "output_type": "stream",
     "text": [
      "C:\\Users\\varsh\\anaconda3\\lib\\site-packages\\statsmodels\\tsa\\tsatools.py:142: FutureWarning: In a future version of pandas all arguments of concat except for the argument 'objs' will be keyword-only\n",
      "  x = pd.concat(x[::order], 1)\n"
     ]
    },
    {
     "name": "stdout",
     "output_type": "stream",
     "text": [
      "Optimization terminated successfully.\n",
      "         Current function value: 0.639194\n",
      "         Iterations 5\n",
      "Train Data:\n",
      "Accuracy  :\t 0.6340699290287359\n",
      "TPR Train :\t 0.5675033500421857\n",
      "TNR Train :\t 0.7006365080152861\n",
      "FPR Train :\t 0.2993634919847139\n",
      "FNR Train :\t 0.4324966499578143\n"
     ]
    },
    {
     "data": {
      "image/png": "[encoded data removed]",
      "text/plain": [
       "<Figure size 432x288 with 2 Axes>"
      ]
     },
     "metadata": {
      "needs_background": "light"
     },
     "output_type": "display_data"
    }
   ],
   "source": [
    "Size_y_train_major = len(y_train[y_train==0])\n",
    "Size_y_train_minor = len(y_train[y_train==1])\n",
    "Size_y_train_indices = y_train[y_train==0].index\n",
    "# generate random number where seed is used to generate the same random number again \n",
    "randomint = np.random.default_rng(seed=200)\n",
    "index_tobedropped = randomint.choice(Size_y_train_indices, Size_y_train_major-Size_y_train_minor, replace=False)\n",
    "X_train = X_train.drop(index_tobedropped)\n",
    "y_train = y_train.drop(index_tobedropped)\n",
    "\n",
    "# creating Logisitic Regression object and training our data \n",
    "logisticRegressionVar = sm.Logit(y_train, sm.add_constant(X_train[Third_Subset])).fit()\n",
    "\n",
    "PredictingVar = logisticRegressionVar.predict(sm.add_constant(X_train[Third_Subset]))\n",
    "PredictingVar = list(map(round,PredictingVar))\n",
    "# Plot the two-way Confusion Matrix\n",
    "import seaborn as sb\n",
    "sb.heatmap(confusion_matrix(y_train, PredictingVar), \n",
    "           annot = True, fmt=\".0f\", annot_kws={\"size\": 18})\n",
    "confusion_matrix_train = confusion_matrix(y_train,PredictingVar )\n",
    "#Calculate accuracy of the prediction on train data\n",
    "\n",
    "#Accuracy = (TP+TN)/Total data\n",
    "accuracy = (confusion_matrix_train[1][1]+confusion_matrix_train[0][0])/(confusion_matrix_train[1][1]+confusion_matrix_train[1][0]+confusion_matrix_train[0][1]+confusion_matrix_train[0][0])\n",
    "#TPR (True Positive Rate) = TP/(TP+FN)\n",
    "TPR = confusion_matrix_train[1][1]/(confusion_matrix_train[1][1]+confusion_matrix_train[1][0])\n",
    "#TNR (True Negative Rate) = TN/(TN+FP)\n",
    "TNR = confusion_matrix_train[0][0]/(confusion_matrix_train[0][0]+ confusion_matrix_train[0][1])\n",
    "#FPR (False Positive Rate) = FP/(TN+FP)\n",
    "FPR = confusion_matrix_train[0][1]/(confusion_matrix_train[0][1]+confusion_matrix_train[0][0])\n",
    "#FNR (False Negative Rate) = FN/(TP+FN)\n",
    "FNR = confusion_matrix_train[1][0]/(confusion_matrix_train[1][0]+confusion_matrix_train[1][1])\n",
    "\n",
    "print(\"Train Data:\")\n",
    "print(\"Accuracy  :\\t\", accuracy)\n",
    "print(\"TPR Train :\\t\", TPR)\n",
    "print(\"TNR Train :\\t\", TNR)\n",
    "print(\"FPR Train :\\t\", FPR)\n",
    "print(\"FNR Train :\\t\", FNR)\n"
   ]
  },
  {
   "cell_type": "code",
   "execution_count": 335,
   "id": "2f53cea6",
   "metadata": {},
   "outputs": [
    {
     "name": "stderr",
     "output_type": "stream",
     "text": [
      "C:\\Users\\varsh\\anaconda3\\lib\\site-packages\\statsmodels\\tsa\\tsatools.py:142: FutureWarning: In a future version of pandas all arguments of concat except for the argument 'objs' will be keyword-only\n",
      "  x = pd.concat(x[::order], 1)\n"
     ]
    },
    {
     "name": "stdout",
     "output_type": "stream",
     "text": [
      "Test Data:\n",
      "Accuracy  :\t 0.6736122816799139\n",
      "TPR Train :\t 0.5661881977671451\n",
      "TNR Train :\t 0.6976616864104863\n",
      "FPR Train :\t 0.3023383135895137\n",
      "FNR Train :\t 0.43381180223285487\n"
     ]
    },
    {
     "data": {
      "image/png": "[encoded data removed]",
      "text/plain": [
       "<Figure size 432x288 with 2 Axes>"
      ]
     },
     "metadata": {
      "needs_background": "light"
     },
     "output_type": "display_data"
    }
   ],
   "source": [
    "PredictingVar = logisticRegressionVar.predict(sm.add_constant(X_test[Third_Subset]))\n",
    "PredictingVar = list(map(round,PredictingVar))\n",
    "\n",
    "# Plot the two-way Confusion Matrix\n",
    "import seaborn as sb\n",
    "sb.heatmap(confusion_matrix(y_test, PredictingVar), \n",
    "           annot = True, fmt=\".0f\", annot_kws={\"size\": 18})\n",
    "\n",
    "confusion_matrix_test = confusion_matrix(y_test, PredictingVar)\n",
    "#Calculate accuracy of the prediction on train data\n",
    "\n",
    "confusion_matrix_test = confusion_matrix(y_test, PredictingVar)\n",
    "#Calculate accuracy of the prediction on train data\n",
    "\n",
    "#Accuracy = (TP+TN)/Total data\n",
    "accuracy = (confusion_matrix_test[1][1]+confusion_matrix_test[0][0])/(confusion_matrix_test[1][1]+confusion_matrix_test[1][0]+confusion_matrix_test[0][1]+confusion_matrix_test[0][0])\n",
    "#TPR (True Positive Rate) = TP/(TP+FN)\n",
    "TPR = confusion_matrix_test[1][1]/(confusion_matrix_test[1][1]+confusion_matrix_test[1][0])\n",
    "#TNR (True Negative Rate) = TN/(TN+FP)\n",
    "TNR = confusion_matrix_test[0][0]/(confusion_matrix_test[0][0]+ confusion_matrix_test[0][1])\n",
    "#FPR (False Positive Rate) = FP/(TN+FP)\n",
    "FPR = confusion_matrix_test[0][1]/(confusion_matrix_test[0][1]+confusion_matrix_test[0][0])\n",
    "#FNR (False Negative Rate) = FN/(TP+FN)\n",
    "FNR = confusion_matrix_test[1][0]/(confusion_matrix_test[1][0]+confusion_matrix_test[1][1])\n",
    "\n",
    "print(\"Test Data:\")\n",
    "print(\"Accuracy  :\\t\", accuracy)\n",
    "print(\"TPR Train :\\t\", TPR)\n",
    "print(\"TNR Train :\\t\", TNR)\n",
    "print(\"FPR Train :\\t\", FPR)\n",
    "print(\"FNR Train :\\t\", FNR)"
   ]
  },
  {
   "cell_type": "code",
   "execution_count": null,
   "id": "295b6467",
   "metadata": {},
   "outputs": [],
   "source": []
  }
 ],
 "metadata": {
  "kernelspec": {
   "display_name": "Python 3 (ipykernel)",
   "language": "python",
   "name": "python3"
  },
  "language_info": {
   "codemirror_mode": {
    "name": "ipython",
    "version": 3
   },
   "file_extension": ".py",
   "mimetype": "text/x-python",
   "name": "python",
   "nbconvert_exporter": "python",
   "pygments_lexer": "ipython3",
   "version": "3.9.7"
  }
 },
 "nbformat": 4,
 "nbformat_minor": 5
}
