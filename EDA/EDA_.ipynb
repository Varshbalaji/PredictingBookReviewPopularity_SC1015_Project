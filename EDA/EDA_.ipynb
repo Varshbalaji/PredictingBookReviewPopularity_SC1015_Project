{
 "cells": [
  {
   "cell_type": "code",
   "execution_count": 1,
   "id": "7527ec9d",
   "metadata": {},
   "outputs": [],
   "source": [
    "import sys\n",
    "import pandas as pd\n",
    "import numpy as np\n",
    "import matplotlib.pyplot as plt\n",
    "import seaborn as sb\n",
    "from sklearn.model_selection import train_test_split\n",
    "\n",
    "import xgboost as xgb\n",
    "from sklearn.model_selection import GridSearchCV, ShuffleSplit\n",
    "from sklearn.metrics import classification_report, confusion_matrix, roc_auc_score\n",
    "\n",
    "from sklearn.metrics import confusion_matrix"
   ]
  },
  {
   "cell_type": "code",
   "execution_count": 2,
   "id": "030e6e18",
   "metadata": {},
   "outputs": [],
   "source": [
    "df1 = pd.read_csv(\"C:/Users/Nithya/Downloads/first_batchNLTKDONE.csv\")\n",
    "df1 = df1[df1[\"Popularity\"] == 1]\n",
    "df2 = pd.read_csv(\"C:/Users/Nithya/Downloads/second_batchNLTKDONE.csv\")\n",
    "df3 = pd.read_csv(\"C:/Users/Nithya/Downloads/second_batchNLTKDONE.csv\")\n",
    "df3 = df3[df3[\"Popularity\"] == 1]\n",
    "df4 = pd.read_csv(\"C:/Users/Nithya/Downloads/fourth_batchNLTKDONE.csv\")\n",
    "df4 = df4[df4[\"Popularity\"] == 1]\n",
    "df5 = pd.read_csv(\"C:/Users/Nithya/Downloads/fifth_batchNLTKDONE.csv\")\n",
    "#DELETE FOR THE FUTURE\n",
    "\n",
    "\n",
    "frames = [df1, df2, df3, df4, df5]\n",
    "book_dtf = pd.concat(frames)\n"
   ]
  },
  {
   "cell_type": "code",
   "execution_count": 3,
   "id": "5791db3c",
   "metadata": {},
   "outputs": [
    {
     "data": {
      "text/html": [
       "<div>\n",
       "<style scoped>\n",
       "    .dataframe tbody tr th:only-of-type {\n",
       "        vertical-align: middle;\n",
       "    }\n",
       "\n",
       "    .dataframe tbody tr th {\n",
       "        vertical-align: top;\n",
       "    }\n",
       "\n",
       "    .dataframe thead th {\n",
       "        text-align: right;\n",
       "    }\n",
       "</style>\n",
       "<table border=\"1\" class=\"dataframe\">\n",
       "  <thead>\n",
       "    <tr style=\"text-align: right;\">\n",
       "      <th></th>\n",
       "      <th>Unnamed: 0</th>\n",
       "      <th>Unnamed: 0.1</th>\n",
       "      <th>Popularity</th>\n",
       "      <th>User_Reviews</th>\n",
       "      <th>Stars_Ratings</th>\n",
       "      <th>Diff_Ratings</th>\n",
       "      <th>Num_Tokenized_Words</th>\n",
       "      <th>Average_WordLength</th>\n",
       "      <th>Average_WordsinSentence</th>\n",
       "      <th>Percentage_Verbs</th>\n",
       "      <th>Percentage_Nouns</th>\n",
       "      <th>Percentage_AdjAdverb</th>\n",
       "      <th>Quote</th>\n",
       "      <th>Sentiment_Score</th>\n",
       "      <th>Tokenized_Words</th>\n",
       "    </tr>\n",
       "  </thead>\n",
       "  <tbody>\n",
       "    <tr>\n",
       "      <th>15</th>\n",
       "      <td>15</td>\n",
       "      <td>15.0</td>\n",
       "      <td>1</td>\n",
       "      <td>18</td>\n",
       "      <td>3</td>\n",
       "      <td>-0.44</td>\n",
       "      <td>82</td>\n",
       "      <td>3.390244</td>\n",
       "      <td>11.714286</td>\n",
       "      <td>0.158537</td>\n",
       "      <td>0.207317</td>\n",
       "      <td>0.158537</td>\n",
       "      <td>False</td>\n",
       "      <td>0.9564</td>\n",
       "      <td>['first', 'touch', 'boring', 'little', 'hard',...</td>\n",
       "    </tr>\n",
       "    <tr>\n",
       "      <th>17</th>\n",
       "      <td>17</td>\n",
       "      <td>17.0</td>\n",
       "      <td>1</td>\n",
       "      <td>18</td>\n",
       "      <td>4</td>\n",
       "      <td>-0.11</td>\n",
       "      <td>18</td>\n",
       "      <td>4.111111</td>\n",
       "      <td>18.000000</td>\n",
       "      <td>0.055556</td>\n",
       "      <td>0.333333</td>\n",
       "      <td>0.222222</td>\n",
       "      <td>False</td>\n",
       "      <td>0.3236</td>\n",
       "      <td>['quite', 'romance', 'prefer', 'first', 'book'...</td>\n",
       "    </tr>\n",
       "    <tr>\n",
       "      <th>24</th>\n",
       "      <td>24</td>\n",
       "      <td>24.0</td>\n",
       "      <td>1</td>\n",
       "      <td>10</td>\n",
       "      <td>5</td>\n",
       "      <td>0.79</td>\n",
       "      <td>247</td>\n",
       "      <td>4.623482</td>\n",
       "      <td>19.000000</td>\n",
       "      <td>0.149798</td>\n",
       "      <td>0.226721</td>\n",
       "      <td>0.222672</td>\n",
       "      <td>False</td>\n",
       "      <td>0.9822</td>\n",
       "      <td>['beginning', 'almost', 'give', 'book', 'fifth...</td>\n",
       "    </tr>\n",
       "    <tr>\n",
       "      <th>43</th>\n",
       "      <td>43</td>\n",
       "      <td>43.0</td>\n",
       "      <td>1</td>\n",
       "      <td>464</td>\n",
       "      <td>4</td>\n",
       "      <td>-0.20</td>\n",
       "      <td>242</td>\n",
       "      <td>3.962810</td>\n",
       "      <td>17.285714</td>\n",
       "      <td>0.231405</td>\n",
       "      <td>0.231405</td>\n",
       "      <td>0.157025</td>\n",
       "      <td>False</td>\n",
       "      <td>0.9306</td>\n",
       "      <td>['carry', 'series', 'healthy', 'exercise', 'lo...</td>\n",
       "    </tr>\n",
       "    <tr>\n",
       "      <th>55</th>\n",
       "      <td>55</td>\n",
       "      <td>55.0</td>\n",
       "      <td>1</td>\n",
       "      <td>464</td>\n",
       "      <td>2</td>\n",
       "      <td>-2.16</td>\n",
       "      <td>32</td>\n",
       "      <td>4.687500</td>\n",
       "      <td>10.666667</td>\n",
       "      <td>0.187500</td>\n",
       "      <td>0.281250</td>\n",
       "      <td>0.250000</td>\n",
       "      <td>False</td>\n",
       "      <td>-0.5477</td>\n",
       "      <td>['disturbing', 'read', 'upset', 'book', 'many'...</td>\n",
       "    </tr>\n",
       "    <tr>\n",
       "      <th>...</th>\n",
       "      <td>...</td>\n",
       "      <td>...</td>\n",
       "      <td>...</td>\n",
       "      <td>...</td>\n",
       "      <td>...</td>\n",
       "      <td>...</td>\n",
       "      <td>...</td>\n",
       "      <td>...</td>\n",
       "      <td>...</td>\n",
       "      <td>...</td>\n",
       "      <td>...</td>\n",
       "      <td>...</td>\n",
       "      <td>...</td>\n",
       "      <td>...</td>\n",
       "      <td>...</td>\n",
       "    </tr>\n",
       "    <tr>\n",
       "      <th>29082</th>\n",
       "      <td>29082</td>\n",
       "      <td>29082.0</td>\n",
       "      <td>0</td>\n",
       "      <td>1</td>\n",
       "      <td>3</td>\n",
       "      <td>-0.57</td>\n",
       "      <td>67</td>\n",
       "      <td>3.880597</td>\n",
       "      <td>11.166667</td>\n",
       "      <td>0.253731</td>\n",
       "      <td>0.179104</td>\n",
       "      <td>0.194030</td>\n",
       "      <td>False</td>\n",
       "      <td>-0.9821</td>\n",
       "      <td>['want', 'give', 'star', 'felt', 'need', 'stor...</td>\n",
       "    </tr>\n",
       "    <tr>\n",
       "      <th>29083</th>\n",
       "      <td>29083</td>\n",
       "      <td>29083.0</td>\n",
       "      <td>0</td>\n",
       "      <td>1</td>\n",
       "      <td>5</td>\n",
       "      <td>0.44</td>\n",
       "      <td>87</td>\n",
       "      <td>3.574713</td>\n",
       "      <td>21.750000</td>\n",
       "      <td>0.206897</td>\n",
       "      <td>0.183908</td>\n",
       "      <td>0.206897</td>\n",
       "      <td>False</td>\n",
       "      <td>0.8472</td>\n",
       "      <td>['ok', 'love', 'whole', 'fake', 'relationship'...</td>\n",
       "    </tr>\n",
       "    <tr>\n",
       "      <th>29084</th>\n",
       "      <td>29084</td>\n",
       "      <td>29084.0</td>\n",
       "      <td>1</td>\n",
       "      <td>1</td>\n",
       "      <td>5</td>\n",
       "      <td>0.70</td>\n",
       "      <td>526</td>\n",
       "      <td>4.323194</td>\n",
       "      <td>12.829268</td>\n",
       "      <td>0.178707</td>\n",
       "      <td>0.273764</td>\n",
       "      <td>0.138783</td>\n",
       "      <td>False</td>\n",
       "      <td>0.9939</td>\n",
       "      <td>['love', 'return', 'lavender', 'shore', 'bring...</td>\n",
       "    </tr>\n",
       "    <tr>\n",
       "      <th>29085</th>\n",
       "      <td>29085</td>\n",
       "      <td>29085.0</td>\n",
       "      <td>0</td>\n",
       "      <td>1</td>\n",
       "      <td>5</td>\n",
       "      <td>0.53</td>\n",
       "      <td>135</td>\n",
       "      <td>4.577778</td>\n",
       "      <td>22.500000</td>\n",
       "      <td>0.133333</td>\n",
       "      <td>0.229630</td>\n",
       "      <td>0.185185</td>\n",
       "      <td>False</td>\n",
       "      <td>-0.7011</td>\n",
       "      <td>['heartbreaking', 'chilling', 'hypnotically', ...</td>\n",
       "    </tr>\n",
       "    <tr>\n",
       "      <th>29086</th>\n",
       "      <td>29086</td>\n",
       "      <td>29086.0</td>\n",
       "      <td>0</td>\n",
       "      <td>1</td>\n",
       "      <td>5</td>\n",
       "      <td>0.56</td>\n",
       "      <td>25</td>\n",
       "      <td>3.200000</td>\n",
       "      <td>12.500000</td>\n",
       "      <td>0.360000</td>\n",
       "      <td>0.240000</td>\n",
       "      <td>0.040000</td>\n",
       "      <td>False</td>\n",
       "      <td>0.8439</td>\n",
       "      <td>['love', 'love', 'story', 'line', 'hook', 'fir...</td>\n",
       "    </tr>\n",
       "  </tbody>\n",
       "</table>\n",
       "<p>808602 rows × 15 columns</p>\n",
       "</div>"
      ],
      "text/plain": [
       "       Unnamed: 0  Unnamed: 0.1  Popularity  User_Reviews  Stars_Ratings  \\\n",
       "15             15          15.0           1            18              3   \n",
       "17             17          17.0           1            18              4   \n",
       "24             24          24.0           1            10              5   \n",
       "43             43          43.0           1           464              4   \n",
       "55             55          55.0           1           464              2   \n",
       "...           ...           ...         ...           ...            ...   \n",
       "29082       29082       29082.0           0             1              3   \n",
       "29083       29083       29083.0           0             1              5   \n",
       "29084       29084       29084.0           1             1              5   \n",
       "29085       29085       29085.0           0             1              5   \n",
       "29086       29086       29086.0           0             1              5   \n",
       "\n",
       "       Diff_Ratings  Num_Tokenized_Words  Average_WordLength  \\\n",
       "15            -0.44                   82            3.390244   \n",
       "17            -0.11                   18            4.111111   \n",
       "24             0.79                  247            4.623482   \n",
       "43            -0.20                  242            3.962810   \n",
       "55            -2.16                   32            4.687500   \n",
       "...             ...                  ...                 ...   \n",
       "29082         -0.57                   67            3.880597   \n",
       "29083          0.44                   87            3.574713   \n",
       "29084          0.70                  526            4.323194   \n",
       "29085          0.53                  135            4.577778   \n",
       "29086          0.56                   25            3.200000   \n",
       "\n",
       "       Average_WordsinSentence  Percentage_Verbs  Percentage_Nouns  \\\n",
       "15                   11.714286          0.158537          0.207317   \n",
       "17                   18.000000          0.055556          0.333333   \n",
       "24                   19.000000          0.149798          0.226721   \n",
       "43                   17.285714          0.231405          0.231405   \n",
       "55                   10.666667          0.187500          0.281250   \n",
       "...                        ...               ...               ...   \n",
       "29082                11.166667          0.253731          0.179104   \n",
       "29083                21.750000          0.206897          0.183908   \n",
       "29084                12.829268          0.178707          0.273764   \n",
       "29085                22.500000          0.133333          0.229630   \n",
       "29086                12.500000          0.360000          0.240000   \n",
       "\n",
       "       Percentage_AdjAdverb  Quote  Sentiment_Score  \\\n",
       "15                 0.158537  False           0.9564   \n",
       "17                 0.222222  False           0.3236   \n",
       "24                 0.222672  False           0.9822   \n",
       "43                 0.157025  False           0.9306   \n",
       "55                 0.250000  False          -0.5477   \n",
       "...                     ...    ...              ...   \n",
       "29082              0.194030  False          -0.9821   \n",
       "29083              0.206897  False           0.8472   \n",
       "29084              0.138783  False           0.9939   \n",
       "29085              0.185185  False          -0.7011   \n",
       "29086              0.040000  False           0.8439   \n",
       "\n",
       "                                         Tokenized_Words  \n",
       "15     ['first', 'touch', 'boring', 'little', 'hard',...  \n",
       "17     ['quite', 'romance', 'prefer', 'first', 'book'...  \n",
       "24     ['beginning', 'almost', 'give', 'book', 'fifth...  \n",
       "43     ['carry', 'series', 'healthy', 'exercise', 'lo...  \n",
       "55     ['disturbing', 'read', 'upset', 'book', 'many'...  \n",
       "...                                                  ...  \n",
       "29082  ['want', 'give', 'star', 'felt', 'need', 'stor...  \n",
       "29083  ['ok', 'love', 'whole', 'fake', 'relationship'...  \n",
       "29084  ['love', 'return', 'lavender', 'shore', 'bring...  \n",
       "29085  ['heartbreaking', 'chilling', 'hypnotically', ...  \n",
       "29086  ['love', 'love', 'story', 'line', 'hook', 'fir...  \n",
       "\n",
       "[808602 rows x 15 columns]"
      ]
     },
     "execution_count": 3,
     "metadata": {},
     "output_type": "execute_result"
    }
   ],
   "source": [
    "book_dtf"
   ]
  },
  {
   "cell_type": "code",
   "execution_count": 4,
   "id": "ce7fdb6d",
   "metadata": {},
   "outputs": [
    {
     "data": {
      "text/plain": [
       "0    431870\n",
       "1    376732\n",
       "Name: Popularity, dtype: int64"
      ]
     },
     "execution_count": 4,
     "metadata": {},
     "output_type": "execute_result"
    }
   ],
   "source": [
    "book_dtf[\"Popularity\"].value_counts()"
   ]
  },
  {
   "cell_type": "code",
   "execution_count": null,
   "id": "4929e9ce",
   "metadata": {},
   "outputs": [],
   "source": [
    "#Changing the True or False of Quote to numeric number\n",
    "#0 = False, 1 = True\n",
    "\n",
    "#book_dtf[\"Quote\"] = book_dtf[\"Quote\"].astype(int)"
   ]
  },
  {
   "cell_type": "markdown",
   "id": "175764a8",
   "metadata": {},
   "source": [
    "## 1. Analysing the most used words in book reviews"
   ]
  },
  {
   "cell_type": "code",
   "execution_count": 5,
   "id": "7444ef58",
   "metadata": {},
   "outputs": [
    {
     "data": {
      "text/plain": [
       "count                 808602\n",
       "unique                708073\n",
       "top       ['review', 'come']\n",
       "freq                     744\n",
       "Name: Tokenized_Words, dtype: object"
      ]
     },
     "execution_count": 5,
     "metadata": {},
     "output_type": "execute_result"
    }
   ],
   "source": [
    "book_dtf[\"Tokenized_Words\"].describe()"
   ]
  },
  {
   "cell_type": "code",
   "execution_count": 6,
   "id": "59d75912",
   "metadata": {},
   "outputs": [
    {
     "data": {
      "text/plain": [
       "708073"
      ]
     },
     "execution_count": 6,
     "metadata": {},
     "output_type": "execute_result"
    }
   ],
   "source": [
    "book_dtf[\"Tokenized_Words\"].nunique()"
   ]
  },
  {
   "cell_type": "markdown",
   "id": "d15b9455",
   "metadata": {},
   "source": [
    "The dataset has 708073 unique words. The rest duplicates, so we are going to count the most frequently occuring word"
   ]
  },
  {
   "cell_type": "code",
   "execution_count": 7,
   "id": "8da36fc2",
   "metadata": {},
   "outputs": [
    {
     "data": {
      "text/html": [
       "<div>\n",
       "<style scoped>\n",
       "    .dataframe tbody tr th:only-of-type {\n",
       "        vertical-align: middle;\n",
       "    }\n",
       "\n",
       "    .dataframe tbody tr th {\n",
       "        vertical-align: top;\n",
       "    }\n",
       "\n",
       "    .dataframe thead th {\n",
       "        text-align: right;\n",
       "    }\n",
       "</style>\n",
       "<table border=\"1\" class=\"dataframe\">\n",
       "  <thead>\n",
       "    <tr style=\"text-align: right;\">\n",
       "      <th></th>\n",
       "      <th>0</th>\n",
       "      <th>1</th>\n",
       "    </tr>\n",
       "  </thead>\n",
       "  <tbody>\n",
       "    <tr>\n",
       "      <th>0</th>\n",
       "      <td>'book',</td>\n",
       "      <td>1795808</td>\n",
       "    </tr>\n",
       "    <tr>\n",
       "      <th>1</th>\n",
       "      <td>'read',</td>\n",
       "      <td>936700</td>\n",
       "    </tr>\n",
       "    <tr>\n",
       "      <th>2</th>\n",
       "      <td>'story',</td>\n",
       "      <td>819893</td>\n",
       "    </tr>\n",
       "    <tr>\n",
       "      <th>3</th>\n",
       "      <td>'like',</td>\n",
       "      <td>804162</td>\n",
       "    </tr>\n",
       "    <tr>\n",
       "      <th>4</th>\n",
       "      <td>'one',</td>\n",
       "      <td>775465</td>\n",
       "    </tr>\n",
       "    <tr>\n",
       "      <th>5</th>\n",
       "      <td>'love',</td>\n",
       "      <td>728521</td>\n",
       "    </tr>\n",
       "    <tr>\n",
       "      <th>6</th>\n",
       "      <td>'character',</td>\n",
       "      <td>628571</td>\n",
       "    </tr>\n",
       "    <tr>\n",
       "      <th>7</th>\n",
       "      <td>'get',</td>\n",
       "      <td>589985</td>\n",
       "    </tr>\n",
       "    <tr>\n",
       "      <th>8</th>\n",
       "      <td>'make',</td>\n",
       "      <td>535190</td>\n",
       "    </tr>\n",
       "    <tr>\n",
       "      <th>9</th>\n",
       "      <td>'really',</td>\n",
       "      <td>487981</td>\n",
       "    </tr>\n",
       "    <tr>\n",
       "      <th>10</th>\n",
       "      <td>'go',</td>\n",
       "      <td>479267</td>\n",
       "    </tr>\n",
       "    <tr>\n",
       "      <th>11</th>\n",
       "      <td>'time',</td>\n",
       "      <td>474971</td>\n",
       "    </tr>\n",
       "    <tr>\n",
       "      <th>12</th>\n",
       "      <td>'know',</td>\n",
       "      <td>441367</td>\n",
       "    </tr>\n",
       "    <tr>\n",
       "      <th>13</th>\n",
       "      <td>'think',</td>\n",
       "      <td>440438</td>\n",
       "    </tr>\n",
       "    <tr>\n",
       "      <th>14</th>\n",
       "      <td>'would',</td>\n",
       "      <td>435257</td>\n",
       "    </tr>\n",
       "  </tbody>\n",
       "</table>\n",
       "</div>"
      ],
      "text/plain": [
       "               0        1\n",
       "0        'book',  1795808\n",
       "1        'read',   936700\n",
       "2       'story',   819893\n",
       "3        'like',   804162\n",
       "4         'one',   775465\n",
       "5        'love',   728521\n",
       "6   'character',   628571\n",
       "7         'get',   589985\n",
       "8        'make',   535190\n",
       "9      'really',   487981\n",
       "10         'go',   479267\n",
       "11       'time',   474971\n",
       "12       'know',   441367\n",
       "13      'think',   440438\n",
       "14      'would',   435257"
      ]
     },
     "execution_count": 7,
     "metadata": {},
     "output_type": "execute_result"
    }
   ],
   "source": [
    "#creating a new dataframe newdtf to store the top 15 most used words in book reviews\n",
    "from collections import Counter\n",
    "newdtf=pd.DataFrame(Counter(\" \".join(book_dtf[\"Tokenized_Words\"]).split()).most_common(15))\n",
    "newdtf"
   ]
  },
  {
   "cell_type": "code",
   "execution_count": 8,
   "id": "0c279df4",
   "metadata": {},
   "outputs": [
    {
     "data": {
      "text/plain": [
       "<seaborn.axisgrid.FacetGrid at 0x1c8a72a7d00>"
      ]
     },
     "execution_count": 8,
     "metadata": {},
     "output_type": "execute_result"
    },
    {
     "data": {
      "image/png": "[encoded data removed]",
      "text/plain": [
       "<Figure size 720x720 with 1 Axes>"
      ]
     },
     "metadata": {
      "needs_background": "light"
     },
     "output_type": "display_data"
    }
   ],
   "source": [
    "#visualising the most used words in a catplot\n",
    "sb.catplot(x=1,\n",
    "            y=0,\n",
    "            data=newdtf,\n",
    "            kind='bar',\n",
    "            order=newdtf[0],\n",
    "            ci=None,height=10)\n"
   ]
  },
  {
   "cell_type": "markdown",
   "id": "cb08356b",
   "metadata": {},
   "source": [
    "'book' is the most frequent word in the dataset, followed by 'read', 'story', 'like' and 'one'"
   ]
  },
  {
   "cell_type": "markdown",
   "id": "78ddadcc",
   "metadata": {},
   "source": [
    "## 2. Checking whether the sentiment score affects Stars Rating\n",
    "\n"
   ]
  },
  {
   "cell_type": "code",
   "execution_count": 9,
   "id": "d74bf097",
   "metadata": {},
   "outputs": [
    {
     "data": {
      "text/plain": [
       "count    808602.000000\n",
       "mean          0.570025\n",
       "std           0.622702\n",
       "min          -1.000000\n",
       "25%           0.438900\n",
       "50%           0.903200\n",
       "75%           0.982000\n",
       "max           1.000000\n",
       "Name: Sentiment_Score, dtype: float64"
      ]
     },
     "execution_count": 9,
     "metadata": {},
     "output_type": "execute_result"
    }
   ],
   "source": [
    "book_dtf[\"Sentiment_Score\"].describe()"
   ]
  },
  {
   "cell_type": "markdown",
   "id": "8808cac5",
   "metadata": {},
   "source": [
    "sentiment score is a column in the dataset that stores the tone of the book review is. its range is from -1 to 1. a sentiment score above 0 indicates a positive review and below 0 indicates a negative review"
   ]
  },
  {
   "cell_type": "code",
   "execution_count": 10,
   "id": "2ad3336a",
   "metadata": {},
   "outputs": [
    {
     "name": "stdout",
     "output_type": "stream",
     "text": [
      "0.2449332291257995\n"
     ]
    }
   ],
   "source": [
    "print(book_dtf[\"Sentiment_Score\"].corr(book_dtf['Stars_Ratings']))"
   ]
  },
  {
   "cell_type": "code",
   "execution_count": 11,
   "id": "1797f1c7",
   "metadata": {
    "scrolled": false
   },
   "outputs": [
    {
     "data": {
      "text/plain": [
       "<AxesSubplot:xlabel='Stars_Ratings', ylabel='Sentiment_Score'>"
      ]
     },
     "execution_count": 11,
     "metadata": {},
     "output_type": "execute_result"
    },
    {
     "data": {
      "image/png": "[encoded data removed]",
      "text/plain": [
       "<Figure size 720x720 with 1 Axes>"
      ]
     },
     "metadata": {
      "needs_background": "light"
     },
     "output_type": "display_data"
    }
   ],
   "source": [
    "f = plt.figure(figsize=(10, 10))\n",
    "sb.boxplot(x = 'Stars_Ratings', y = 'Sentiment_Score', data = book_dtf)"
   ]
  },
  {
   "cell_type": "markdown",
   "id": "6c0a2d49",
   "metadata": {},
   "source": [
    "from the boxplot between stars ratings and sentiment score we can see that the book reviews with a more positive sentiment score display higher star rating for example book reviews with rating 4 or 5 do not have much of a negative sentiment score  "
   ]
  },
  {
   "cell_type": "markdown",
   "id": "59baaa0e",
   "metadata": {},
   "source": [
    "## 3. Analysis of Numeric Variables with Popularity"
   ]
  },
  {
   "cell_type": "code",
   "execution_count": 12,
   "id": "e08aea14",
   "metadata": {},
   "outputs": [
    {
     "name": "stdout",
     "output_type": "stream",
     "text": [
      "<class 'pandas.core.frame.DataFrame'>\n",
      "Int64Index: 808602 entries, 15 to 29086\n",
      "Data columns (total 15 columns):\n",
      " #   Column                   Non-Null Count   Dtype  \n",
      "---  ------                   --------------   -----  \n",
      " 0   Unnamed: 0               808602 non-null  int64  \n",
      " 1   Unnamed: 0.1             214966 non-null  float64\n",
      " 2   Popularity               808602 non-null  int64  \n",
      " 3   User_Reviews             808602 non-null  int64  \n",
      " 4   Stars_Ratings            808602 non-null  int64  \n",
      " 5   Diff_Ratings             808602 non-null  float64\n",
      " 6   Num_Tokenized_Words      808602 non-null  int64  \n",
      " 7   Average_WordLength       808225 non-null  float64\n",
      " 8   Average_WordsinSentence  808602 non-null  float64\n",
      " 9   Percentage_Verbs         808225 non-null  float64\n",
      " 10  Percentage_Nouns         808225 non-null  float64\n",
      " 11  Percentage_AdjAdverb     808225 non-null  float64\n",
      " 12  Quote                    808602 non-null  bool   \n",
      " 13  Sentiment_Score          808602 non-null  float64\n",
      " 14  Tokenized_Words          808602 non-null  object \n",
      "dtypes: bool(1), float64(8), int64(5), object(1)\n",
      "memory usage: 125.6+ MB\n"
     ]
    }
   ],
   "source": [
    "#list of all the columns in the dataset\n",
    "book_dtf.info()"
   ]
  },
  {
   "cell_type": "code",
   "execution_count": 13,
   "id": "48e52878",
   "metadata": {},
   "outputs": [
    {
     "data": {
      "text/html": [
       "<div>\n",
       "<style scoped>\n",
       "    .dataframe tbody tr th:only-of-type {\n",
       "        vertical-align: middle;\n",
       "    }\n",
       "\n",
       "    .dataframe tbody tr th {\n",
       "        vertical-align: top;\n",
       "    }\n",
       "\n",
       "    .dataframe thead th {\n",
       "        text-align: right;\n",
       "    }\n",
       "</style>\n",
       "<table border=\"1\" class=\"dataframe\">\n",
       "  <thead>\n",
       "    <tr style=\"text-align: right;\">\n",
       "      <th></th>\n",
       "      <th>User_Reviews</th>\n",
       "      <th>Diff_Ratings</th>\n",
       "      <th>Num_Tokenized_Words</th>\n",
       "      <th>Average_WordLength</th>\n",
       "      <th>Average_WordsinSentence</th>\n",
       "      <th>Percentage_Verbs</th>\n",
       "      <th>Percentage_Nouns</th>\n",
       "      <th>Percentage_AdjAdverb</th>\n",
       "      <th>Sentiment_Score</th>\n",
       "      <th>Popularity</th>\n",
       "    </tr>\n",
       "  </thead>\n",
       "  <tbody>\n",
       "    <tr>\n",
       "      <th>15</th>\n",
       "      <td>18</td>\n",
       "      <td>-0.44</td>\n",
       "      <td>82</td>\n",
       "      <td>3.390244</td>\n",
       "      <td>11.714286</td>\n",
       "      <td>0.158537</td>\n",
       "      <td>0.207317</td>\n",
       "      <td>0.158537</td>\n",
       "      <td>0.9564</td>\n",
       "      <td>1</td>\n",
       "    </tr>\n",
       "    <tr>\n",
       "      <th>17</th>\n",
       "      <td>18</td>\n",
       "      <td>-0.11</td>\n",
       "      <td>18</td>\n",
       "      <td>4.111111</td>\n",
       "      <td>18.000000</td>\n",
       "      <td>0.055556</td>\n",
       "      <td>0.333333</td>\n",
       "      <td>0.222222</td>\n",
       "      <td>0.3236</td>\n",
       "      <td>1</td>\n",
       "    </tr>\n",
       "    <tr>\n",
       "      <th>24</th>\n",
       "      <td>10</td>\n",
       "      <td>0.79</td>\n",
       "      <td>247</td>\n",
       "      <td>4.623482</td>\n",
       "      <td>19.000000</td>\n",
       "      <td>0.149798</td>\n",
       "      <td>0.226721</td>\n",
       "      <td>0.222672</td>\n",
       "      <td>0.9822</td>\n",
       "      <td>1</td>\n",
       "    </tr>\n",
       "    <tr>\n",
       "      <th>43</th>\n",
       "      <td>464</td>\n",
       "      <td>-0.20</td>\n",
       "      <td>242</td>\n",
       "      <td>3.962810</td>\n",
       "      <td>17.285714</td>\n",
       "      <td>0.231405</td>\n",
       "      <td>0.231405</td>\n",
       "      <td>0.157025</td>\n",
       "      <td>0.9306</td>\n",
       "      <td>1</td>\n",
       "    </tr>\n",
       "    <tr>\n",
       "      <th>55</th>\n",
       "      <td>464</td>\n",
       "      <td>-2.16</td>\n",
       "      <td>32</td>\n",
       "      <td>4.687500</td>\n",
       "      <td>10.666667</td>\n",
       "      <td>0.187500</td>\n",
       "      <td>0.281250</td>\n",
       "      <td>0.250000</td>\n",
       "      <td>-0.5477</td>\n",
       "      <td>1</td>\n",
       "    </tr>\n",
       "    <tr>\n",
       "      <th>...</th>\n",
       "      <td>...</td>\n",
       "      <td>...</td>\n",
       "      <td>...</td>\n",
       "      <td>...</td>\n",
       "      <td>...</td>\n",
       "      <td>...</td>\n",
       "      <td>...</td>\n",
       "      <td>...</td>\n",
       "      <td>...</td>\n",
       "      <td>...</td>\n",
       "    </tr>\n",
       "    <tr>\n",
       "      <th>29082</th>\n",
       "      <td>1</td>\n",
       "      <td>-0.57</td>\n",
       "      <td>67</td>\n",
       "      <td>3.880597</td>\n",
       "      <td>11.166667</td>\n",
       "      <td>0.253731</td>\n",
       "      <td>0.179104</td>\n",
       "      <td>0.194030</td>\n",
       "      <td>-0.9821</td>\n",
       "      <td>0</td>\n",
       "    </tr>\n",
       "    <tr>\n",
       "      <th>29083</th>\n",
       "      <td>1</td>\n",
       "      <td>0.44</td>\n",
       "      <td>87</td>\n",
       "      <td>3.574713</td>\n",
       "      <td>21.750000</td>\n",
       "      <td>0.206897</td>\n",
       "      <td>0.183908</td>\n",
       "      <td>0.206897</td>\n",
       "      <td>0.8472</td>\n",
       "      <td>0</td>\n",
       "    </tr>\n",
       "    <tr>\n",
       "      <th>29084</th>\n",
       "      <td>1</td>\n",
       "      <td>0.70</td>\n",
       "      <td>526</td>\n",
       "      <td>4.323194</td>\n",
       "      <td>12.829268</td>\n",
       "      <td>0.178707</td>\n",
       "      <td>0.273764</td>\n",
       "      <td>0.138783</td>\n",
       "      <td>0.9939</td>\n",
       "      <td>1</td>\n",
       "    </tr>\n",
       "    <tr>\n",
       "      <th>29085</th>\n",
       "      <td>1</td>\n",
       "      <td>0.53</td>\n",
       "      <td>135</td>\n",
       "      <td>4.577778</td>\n",
       "      <td>22.500000</td>\n",
       "      <td>0.133333</td>\n",
       "      <td>0.229630</td>\n",
       "      <td>0.185185</td>\n",
       "      <td>-0.7011</td>\n",
       "      <td>0</td>\n",
       "    </tr>\n",
       "    <tr>\n",
       "      <th>29086</th>\n",
       "      <td>1</td>\n",
       "      <td>0.56</td>\n",
       "      <td>25</td>\n",
       "      <td>3.200000</td>\n",
       "      <td>12.500000</td>\n",
       "      <td>0.360000</td>\n",
       "      <td>0.240000</td>\n",
       "      <td>0.040000</td>\n",
       "      <td>0.8439</td>\n",
       "      <td>0</td>\n",
       "    </tr>\n",
       "  </tbody>\n",
       "</table>\n",
       "<p>808602 rows × 10 columns</p>\n",
       "</div>"
      ],
      "text/plain": [
       "       User_Reviews  Diff_Ratings  Num_Tokenized_Words  Average_WordLength  \\\n",
       "15               18         -0.44                   82            3.390244   \n",
       "17               18         -0.11                   18            4.111111   \n",
       "24               10          0.79                  247            4.623482   \n",
       "43              464         -0.20                  242            3.962810   \n",
       "55              464         -2.16                   32            4.687500   \n",
       "...             ...           ...                  ...                 ...   \n",
       "29082             1         -0.57                   67            3.880597   \n",
       "29083             1          0.44                   87            3.574713   \n",
       "29084             1          0.70                  526            4.323194   \n",
       "29085             1          0.53                  135            4.577778   \n",
       "29086             1          0.56                   25            3.200000   \n",
       "\n",
       "       Average_WordsinSentence  Percentage_Verbs  Percentage_Nouns  \\\n",
       "15                   11.714286          0.158537          0.207317   \n",
       "17                   18.000000          0.055556          0.333333   \n",
       "24                   19.000000          0.149798          0.226721   \n",
       "43                   17.285714          0.231405          0.231405   \n",
       "55                   10.666667          0.187500          0.281250   \n",
       "...                        ...               ...               ...   \n",
       "29082                11.166667          0.253731          0.179104   \n",
       "29083                21.750000          0.206897          0.183908   \n",
       "29084                12.829268          0.178707          0.273764   \n",
       "29085                22.500000          0.133333          0.229630   \n",
       "29086                12.500000          0.360000          0.240000   \n",
       "\n",
       "       Percentage_AdjAdverb  Sentiment_Score  Popularity  \n",
       "15                 0.158537           0.9564           1  \n",
       "17                 0.222222           0.3236           1  \n",
       "24                 0.222672           0.9822           1  \n",
       "43                 0.157025           0.9306           1  \n",
       "55                 0.250000          -0.5477           1  \n",
       "...                     ...              ...         ...  \n",
       "29082              0.194030          -0.9821           0  \n",
       "29083              0.206897           0.8472           0  \n",
       "29084              0.138783           0.9939           1  \n",
       "29085              0.185185          -0.7011           0  \n",
       "29086              0.040000           0.8439           0  \n",
       "\n",
       "[808602 rows x 10 columns]"
      ]
     },
     "execution_count": 13,
     "metadata": {},
     "output_type": "execute_result"
    }
   ],
   "source": [
    "#creating a dataframe to store the numerical variables to compare with popularity\n",
    "numerical_data= pd.DataFrame(book_dtf[['User_Reviews','Diff_Ratings','Num_Tokenized_Words' ,'Average_WordLength','Average_WordsinSentence','Percentage_Verbs','Percentage_Nouns','Percentage_AdjAdverb','Sentiment_Score','Popularity']])\n",
    "numerical_data\n"
   ]
  },
  {
   "cell_type": "code",
   "execution_count": 14,
   "id": "9019ba75",
   "metadata": {},
   "outputs": [
    {
     "data": {
      "text/html": [
       "<div>\n",
       "<style scoped>\n",
       "    .dataframe tbody tr th:only-of-type {\n",
       "        vertical-align: middle;\n",
       "    }\n",
       "\n",
       "    .dataframe tbody tr th {\n",
       "        vertical-align: top;\n",
       "    }\n",
       "\n",
       "    .dataframe thead th {\n",
       "        text-align: right;\n",
       "    }\n",
       "</style>\n",
       "<table border=\"1\" class=\"dataframe\">\n",
       "  <thead>\n",
       "    <tr style=\"text-align: right;\">\n",
       "      <th></th>\n",
       "      <th>User_Reviews</th>\n",
       "      <th>Diff_Ratings</th>\n",
       "      <th>Num_Tokenized_Words</th>\n",
       "      <th>Average_WordLength</th>\n",
       "      <th>Average_WordsinSentence</th>\n",
       "      <th>Percentage_Verbs</th>\n",
       "      <th>Percentage_Nouns</th>\n",
       "      <th>Percentage_AdjAdverb</th>\n",
       "      <th>Sentiment_Score</th>\n",
       "      <th>Popularity</th>\n",
       "    </tr>\n",
       "  </thead>\n",
       "  <tbody>\n",
       "    <tr>\n",
       "      <th>count</th>\n",
       "      <td>808602.000000</td>\n",
       "      <td>808602.000000</td>\n",
       "      <td>808602.000000</td>\n",
       "      <td>808225.000000</td>\n",
       "      <td>808602.000000</td>\n",
       "      <td>808225.000000</td>\n",
       "      <td>808225.000000</td>\n",
       "      <td>808225.000000</td>\n",
       "      <td>808602.000000</td>\n",
       "      <td>808602.000000</td>\n",
       "    </tr>\n",
       "    <tr>\n",
       "      <th>mean</th>\n",
       "      <td>204.422130</td>\n",
       "      <td>-0.123898</td>\n",
       "      <td>220.593298</td>\n",
       "      <td>4.301666</td>\n",
       "      <td>16.179469</td>\n",
       "      <td>0.192520</td>\n",
       "      <td>0.235131</td>\n",
       "      <td>0.171565</td>\n",
       "      <td>0.570025</td>\n",
       "      <td>0.465905</td>\n",
       "    </tr>\n",
       "    <tr>\n",
       "      <th>std</th>\n",
       "      <td>280.321807</td>\n",
       "      <td>1.203613</td>\n",
       "      <td>250.419429</td>\n",
       "      <td>0.441569</td>\n",
       "      <td>8.316881</td>\n",
       "      <td>0.051668</td>\n",
       "      <td>0.062312</td>\n",
       "      <td>0.065605</td>\n",
       "      <td>0.622702</td>\n",
       "      <td>0.498837</td>\n",
       "    </tr>\n",
       "    <tr>\n",
       "      <th>min</th>\n",
       "      <td>1.000000</td>\n",
       "      <td>-5.000000</td>\n",
       "      <td>0.000000</td>\n",
       "      <td>1.000000</td>\n",
       "      <td>0.000000</td>\n",
       "      <td>0.000000</td>\n",
       "      <td>0.000000</td>\n",
       "      <td>0.000000</td>\n",
       "      <td>-1.000000</td>\n",
       "      <td>0.000000</td>\n",
       "    </tr>\n",
       "    <tr>\n",
       "      <th>25%</th>\n",
       "      <td>32.000000</td>\n",
       "      <td>-0.750000</td>\n",
       "      <td>55.000000</td>\n",
       "      <td>4.074627</td>\n",
       "      <td>11.666667</td>\n",
       "      <td>0.168224</td>\n",
       "      <td>0.204082</td>\n",
       "      <td>0.138889</td>\n",
       "      <td>0.438900</td>\n",
       "      <td>0.000000</td>\n",
       "    </tr>\n",
       "    <tr>\n",
       "      <th>50%</th>\n",
       "      <td>96.000000</td>\n",
       "      <td>0.100000</td>\n",
       "      <td>142.000000</td>\n",
       "      <td>4.277354</td>\n",
       "      <td>15.476190</td>\n",
       "      <td>0.192509</td>\n",
       "      <td>0.230769</td>\n",
       "      <td>0.163636</td>\n",
       "      <td>0.903200</td>\n",
       "      <td>0.000000</td>\n",
       "    </tr>\n",
       "    <tr>\n",
       "      <th>75%</th>\n",
       "      <td>246.000000</td>\n",
       "      <td>0.800000</td>\n",
       "      <td>301.000000</td>\n",
       "      <td>4.497797</td>\n",
       "      <td>19.636364</td>\n",
       "      <td>0.216216</td>\n",
       "      <td>0.259740</td>\n",
       "      <td>0.193277</td>\n",
       "      <td>0.982000</td>\n",
       "      <td>1.000000</td>\n",
       "    </tr>\n",
       "    <tr>\n",
       "      <th>max</th>\n",
       "      <td>1774.000000</td>\n",
       "      <td>3.090000</td>\n",
       "      <td>3868.000000</td>\n",
       "      <td>61.500000</td>\n",
       "      <td>738.000000</td>\n",
       "      <td>1.000000</td>\n",
       "      <td>1.000000</td>\n",
       "      <td>1.000000</td>\n",
       "      <td>1.000000</td>\n",
       "      <td>1.000000</td>\n",
       "    </tr>\n",
       "  </tbody>\n",
       "</table>\n",
       "</div>"
      ],
      "text/plain": [
       "        User_Reviews   Diff_Ratings  Num_Tokenized_Words  Average_WordLength  \\\n",
       "count  808602.000000  808602.000000        808602.000000       808225.000000   \n",
       "mean      204.422130      -0.123898           220.593298            4.301666   \n",
       "std       280.321807       1.203613           250.419429            0.441569   \n",
       "min         1.000000      -5.000000             0.000000            1.000000   \n",
       "25%        32.000000      -0.750000            55.000000            4.074627   \n",
       "50%        96.000000       0.100000           142.000000            4.277354   \n",
       "75%       246.000000       0.800000           301.000000            4.497797   \n",
       "max      1774.000000       3.090000          3868.000000           61.500000   \n",
       "\n",
       "       Average_WordsinSentence  Percentage_Verbs  Percentage_Nouns  \\\n",
       "count            808602.000000     808225.000000     808225.000000   \n",
       "mean                 16.179469          0.192520          0.235131   \n",
       "std                   8.316881          0.051668          0.062312   \n",
       "min                   0.000000          0.000000          0.000000   \n",
       "25%                  11.666667          0.168224          0.204082   \n",
       "50%                  15.476190          0.192509          0.230769   \n",
       "75%                  19.636364          0.216216          0.259740   \n",
       "max                 738.000000          1.000000          1.000000   \n",
       "\n",
       "       Percentage_AdjAdverb  Sentiment_Score     Popularity  \n",
       "count         808225.000000    808602.000000  808602.000000  \n",
       "mean               0.171565         0.570025       0.465905  \n",
       "std                0.065605         0.622702       0.498837  \n",
       "min                0.000000        -1.000000       0.000000  \n",
       "25%                0.138889         0.438900       0.000000  \n",
       "50%                0.163636         0.903200       0.000000  \n",
       "75%                0.193277         0.982000       1.000000  \n",
       "max                1.000000         1.000000       1.000000  "
      ]
     },
     "execution_count": 14,
     "metadata": {},
     "output_type": "execute_result"
    }
   ],
   "source": [
    "numerical_data.describe()"
   ]
  },
  {
   "cell_type": "code",
   "execution_count": 15,
   "id": "de27f0bd",
   "metadata": {},
   "outputs": [
    {
     "name": "stdout",
     "output_type": "stream",
     "text": [
      "                         User_Reviews  Diff_Ratings  Num_Tokenized_Words  \\\n",
      "User_Reviews                 1.000000     -0.036739             0.179935   \n",
      "Diff_Ratings                -0.036739      1.000000             0.021341   \n",
      "Num_Tokenized_Words          0.179935      0.021341             1.000000   \n",
      "Average_WordLength          -0.029022      0.059886             0.038462   \n",
      "Average_WordsinSentence      0.051500      0.011646             0.240709   \n",
      "Percentage_Verbs             0.003418     -0.045422             0.005525   \n",
      "Percentage_Nouns            -0.020047      0.039298            -0.069178   \n",
      "Percentage_AdjAdverb        -0.043765     -0.025264            -0.148598   \n",
      "Sentiment_Score              0.041857      0.235739             0.056257   \n",
      "Popularity                   0.262383      0.005478             0.195347   \n",
      "\n",
      "                         Average_WordLength  Average_WordsinSentence  \\\n",
      "User_Reviews                      -0.029022                 0.051500   \n",
      "Diff_Ratings                       0.059886                 0.011646   \n",
      "Num_Tokenized_Words                0.038462                 0.240709   \n",
      "Average_WordLength                 1.000000                 0.044260   \n",
      "Average_WordsinSentence            0.044260                 1.000000   \n",
      "Percentage_Verbs                  -0.203114                -0.084468   \n",
      "Percentage_Nouns                   0.258778                -0.053412   \n",
      "Percentage_AdjAdverb               0.195044                -0.146035   \n",
      "Sentiment_Score                   -0.008581                 0.025539   \n",
      "Popularity                         0.034127                 0.081372   \n",
      "\n",
      "                         Percentage_Verbs  Percentage_Nouns  \\\n",
      "User_Reviews                     0.003418         -0.020047   \n",
      "Diff_Ratings                    -0.045422          0.039298   \n",
      "Num_Tokenized_Words              0.005525         -0.069178   \n",
      "Average_WordLength              -0.203114          0.258778   \n",
      "Average_WordsinSentence         -0.084468         -0.053412   \n",
      "Percentage_Verbs                 1.000000         -0.435477   \n",
      "Percentage_Nouns                -0.435477          1.000000   \n",
      "Percentage_AdjAdverb            -0.263813         -0.292133   \n",
      "Sentiment_Score                 -0.031407         -0.021649   \n",
      "Popularity                      -0.032133          0.021745   \n",
      "\n",
      "                         Percentage_AdjAdverb  Sentiment_Score  Popularity  \n",
      "User_Reviews                        -0.043765         0.041857    0.262383  \n",
      "Diff_Ratings                        -0.025264         0.235739    0.005478  \n",
      "Num_Tokenized_Words                 -0.148598         0.056257    0.195347  \n",
      "Average_WordLength                   0.195044        -0.008581    0.034127  \n",
      "Average_WordsinSentence             -0.146035         0.025539    0.081372  \n",
      "Percentage_Verbs                    -0.263813        -0.031407   -0.032133  \n",
      "Percentage_Nouns                    -0.292133        -0.021649    0.021745  \n",
      "Percentage_AdjAdverb                 1.000000         0.026396   -0.062138  \n",
      "Sentiment_Score                      0.026396         1.000000    0.022557  \n",
      "Popularity                          -0.062138         0.022557    1.000000  \n"
     ]
    },
    {
     "data": {
      "text/plain": [
       "<AxesSubplot:>"
      ]
     },
     "execution_count": 15,
     "metadata": {},
     "output_type": "execute_result"
    },
    {
     "data": {
      "image/png": "[encoded data removed]",
      "text/plain": [
       "<Figure size 864x864 with 2 Axes>"
      ]
     },
     "metadata": {
      "needs_background": "light"
     },
     "output_type": "display_data"
    }
   ],
   "source": [
    "print(numerical_data.corr())\n",
    "f = plt.figure(figsize=(12, 12))\n",
    "sb.heatmap(numerical_data.corr(), vmin = -1, vmax = 1, linewidths = 1,\n",
    "           annot = True, fmt = \".2f\", annot_kws = {\"size\": 18}, cmap = \"RdBu\")"
   ]
  },
  {
   "cell_type": "code",
   "execution_count": 16,
   "id": "9359d834",
   "metadata": {},
   "outputs": [
    {
     "data": {
      "text/plain": [
       "<AxesSubplot:xlabel='Popularity', ylabel='User_Reviews'>"
      ]
     },
     "execution_count": 16,
     "metadata": {},
     "output_type": "execute_result"
    },
    {
     "data": {
      "image/png": "[encoded data removed]",
      "text/plain": [
       "<Figure size 720x720 with 1 Axes>"
      ]
     },
     "metadata": {
      "needs_background": "light"
     },
     "output_type": "display_data"
    }
   ],
   "source": [
    "f = plt.figure(figsize=(10,10))\n",
    "sb.boxplot(x = 'Popularity' , y = 'User_Reviews', data = book_dtf)"
   ]
  },
  {
   "cell_type": "markdown",
   "id": "c138ad89",
   "metadata": {},
   "source": [
    "more user reviews are there for popular books"
   ]
  },
  {
   "cell_type": "code",
   "execution_count": 17,
   "id": "66954fd8",
   "metadata": {},
   "outputs": [
    {
     "data": {
      "text/plain": [
       "<AxesSubplot:xlabel='Popularity', ylabel='Num_Tokenized_Words'>"
      ]
     },
     "execution_count": 17,
     "metadata": {},
     "output_type": "execute_result"
    },
    {
     "data": {
      "image/png": "[encoded data removed]",
      "text/plain": [
       "<Figure size 720x720 with 1 Axes>"
      ]
     },
     "metadata": {
      "needs_background": "light"
     },
     "output_type": "display_data"
    }
   ],
   "source": [
    "f = plt.figure(figsize=(10,10))\n",
    "sb.boxplot(x = 'Popularity' , y = 'Num_Tokenized_Words', data = book_dtf)"
   ]
  },
  {
   "cell_type": "code",
   "execution_count": 53,
   "id": "d6a13af1",
   "metadata": {},
   "outputs": [
    {
     "data": {
      "text/plain": [
       "<AxesSubplot:xlabel='Popularity', ylabel='Average_WordsinSentence'>"
      ]
     },
     "execution_count": 53,
     "metadata": {},
     "output_type": "execute_result"
    },
    {
     "data": {
      "image/png": "[encoded data removed]",
      "text/plain": [
       "<Figure size 720x720 with 1 Axes>"
      ]
     },
     "metadata": {
      "needs_background": "light"
     },
     "output_type": "display_data"
    }
   ],
   "source": [
    "f = plt.figure(figsize=(10,10))\n",
    "sb.boxplot(x = 'Popularity' , y = 'Average_WordsinSentence', data = book_dtf)"
   ]
  },
  {
   "cell_type": "code",
   "execution_count": 19,
   "id": "b7a9a539",
   "metadata": {},
   "outputs": [
    {
     "data": {
      "text/plain": [
       "<AxesSubplot:xlabel='Popularity', ylabel='Sentiment_Score'>"
      ]
     },
     "execution_count": 19,
     "metadata": {},
     "output_type": "execute_result"
    },
    {
     "data": {
      "image/png": "[encoded data removed]",
      "text/plain": [
       "<Figure size 720x720 with 1 Axes>"
      ]
     },
     "metadata": {
      "needs_background": "light"
     },
     "output_type": "display_data"
    }
   ],
   "source": [
    "f = plt.figure(figsize=(10,10))\n",
    "sb.boxplot(x = 'Popularity' , y = 'Sentiment_Score', data = book_dtf)"
   ]
  },
  {
   "cell_type": "markdown",
   "id": "03945dfa",
   "metadata": {},
   "source": [
    "## 4. Analysis of Categorical Variables with Popularity"
   ]
  },
  {
   "cell_type": "code",
   "execution_count": 23,
   "id": "3d90eae0",
   "metadata": {},
   "outputs": [
    {
     "data": {
      "text/html": [
       "<div>\n",
       "<style scoped>\n",
       "    .dataframe tbody tr th:only-of-type {\n",
       "        vertical-align: middle;\n",
       "    }\n",
       "\n",
       "    .dataframe tbody tr th {\n",
       "        vertical-align: top;\n",
       "    }\n",
       "\n",
       "    .dataframe thead th {\n",
       "        text-align: right;\n",
       "    }\n",
       "</style>\n",
       "<table border=\"1\" class=\"dataframe\">\n",
       "  <thead>\n",
       "    <tr style=\"text-align: right;\">\n",
       "      <th></th>\n",
       "      <th>Tokenized_Words</th>\n",
       "      <th>Quote</th>\n",
       "      <th>Popularity</th>\n",
       "      <th>Stars_Ratings</th>\n",
       "    </tr>\n",
       "  </thead>\n",
       "  <tbody>\n",
       "    <tr>\n",
       "      <th>15</th>\n",
       "      <td>['first', 'touch', 'boring', 'little', 'hard',...</td>\n",
       "      <td>False</td>\n",
       "      <td>1</td>\n",
       "      <td>3</td>\n",
       "    </tr>\n",
       "    <tr>\n",
       "      <th>17</th>\n",
       "      <td>['quite', 'romance', 'prefer', 'first', 'book'...</td>\n",
       "      <td>False</td>\n",
       "      <td>1</td>\n",
       "      <td>4</td>\n",
       "    </tr>\n",
       "    <tr>\n",
       "      <th>24</th>\n",
       "      <td>['beginning', 'almost', 'give', 'book', 'fifth...</td>\n",
       "      <td>False</td>\n",
       "      <td>1</td>\n",
       "      <td>5</td>\n",
       "    </tr>\n",
       "    <tr>\n",
       "      <th>43</th>\n",
       "      <td>['carry', 'series', 'healthy', 'exercise', 'lo...</td>\n",
       "      <td>False</td>\n",
       "      <td>1</td>\n",
       "      <td>4</td>\n",
       "    </tr>\n",
       "    <tr>\n",
       "      <th>55</th>\n",
       "      <td>['disturbing', 'read', 'upset', 'book', 'many'...</td>\n",
       "      <td>False</td>\n",
       "      <td>1</td>\n",
       "      <td>2</td>\n",
       "    </tr>\n",
       "    <tr>\n",
       "      <th>...</th>\n",
       "      <td>...</td>\n",
       "      <td>...</td>\n",
       "      <td>...</td>\n",
       "      <td>...</td>\n",
       "    </tr>\n",
       "    <tr>\n",
       "      <th>29082</th>\n",
       "      <td>['want', 'give', 'star', 'felt', 'need', 'stor...</td>\n",
       "      <td>False</td>\n",
       "      <td>0</td>\n",
       "      <td>3</td>\n",
       "    </tr>\n",
       "    <tr>\n",
       "      <th>29083</th>\n",
       "      <td>['ok', 'love', 'whole', 'fake', 'relationship'...</td>\n",
       "      <td>False</td>\n",
       "      <td>0</td>\n",
       "      <td>5</td>\n",
       "    </tr>\n",
       "    <tr>\n",
       "      <th>29084</th>\n",
       "      <td>['love', 'return', 'lavender', 'shore', 'bring...</td>\n",
       "      <td>False</td>\n",
       "      <td>1</td>\n",
       "      <td>5</td>\n",
       "    </tr>\n",
       "    <tr>\n",
       "      <th>29085</th>\n",
       "      <td>['heartbreaking', 'chilling', 'hypnotically', ...</td>\n",
       "      <td>False</td>\n",
       "      <td>0</td>\n",
       "      <td>5</td>\n",
       "    </tr>\n",
       "    <tr>\n",
       "      <th>29086</th>\n",
       "      <td>['love', 'love', 'story', 'line', 'hook', 'fir...</td>\n",
       "      <td>False</td>\n",
       "      <td>0</td>\n",
       "      <td>5</td>\n",
       "    </tr>\n",
       "  </tbody>\n",
       "</table>\n",
       "<p>808602 rows × 4 columns</p>\n",
       "</div>"
      ],
      "text/plain": [
       "                                         Tokenized_Words  Quote  Popularity  \\\n",
       "15     ['first', 'touch', 'boring', 'little', 'hard',...  False           1   \n",
       "17     ['quite', 'romance', 'prefer', 'first', 'book'...  False           1   \n",
       "24     ['beginning', 'almost', 'give', 'book', 'fifth...  False           1   \n",
       "43     ['carry', 'series', 'healthy', 'exercise', 'lo...  False           1   \n",
       "55     ['disturbing', 'read', 'upset', 'book', 'many'...  False           1   \n",
       "...                                                  ...    ...         ...   \n",
       "29082  ['want', 'give', 'star', 'felt', 'need', 'stor...  False           0   \n",
       "29083  ['ok', 'love', 'whole', 'fake', 'relationship'...  False           0   \n",
       "29084  ['love', 'return', 'lavender', 'shore', 'bring...  False           1   \n",
       "29085  ['heartbreaking', 'chilling', 'hypnotically', ...  False           0   \n",
       "29086  ['love', 'love', 'story', 'line', 'hook', 'fir...  False           0   \n",
       "\n",
       "       Stars_Ratings  \n",
       "15                 3  \n",
       "17                 4  \n",
       "24                 5  \n",
       "43                 4  \n",
       "55                 2  \n",
       "...              ...  \n",
       "29082              3  \n",
       "29083              5  \n",
       "29084              5  \n",
       "29085              5  \n",
       "29086              5  \n",
       "\n",
       "[808602 rows x 4 columns]"
      ]
     },
     "execution_count": 23,
     "metadata": {},
     "output_type": "execute_result"
    }
   ],
   "source": [
    "categorical_data= pd.DataFrame(book_dtf[['Tokenized_Words','Quote','Popularity','Stars_Ratings']])\n",
    "categorical_data"
   ]
  },
  {
   "cell_type": "code",
   "execution_count": 24,
   "id": "67b69c31",
   "metadata": {},
   "outputs": [
    {
     "name": "stdout",
     "output_type": "stream",
     "text": [
      "<class 'pandas.core.frame.DataFrame'>\n",
      "Int64Index: 808602 entries, 15 to 29086\n",
      "Data columns (total 4 columns):\n",
      " #   Column           Non-Null Count   Dtype \n",
      "---  ------           --------------   ----- \n",
      " 0   Tokenized_Words  808602 non-null  object\n",
      " 1   Quote            808602 non-null  bool  \n",
      " 2   Popularity       808602 non-null  int64 \n",
      " 3   Stars_Ratings    808602 non-null  int64 \n",
      "dtypes: bool(1), int64(2), object(1)\n",
      "memory usage: 57.7+ MB\n"
     ]
    }
   ],
   "source": [
    "categorical_data.info()"
   ]
  },
  {
   "cell_type": "code",
   "execution_count": 47,
   "id": "89250a0b",
   "metadata": {},
   "outputs": [
    {
     "data": {
      "text/plain": [
       "<AxesSubplot:>"
      ]
     },
     "execution_count": 47,
     "metadata": {},
     "output_type": "execute_result"
    },
    {
     "data": {
      "image/png": "[encoded data removed]",
      "text/plain": [
       "<Figure size 864x864 with 2 Axes>"
      ]
     },
     "metadata": {
      "needs_background": "light"
     },
     "output_type": "display_data"
    }
   ],
   "source": [
    "f = plt.figure(figsize=(12, 12))\n",
    "sb.heatmap(categorical_data.corr(), vmin = -1, vmax = 1, linewidths = 1,\n",
    "           annot = True, fmt = \".2f\", annot_kws = {\"size\": 18}, cmap = \"RdBu\")"
   ]
  },
  {
   "cell_type": "code",
   "execution_count": 34,
   "id": "75b34d1d",
   "metadata": {},
   "outputs": [
    {
     "data": {
      "text/plain": [
       "<seaborn.axisgrid.FacetGrid at 0x1c8b72cf9d0>"
      ]
     },
     "execution_count": 34,
     "metadata": {},
     "output_type": "execute_result"
    },
    {
     "data": {
      "image/png": "[encoded data removed]",
      "text/plain": [
       "<Figure size 576x576 with 1 Axes>"
      ]
     },
     "metadata": {
      "needs_background": "light"
     },
     "output_type": "display_data"
    }
   ],
   "source": [
    "sb.catplot(y = 'Quote', data = categorical_data, \n",
    "           kind = \"count\", \n",
    "           height = 8, \n",
    "           order = categorical_data['Quote'].value_counts().index)"
   ]
  },
  {
   "cell_type": "code",
   "execution_count": 49,
   "id": "4a1ddc87",
   "metadata": {},
   "outputs": [
    {
     "data": {
      "text/plain": [
       "<seaborn.axisgrid.FacetGrid at 0x1c8ea994b80>"
      ]
     },
     "execution_count": 49,
     "metadata": {},
     "output_type": "execute_result"
    },
    {
     "data": {
      "image/png": "[encoded data removed]",
      "text/plain": [
       "<Figure size 576x576 with 1 Axes>"
      ]
     },
     "metadata": {
      "needs_background": "light"
     },
     "output_type": "display_data"
    }
   ],
   "source": [
    "sb.catplot(y = 'Stars_Ratings', data = categorical_data, \n",
    "           kind = \"count\", \n",
    "           height = 8, \n",
    "           order = categorical_data['Stars_Ratings'].value_counts().index)"
   ]
  },
  {
   "cell_type": "code",
   "execution_count": null,
   "id": "973c4d30",
   "metadata": {},
   "outputs": [],
   "source": []
  }
 ],
 "metadata": {
  "kernelspec": {
   "display_name": "Python 3 (ipykernel)",
   "language": "python",
   "name": "python3"
  },
  "language_info": {
   "codemirror_mode": {
    "name": "ipython",
    "version": 3
   },
   "file_extension": ".py",
   "mimetype": "text/x-python",
   "name": "python",
   "nbconvert_exporter": "python",
   "pygments_lexer": "ipython3",
   "version": "3.9.7"
  }
 },
 "nbformat": 4,
 "nbformat_minor": 5
}
