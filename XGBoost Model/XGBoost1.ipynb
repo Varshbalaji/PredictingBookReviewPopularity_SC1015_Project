{
 "cells": [
  {
   "cell_type": "code",
   "execution_count": 89,
   "id": "7ea2e850",
   "metadata": {},
   "outputs": [],
   "source": [
    "import sys\n",
    "import pandas as pd\n",
    "import numpy as np\n",
    "import matplotlib.pyplot as plt\n",
    "import seaborn as sb\n",
    "from sklearn.model_selection import train_test_split\n",
    "\n",
    "import xgboost as xgb\n",
    "from sklearn.model_selection import GridSearchCV, ShuffleSplit\n",
    "from sklearn.metrics import classification_report, confusion_matrix, roc_auc_score\n",
    "\n",
    "from sklearn.metrics import confusion_matrix"
   ]
  },
  {
   "cell_type": "code",
   "execution_count": 4,
   "id": "71763274",
   "metadata": {},
   "outputs": [],
   "source": [
    "book_dtf = pd.read_csv(\"C:/Users/joann/Downloads/newProject/Data_Cleaning/NLTK.csv\")"
   ]
  },
  {
   "cell_type": "code",
   "execution_count": 13,
   "id": "26750a0a",
   "metadata": {},
   "outputs": [
    {
     "data": {
      "text/html": [
       "<div>\n",
       "<style scoped>\n",
       "    .dataframe tbody tr th:only-of-type {\n",
       "        vertical-align: middle;\n",
       "    }\n",
       "\n",
       "    .dataframe tbody tr th {\n",
       "        vertical-align: top;\n",
       "    }\n",
       "\n",
       "    .dataframe thead th {\n",
       "        text-align: right;\n",
       "    }\n",
       "</style>\n",
       "<table border=\"1\" class=\"dataframe\">\n",
       "  <thead>\n",
       "    <tr style=\"text-align: right;\">\n",
       "      <th></th>\n",
       "      <th>Popularity</th>\n",
       "      <th>User_Reviews</th>\n",
       "      <th>Stars_Ratings</th>\n",
       "      <th>Diff_Ratings</th>\n",
       "      <th>Num_Tokenized_Words</th>\n",
       "      <th>Average_WordLength</th>\n",
       "      <th>Average_WordsinSentence</th>\n",
       "      <th>Percentage_Verbs</th>\n",
       "      <th>Percentage_Nouns</th>\n",
       "      <th>Percentage_AdjAdverb</th>\n",
       "      <th>Quote</th>\n",
       "      <th>Sentiment_Score</th>\n",
       "      <th>Tokenized_Words</th>\n",
       "    </tr>\n",
       "  </thead>\n",
       "  <tbody>\n",
       "    <tr>\n",
       "      <th>0</th>\n",
       "      <td>0</td>\n",
       "      <td>18</td>\n",
       "      <td>5</td>\n",
       "      <td>0.46</td>\n",
       "      <td>14</td>\n",
       "      <td>3.500000</td>\n",
       "      <td>4.666667</td>\n",
       "      <td>0.285714</td>\n",
       "      <td>0.214286</td>\n",
       "      <td>0.071429</td>\n",
       "      <td>1</td>\n",
       "      <td>0.0000</td>\n",
       "      <td>['prince', 'read', 'find', 'say', 'never', 'gu...</td>\n",
       "    </tr>\n",
       "    <tr>\n",
       "      <th>1</th>\n",
       "      <td>0</td>\n",
       "      <td>18</td>\n",
       "      <td>5</td>\n",
       "      <td>0.53</td>\n",
       "      <td>67</td>\n",
       "      <td>4.611940</td>\n",
       "      <td>7.444444</td>\n",
       "      <td>0.134328</td>\n",
       "      <td>0.268657</td>\n",
       "      <td>0.134328</td>\n",
       "      <td>0</td>\n",
       "      <td>0.8591</td>\n",
       "      <td>['spoiler', 'alert', 'little', 'memorial', 'fa...</td>\n",
       "    </tr>\n",
       "    <tr>\n",
       "      <th>2</th>\n",
       "      <td>0</td>\n",
       "      <td>18</td>\n",
       "      <td>5</td>\n",
       "      <td>0.47</td>\n",
       "      <td>5</td>\n",
       "      <td>3.000000</td>\n",
       "      <td>2.500000</td>\n",
       "      <td>0.000000</td>\n",
       "      <td>0.400000</td>\n",
       "      <td>0.000000</td>\n",
       "      <td>0</td>\n",
       "      <td>0.5550</td>\n",
       "      <td>['one', 'fav', 'book']</td>\n",
       "    </tr>\n",
       "    <tr>\n",
       "      <th>3</th>\n",
       "      <td>0</td>\n",
       "      <td>18</td>\n",
       "      <td>5</td>\n",
       "      <td>1.14</td>\n",
       "      <td>337</td>\n",
       "      <td>4.038576</td>\n",
       "      <td>16.850000</td>\n",
       "      <td>0.225519</td>\n",
       "      <td>0.189911</td>\n",
       "      <td>0.148368</td>\n",
       "      <td>0</td>\n",
       "      <td>0.9861</td>\n",
       "      <td>['spoiler', 'alert', 'oh', 'goodness', 'one', ...</td>\n",
       "    </tr>\n",
       "    <tr>\n",
       "      <th>4</th>\n",
       "      <td>0</td>\n",
       "      <td>18</td>\n",
       "      <td>4</td>\n",
       "      <td>-0.11</td>\n",
       "      <td>52</td>\n",
       "      <td>3.807692</td>\n",
       "      <td>17.333333</td>\n",
       "      <td>0.326923</td>\n",
       "      <td>0.153846</td>\n",
       "      <td>0.115385</td>\n",
       "      <td>0</td>\n",
       "      <td>0.8807</td>\n",
       "      <td>['think', 'great', 'educational', 'book', 'rea...</td>\n",
       "    </tr>\n",
       "  </tbody>\n",
       "</table>\n",
       "</div>"
      ],
      "text/plain": [
       "   Popularity  User_Reviews  Stars_Ratings  Diff_Ratings  Num_Tokenized_Words  \\\n",
       "0           0            18              5          0.46                   14   \n",
       "1           0            18              5          0.53                   67   \n",
       "2           0            18              5          0.47                    5   \n",
       "3           0            18              5          1.14                  337   \n",
       "4           0            18              4         -0.11                   52   \n",
       "\n",
       "   Average_WordLength  Average_WordsinSentence  Percentage_Verbs  \\\n",
       "0            3.500000                 4.666667          0.285714   \n",
       "1            4.611940                 7.444444          0.134328   \n",
       "2            3.000000                 2.500000          0.000000   \n",
       "3            4.038576                16.850000          0.225519   \n",
       "4            3.807692                17.333333          0.326923   \n",
       "\n",
       "   Percentage_Nouns  Percentage_AdjAdverb  Quote  Sentiment_Score  \\\n",
       "0          0.214286              0.071429      1           0.0000   \n",
       "1          0.268657              0.134328      0           0.8591   \n",
       "2          0.400000              0.000000      0           0.5550   \n",
       "3          0.189911              0.148368      0           0.9861   \n",
       "4          0.153846              0.115385      0           0.8807   \n",
       "\n",
       "                                     Tokenized_Words  \n",
       "0  ['prince', 'read', 'find', 'say', 'never', 'gu...  \n",
       "1  ['spoiler', 'alert', 'little', 'memorial', 'fa...  \n",
       "2                             ['one', 'fav', 'book']  \n",
       "3  ['spoiler', 'alert', 'oh', 'goodness', 'one', ...  \n",
       "4  ['think', 'great', 'educational', 'book', 'rea...  "
      ]
     },
     "execution_count": 13,
     "metadata": {},
     "output_type": "execute_result"
    }
   ],
   "source": [
    "book_dtf.head()"
   ]
  },
  {
   "cell_type": "code",
   "execution_count": 17,
   "id": "351a9da7",
   "metadata": {},
   "outputs": [],
   "source": [
    "#Split the dataset into 85% train set and 15% test set\n",
    "#Integer is inserted to random_state to reproduce the same split everytime it is run\n",
    "X_train, X_test, y_train, y_test = train_test_split(book_dtf.drop(columns=[\"Popularity\"]), book_dtf[\"Popularity\"],\n",
    "                                                    test_size = 0.15, random_state = 229)"
   ]
  },
  {
   "cell_type": "code",
   "execution_count": 18,
   "id": "9d61e718",
   "metadata": {},
   "outputs": [],
   "source": [
    "#First try to predict popularity with Non-Textual features: User_Reviews, Diff_Ratings, Stars_Ratings\n",
    "X_train = X_train[[\"User_Reviews\",\"Stars_Ratings\",\"Diff_Ratings\"]]"
   ]
  },
  {
   "cell_type": "code",
   "execution_count": 19,
   "id": "870ecfb6",
   "metadata": {},
   "outputs": [],
   "source": [
    "# Instantiate the XGBRegressor Model\n",
    "# Objective = \"Binary:Logitic\" is used for logistic regression for binary classification (Statistical Analysis method to predict a binary outcome, such as yes or no)\n",
    "\n",
    "# Evaluation Matrix (eval_matrix) is set to \"error\"\n",
    "    # Calculate #(wrong case)/#(all cases). For the predictions, the evalution will regard the instances with\n",
    "    # prediction value larger than 0.5 as positive instances, and the others as negative instances\n",
    "\n",
    "# Seed variable is specified to reproduce the same result everytime the code is run\n",
    "xgb_model = xgb.XGBRegressor(objective='binary:logistic', eval_metric='error', seed=229, n_jobs=-1)"
   ]
  },
  {
   "cell_type": "code",
   "execution_count": 22,
   "id": "32838303",
   "metadata": {},
   "outputs": [],
   "source": [
    "#Parameters to try\n",
    "parameters = {\n",
    "    'n_estimators': (50,100,1000),\n",
    "    'max_depth': (2,4,6),\n",
    "    'learning_rate': (0.01, 0.1, 0.3)\n",
    "}\n",
    "\n",
    "#ShuffleSplit is used to randomly sample dataset during each iteration in order to generate a training and test set.\n",
    "# n_splits set to 1, because dataset is only split to test set and train set\n",
    "#test_size represents the proportion of the dataset to include in the test split. test set will be 20% of the overall data \n",
    "ss = ShuffleSplit(n_splits=1, test_size=0.2, random_state=229)\n",
    "\n",
    "#GridSearchCV loops through the predefined parameters, and use it to fit the model on the training set.\n",
    "#This way, the best parameters can be selected \n",
    "GridSearch_xgb_model = GridSearchCV(xgb_model,parameters, cv= ss )"
   ]
  },
  {
   "cell_type": "code",
   "execution_count": 23,
   "id": "e5050ec5",
   "metadata": {},
   "outputs": [
    {
     "data": {
      "text/plain": [
       "GridSearchCV(cv=ShuffleSplit(n_splits=1, random_state=229, test_size=0.2, train_size=None),\n",
       "             estimator=XGBRegressor(base_score=None, booster=None,\n",
       "                                    colsample_bylevel=None,\n",
       "                                    colsample_bynode=None,\n",
       "                                    colsample_bytree=None,\n",
       "                                    enable_categorical=False,\n",
       "                                    eval_metric='error', gamma=None,\n",
       "                                    gpu_id=None, importance_type=None,\n",
       "                                    interaction_constraints=None,\n",
       "                                    learning_rate=None, max_de...\n",
       "                                    missing=nan, monotone_constraints=None,\n",
       "                                    n_estimators=100, n_jobs=-1,\n",
       "                                    num_parallel_tree=None,\n",
       "                                    objective='binary:logistic', predictor=None,\n",
       "                                    random_state=None, reg_alpha=None,\n",
       "                                    reg_lambda=None, scale_pos_weight=None,\n",
       "                                    seed=229, subsample=None, tree_method=None,\n",
       "                                    validate_parameters=None, ...),\n",
       "             param_grid={'learning_rate': (0.01, 0.1, 0.3),\n",
       "                         'max_depth': (2, 4, 6),\n",
       "                         'n_estimators': (50, 100, 1000)})"
      ]
     },
     "execution_count": 23,
     "metadata": {},
     "output_type": "execute_result"
    }
   ],
   "source": [
    "#Train the model to predict Popularity based on Non-Textual features\n",
    "GridSearch_xgb_model.fit(X_train, y_train)"
   ]
  },
  {
   "cell_type": "code",
   "execution_count": 24,
   "id": "3d1820ca",
   "metadata": {},
   "outputs": [
    {
     "name": "stdout",
     "output_type": "stream",
     "text": [
      "{'learning_rate': 0.3, 'max_depth': 4, 'n_estimators': 1000}\n"
     ]
    }
   ],
   "source": [
    "#See which parameters best fit this model\n",
    "print(GridSearch_xgb_model.best_params_)"
   ]
  },
  {
   "cell_type": "code",
   "execution_count": 82,
   "id": "e726ecb0",
   "metadata": {},
   "outputs": [],
   "source": [
    "#Checking how good the predictions are on the Train Set.   \n",
    "X_train = X_train[[\"User_Reviews\",\"Stars_Ratings\",\"Diff_Ratings\"]]\n",
    "y_train_pred = GridSearch_xgb_model.predict(X_train)\n",
    "y_train_pred = list(map(round,y_train_pred))"
   ]
  },
  {
   "cell_type": "code",
   "execution_count": 83,
   "id": "ce950c68",
   "metadata": {},
   "outputs": [
    {
     "data": {
      "text/plain": [
       "<AxesSubplot:>"
      ]
     },
     "execution_count": 83,
     "metadata": {},
     "output_type": "execute_result"
    },
    {
     "data": {
      "image/png": "[encoded data removed]",
      "text/plain": [
       "<Figure size 432x288 with 2 Axes>"
      ]
     },
     "metadata": {
      "needs_background": "light"
     },
     "output_type": "display_data"
    }
   ],
   "source": [
    "#Plot the two-way Confusion Matrix\n",
    "sb.heatmap(confusion_matrix(y_train, y_train_pred), \n",
    "           annot = True, fmt=\".0f\", annot_kws={\"size\": 18})"
   ]
  },
  {
   "cell_type": "code",
   "execution_count": 84,
   "id": "5eb332a8",
   "metadata": {},
   "outputs": [
    {
     "name": "stdout",
     "output_type": "stream",
     "text": [
      "Train Data:\n",
      "Accuracy  :\t 0.8294521334801644\n",
      "TPR Train :\t 0.11997500255076013\n",
      "TNR Train :\t 0.9872763123364234\n",
      "FPR Train :\t 0.01272368766357659\n",
      "FNR Train :\t 0.8800249974492399\n"
     ]
    }
   ],
   "source": [
    "confusion_matrix_train = confusion_matrix(y_train, y_train_pred)\n",
    "#Calculate accuracy of the prediction on train data\n",
    "\n",
    "#Accuracy = (TP+TN)/Total data\n",
    "accuracy = (confusion_matrix_train[1][1]+confusion_matrix_train[0][0])/(confusion_matrix_train[1][1]+confusion_matrix_train[1][0]+confusion_matrix_train[0][1]+confusion_matrix_train[0][0])\n",
    "#TPR (True Positive Rate) = TP/(TP+FN)\n",
    "TPR = confusion_matrix_train[1][1]/(confusion_matrix_train[1][1]+confusion_matrix_train[1][0])\n",
    "#TNR (True Negative Rate) = TN/(TN+FP)\n",
    "TNR = confusion_matrix_train[0][0]/(confusion_matrix_train[0][0]+ confusion_matrix_train[0][1])\n",
    "#FPR (False Positive Rate) = FP/(TN+FP)\n",
    "FPR = confusion_matrix_train[0][1]/(confusion_matrix_train[0][1]+confusion_matrix_train[0][0])\n",
    "#FNR (False Negative Rate) = FN/(TP+FN)\n",
    "FNR = confusion_matrix_train[1][0]/(confusion_matrix_train[1][0]+confusion_matrix_train[1][1])\n",
    "\n",
    "print(\"Train Data:\")\n",
    "print(\"Accuracy  :\\t\", accuracy)\n",
    "print(\"TPR Train :\\t\", TPR)\n",
    "print(\"TNR Train :\\t\", TNR)\n",
    "print(\"FPR Train :\\t\", FPR)\n",
    "print(\"FNR Train :\\t\", FNR)"
   ]
  },
  {
   "cell_type": "code",
   "execution_count": 85,
   "id": "8ec42710",
   "metadata": {},
   "outputs": [
    {
     "data": {
      "text/plain": [
       "0    1658554\n",
       "1     369119\n",
       "Name: Popularity, dtype: int64"
      ]
     },
     "execution_count": 85,
     "metadata": {},
     "output_type": "execute_result"
    }
   ],
   "source": [
    "book_dtf[\"Popularity\"].value_counts()"
   ]
  },
  {
   "cell_type": "markdown",
   "id": "8d8009cd",
   "metadata": {},
   "source": [
    "# Analysis of train_set prediction\n",
    "Has quite high TNR and FNR, and low TPR as well as FPR.\n",
    "\n",
    "High TNR means high percentage of the model predicting review isn't popular\n",
    "Low  TPR means low percentage of the model predicting review is popular (maybe because of the distribution, there's more data for not popular than for popular)\n",
    "\n",
    "High FNR theres a high chance that popular reviews is predicted as not-popular (maybe because of distribution again)\n",
    "Low FPR means theres a low chance that not-popular reviews is predicted as popular "
   ]
  },
  {
   "cell_type": "code",
   "execution_count": 90,
   "id": "844b1b7c",
   "metadata": {},
   "outputs": [],
   "source": [
    "#Checking how good the predictions are on the Test Set.   \n",
    "X_test = X_test[[\"User_Reviews\",\"Stars_Ratings\",\"Diff_Ratings\"]]\n",
    "y_test_pred = GridSearch_xgb_model.predict(X_test)\n",
    "y_test_pred = list(map(round,y_test_pred))"
   ]
  },
  {
   "cell_type": "code",
   "execution_count": 91,
   "id": "4d8bc93c",
   "metadata": {},
   "outputs": [
    {
     "data": {
      "text/plain": [
       "<AxesSubplot:>"
      ]
     },
     "execution_count": 91,
     "metadata": {},
     "output_type": "execute_result"
    },
    {
     "data": {
      "image/png": "[encoded data removed]",
      "text/plain": [
       "<Figure size 432x288 with 2 Axes>"
      ]
     },
     "metadata": {
      "needs_background": "light"
     },
     "output_type": "display_data"
    }
   ],
   "source": [
    "# Plot the two-way Confusion Matrix\n",
    "sb.heatmap(confusion_matrix(y_test, y_test_pred), \n",
    "           annot = True, fmt=\".0f\", annot_kws={\"size\": 18})"
   ]
  },
  {
   "cell_type": "code",
   "execution_count": 93,
   "id": "a252c907",
   "metadata": {},
   "outputs": [
    {
     "name": "stdout",
     "output_type": "stream",
     "text": [
      "Train Data:\n",
      "Accuracy  :\t 0.8277007144477578\n",
      "TPR Train :\t 0.11745093445311515\n",
      "TNR Train :\t 0.9861861789402567\n",
      "FPR Train :\t 0.013813821059743268\n",
      "FNR Train :\t 0.8825490655468848\n"
     ]
    }
   ],
   "source": [
    "confusion_matrix_test = confusion_matrix(y_test, y_test_pred)\n",
    "#Calculate accuracy of the prediction on train data\n",
    "\n",
    "#Accuracy = (TP+TN)/Total data\n",
    "accuracy = (confusion_matrix_test[1][1]+confusion_matrix_test[0][0])/(confusion_matrix_test[1][1]+confusion_matrix_test[1][0]+confusion_matrix_test[0][1]+confusion_matrix_test[0][0])\n",
    "#TPR (True Positive Rate) = TP/(TP+FN)\n",
    "TPR = confusion_matrix_test[1][1]/(confusion_matrix_test[1][1]+confusion_matrix_test[1][0])\n",
    "#TNR (True Negative Rate) = TN/(TN+FP)\n",
    "TNR = confusion_matrix_test[0][0]/(confusion_matrix_test[0][0]+ confusion_matrix_test[0][1])\n",
    "#FPR (False Positive Rate) = FP/(TN+FP)\n",
    "FPR = confusion_matrix_test[0][1]/(confusion_matrix_test[0][1]+confusion_matrix_test[0][0])\n",
    "#FNR (False Negative Rate) = FN/(TP+FN)\n",
    "FNR = confusion_matrix_test[1][0]/(confusion_matrix_test[1][0]+confusion_matrix_test[1][1])\n",
    "\n",
    "print(\"Test Data:\")\n",
    "print(\"Accuracy  :\\t\", accuracy)\n",
    "print(\"TPR Train :\\t\", TPR)\n",
    "print(\"TNR Train :\\t\", TNR)\n",
    "print(\"FPR Train :\\t\", FPR)\n",
    "print(\"FNR Train :\\t\", FNR)"
   ]
  },
  {
   "cell_type": "markdown",
   "id": "91c6b647",
   "metadata": {},
   "source": [
    "Difference in percentage from test and train is more or less the same, so can rest assured not overfitting. Analysis more or less the same as train dataset"
   ]
  },
  {
   "cell_type": "code",
   "execution_count": 103,
   "id": "8ac1da4a",
   "metadata": {},
   "outputs": [
    {
     "name": "stdout",
     "output_type": "stream",
     "text": [
      "[0.48971513 0.39927858 0.1110063 ]\n"
     ]
    },
    {
     "data": {
      "image/png": "[encoded data removed]",
      "text/plain": [
       "<Figure size 432x288 with 1 Axes>"
      ]
     },
     "metadata": {
      "needs_background": "light"
     },
     "output_type": "display_data"
    }
   ],
   "source": [
    "#Feature importance provides a score that indicates how useful each future is in the construction of the boosted decision trees within the model.\n",
    "#Higher score implies that the attribute is used more to make key decision with decision trees, thus it has higher relative importance\n",
    "print(GridSearch_xgb_model.best_estimator_.feature_importances_)\n",
    "#Number shows weight which is the is the number of times a feature appears in a tree\n",
    "xgb.plot_importance(GridSearch_xgb_model.best_estimator_)\n",
    "plt.tight_layout()"
   ]
  },
  {
   "cell_type": "code",
   "execution_count": 122,
   "id": "9a34f196",
   "metadata": {},
   "outputs": [
    {
     "data": {
      "image/png": "[encoded data removed]",
      "text/plain": [
       "<Figure size 432x288 with 1 Axes>"
      ]
     },
     "metadata": {
      "needs_background": "light"
     },
     "output_type": "display_data"
    }
   ],
   "source": [
    "#Bar Plot to show Importance Score of each Non-Textual variables\n",
    "variables = ('User_Reviews', 'Diff_Ratings', 'Stars_Ratings')\n",
    "fig, ax = plt.subplots()\n",
    "rects1 = ax.bar(variables, GridSearch_xgb_model.best_estimator_.feature_importances_, label = \"Importance Score\")\n",
    "ax.set_ylabel('Importance Score')\n",
    "ax.set_title('Importance Score of Non-Textual Variables')\n",
    "ax.bar_label(rects1, fmt='%.2f')\n",
    "plt.show()"
   ]
  },
  {
   "cell_type": "code",
   "execution_count": 146,
   "id": "95ecd650",
   "metadata": {},
   "outputs": [],
   "source": [
    "#Split the dataset into 85% train set and 15% test set\n",
    "#Integer is inserted to random_state to reproduce the same split everytime it is run\n",
    "X_train, X_test, y_train, y_test = train_test_split(book_dtf.drop(columns=[\"Popularity\"]), book_dtf[\"Popularity\"],\n",
    "                                                    test_size = 0.15, random_state = 229)"
   ]
  },
  {
   "cell_type": "code",
   "execution_count": 124,
   "id": "2917c50a",
   "metadata": {},
   "outputs": [
    {
     "data": {
      "text/html": [
       "<div>\n",
       "<style scoped>\n",
       "    .dataframe tbody tr th:only-of-type {\n",
       "        vertical-align: middle;\n",
       "    }\n",
       "\n",
       "    .dataframe tbody tr th {\n",
       "        vertical-align: top;\n",
       "    }\n",
       "\n",
       "    .dataframe thead th {\n",
       "        text-align: right;\n",
       "    }\n",
       "</style>\n",
       "<table border=\"1\" class=\"dataframe\">\n",
       "  <thead>\n",
       "    <tr style=\"text-align: right;\">\n",
       "      <th></th>\n",
       "      <th>Popularity</th>\n",
       "      <th>User_Reviews</th>\n",
       "      <th>Stars_Ratings</th>\n",
       "      <th>Diff_Ratings</th>\n",
       "      <th>Num_Tokenized_Words</th>\n",
       "      <th>Average_WordLength</th>\n",
       "      <th>Average_WordsinSentence</th>\n",
       "      <th>Percentage_Verbs</th>\n",
       "      <th>Percentage_Nouns</th>\n",
       "      <th>Percentage_AdjAdverb</th>\n",
       "      <th>Quote</th>\n",
       "      <th>Sentiment_Score</th>\n",
       "      <th>Tokenized_Words</th>\n",
       "    </tr>\n",
       "  </thead>\n",
       "  <tbody>\n",
       "    <tr>\n",
       "      <th>0</th>\n",
       "      <td>0</td>\n",
       "      <td>18</td>\n",
       "      <td>5</td>\n",
       "      <td>0.46</td>\n",
       "      <td>14</td>\n",
       "      <td>3.500000</td>\n",
       "      <td>4.666667</td>\n",
       "      <td>0.285714</td>\n",
       "      <td>0.214286</td>\n",
       "      <td>0.071429</td>\n",
       "      <td>1</td>\n",
       "      <td>0.0000</td>\n",
       "      <td>prince read find say never guess</td>\n",
       "    </tr>\n",
       "    <tr>\n",
       "      <th>1</th>\n",
       "      <td>0</td>\n",
       "      <td>18</td>\n",
       "      <td>5</td>\n",
       "      <td>0.53</td>\n",
       "      <td>67</td>\n",
       "      <td>4.611940</td>\n",
       "      <td>7.444444</td>\n",
       "      <td>0.134328</td>\n",
       "      <td>0.268657</td>\n",
       "      <td>0.134328</td>\n",
       "      <td>0</td>\n",
       "      <td>0.8591</td>\n",
       "      <td>spoiler alert little memorial favorite teacher...</td>\n",
       "    </tr>\n",
       "    <tr>\n",
       "      <th>2</th>\n",
       "      <td>0</td>\n",
       "      <td>18</td>\n",
       "      <td>5</td>\n",
       "      <td>0.47</td>\n",
       "      <td>5</td>\n",
       "      <td>3.000000</td>\n",
       "      <td>2.500000</td>\n",
       "      <td>0.000000</td>\n",
       "      <td>0.400000</td>\n",
       "      <td>0.000000</td>\n",
       "      <td>0</td>\n",
       "      <td>0.5550</td>\n",
       "      <td>one fav book</td>\n",
       "    </tr>\n",
       "    <tr>\n",
       "      <th>3</th>\n",
       "      <td>0</td>\n",
       "      <td>18</td>\n",
       "      <td>5</td>\n",
       "      <td>1.14</td>\n",
       "      <td>337</td>\n",
       "      <td>4.038576</td>\n",
       "      <td>16.850000</td>\n",
       "      <td>0.225519</td>\n",
       "      <td>0.189911</td>\n",
       "      <td>0.148368</td>\n",
       "      <td>0</td>\n",
       "      <td>0.9861</td>\n",
       "      <td>spoiler alert oh goodness one absolute favorit...</td>\n",
       "    </tr>\n",
       "    <tr>\n",
       "      <th>4</th>\n",
       "      <td>0</td>\n",
       "      <td>18</td>\n",
       "      <td>4</td>\n",
       "      <td>-0.11</td>\n",
       "      <td>52</td>\n",
       "      <td>3.807692</td>\n",
       "      <td>17.333333</td>\n",
       "      <td>0.326923</td>\n",
       "      <td>0.153846</td>\n",
       "      <td>0.115385</td>\n",
       "      <td>0</td>\n",
       "      <td>0.8807</td>\n",
       "      <td>think great educational book read forth grade ...</td>\n",
       "    </tr>\n",
       "  </tbody>\n",
       "</table>\n",
       "</div>"
      ],
      "text/plain": [
       "   Popularity  User_Reviews  Stars_Ratings  Diff_Ratings  Num_Tokenized_Words  \\\n",
       "0           0            18              5          0.46                   14   \n",
       "1           0            18              5          0.53                   67   \n",
       "2           0            18              5          0.47                    5   \n",
       "3           0            18              5          1.14                  337   \n",
       "4           0            18              4         -0.11                   52   \n",
       "\n",
       "   Average_WordLength  Average_WordsinSentence  Percentage_Verbs  \\\n",
       "0            3.500000                 4.666667          0.285714   \n",
       "1            4.611940                 7.444444          0.134328   \n",
       "2            3.000000                 2.500000          0.000000   \n",
       "3            4.038576                16.850000          0.225519   \n",
       "4            3.807692                17.333333          0.326923   \n",
       "\n",
       "   Percentage_Nouns  Percentage_AdjAdverb  Quote  Sentiment_Score  \\\n",
       "0          0.214286              0.071429      1           0.0000   \n",
       "1          0.268657              0.134328      0           0.8591   \n",
       "2          0.400000              0.000000      0           0.5550   \n",
       "3          0.189911              0.148368      0           0.9861   \n",
       "4          0.153846              0.115385      0           0.8807   \n",
       "\n",
       "                                     Tokenized_Words  \n",
       "0                   prince read find say never guess  \n",
       "1  spoiler alert little memorial favorite teacher...  \n",
       "2                                       one fav book  \n",
       "3  spoiler alert oh goodness one absolute favorit...  \n",
       "4  think great educational book read forth grade ...  "
      ]
     },
     "execution_count": 124,
     "metadata": {},
     "output_type": "execute_result"
    }
   ],
   "source": [
    "book_dtf.head()"
   ]
  },
  {
   "cell_type": "code",
   "execution_count": 143,
   "id": "c5c08639",
   "metadata": {},
   "outputs": [],
   "source": [
    "#Try to predict popularity with Textual features:\n",
    "    #Num_Tokenized_Words, Average_WordLength, Average_WordsinSentence,Percentage_Verbs,\n",
    "    #Percentage_Nouns, Percentage_AdjAdverb, Quote, Sentiment_Score\n",
    "X_train = X_train[[\"Num_Tokenized_Words\",\"Average_WordLength\",\"Average_WordsinSentence\", \"Percentage_Verbs\",\n",
    "                   \"Percentage_Nouns\",\"Percentage_AdjAdverb\", \"Quote\",\"Sentiment_Score\"]]"
   ]
  },
  {
   "cell_type": "code",
   "execution_count": 131,
   "id": "c5a9b0e7",
   "metadata": {},
   "outputs": [
    {
     "data": {
      "text/plain": [
       "GridSearchCV(cv=ShuffleSplit(n_splits=1, random_state=229, test_size=0.2, train_size=None),\n",
       "             estimator=XGBRegressor(base_score=None, booster=None,\n",
       "                                    colsample_bylevel=None,\n",
       "                                    colsample_bynode=None,\n",
       "                                    colsample_bytree=None,\n",
       "                                    enable_categorical=False,\n",
       "                                    eval_metric='error', gamma=None,\n",
       "                                    gpu_id=None, importance_type=None,\n",
       "                                    interaction_constraints=None,\n",
       "                                    learning_rate=None, max_de...\n",
       "                                    missing=nan, monotone_constraints=None,\n",
       "                                    n_estimators=100, n_jobs=-1,\n",
       "                                    num_parallel_tree=None,\n",
       "                                    objective='binary:logistic', predictor=None,\n",
       "                                    random_state=None, reg_alpha=None,\n",
       "                                    reg_lambda=None, scale_pos_weight=None,\n",
       "                                    seed=229, subsample=None, tree_method=None,\n",
       "                                    validate_parameters=None, ...),\n",
       "             param_grid={'learning_rate': (0.01, 0.1, 0.3),\n",
       "                         'max_depth': (2, 4, 6),\n",
       "                         'n_estimators': (50, 100, 1000)})"
      ]
     },
     "execution_count": 131,
     "metadata": {},
     "output_type": "execute_result"
    }
   ],
   "source": [
    "#Perform fitting using the same conditions and parameters as Non-Textual features\n",
    "GridSearch_xgb_model.fit(X_train, y_train)"
   ]
  },
  {
   "cell_type": "code",
   "execution_count": 136,
   "id": "2e33af0f",
   "metadata": {},
   "outputs": [],
   "source": [
    "#Checking how good the predictions are on the Train Set.   \n",
    "X_train = X_train[[\"Num_Tokenized_Words\",\"Average_WordLength\",\"Average_WordsinSentence\", \"Percentage_Verbs\",\n",
    "                   \"Percentage_Nouns\",\"Percentage_AdjAdverb\", \"Quote\",\"Sentiment_Score\"]]\n",
    "y_train_pred = GridSearch_xgb_model.predict(X_train)\n",
    "y_train_pred = list(map(round,y_train_pred))"
   ]
  },
  {
   "cell_type": "code",
   "execution_count": 137,
   "id": "1b75295e",
   "metadata": {},
   "outputs": [
    {
     "data": {
      "text/plain": [
       "<AxesSubplot:>"
      ]
     },
     "execution_count": 137,
     "metadata": {},
     "output_type": "execute_result"
    },
    {
     "data": {
      "image/png": "[encoded data removed]",
      "text/plain": [
       "<Figure size 432x288 with 2 Axes>"
      ]
     },
     "metadata": {
      "needs_background": "light"
     },
     "output_type": "display_data"
    }
   ],
   "source": [
    "#Plot the two-way Confusion Matrix\n",
    "sb.heatmap(confusion_matrix(y_train, y_train_pred), \n",
    "           annot = True, fmt=\".0f\", annot_kws={\"size\": 18})"
   ]
  },
  {
   "cell_type": "code",
   "execution_count": 138,
   "id": "9a0f068d",
   "metadata": {},
   "outputs": [
    {
     "name": "stdout",
     "output_type": "stream",
     "text": [
      "Train Data:\n",
      "Accuracy  :\t 0.8184485025430485\n",
      "TPR Train :\t 0.00576152943577186\n",
      "TNR Train :\t 0.9992318549674089\n",
      "FPR Train :\t 0.0007681450325911951\n",
      "FNR Train :\t 0.9942384705642281\n"
     ]
    }
   ],
   "source": [
    "confusion_matrix_train = confusion_matrix(y_train, y_train_pred)\n",
    "#Calculate accuracy of the prediction on train data\n",
    "\n",
    "#Accuracy = (TP+TN)/Total data\n",
    "accuracy = (confusion_matrix_train[1][1]+confusion_matrix_train[0][0])/(confusion_matrix_train[1][1]+confusion_matrix_train[1][0]+confusion_matrix_train[0][1]+confusion_matrix_train[0][0])\n",
    "#TPR (True Positive Rate) = TP/(TP+FN)\n",
    "TPR = confusion_matrix_train[1][1]/(confusion_matrix_train[1][1]+confusion_matrix_train[1][0])\n",
    "#TNR (True Negative Rate) = TN/(TN+FP)\n",
    "TNR = confusion_matrix_train[0][0]/(confusion_matrix_train[0][0]+ confusion_matrix_train[0][1])\n",
    "#FPR (False Positive Rate) = FP/(TN+FP)\n",
    "FPR = confusion_matrix_train[0][1]/(confusion_matrix_train[0][1]+confusion_matrix_train[0][0])\n",
    "#FNR (False Negative Rate) = FN/(TP+FN)\n",
    "FNR = confusion_matrix_train[1][0]/(confusion_matrix_train[1][0]+confusion_matrix_train[1][1])\n",
    "\n",
    "print(\"Train Data:\")\n",
    "print(\"Accuracy  :\\t\", accuracy)\n",
    "print(\"TPR Train :\\t\", TPR)\n",
    "print(\"TNR Train :\\t\", TNR)\n",
    "print(\"FPR Train :\\t\", FPR)\n",
    "print(\"FNR Train :\\t\", FNR)"
   ]
  },
  {
   "cell_type": "code",
   "execution_count": 148,
   "id": "255b6b4e",
   "metadata": {},
   "outputs": [],
   "source": [
    "#Checking how good the predictions are on the Test Set.   \n",
    "X_test = X_test[[\"Num_Tokenized_Words\",\"Average_WordLength\",\"Average_WordsinSentence\", \"Percentage_Verbs\",\n",
    "                   \"Percentage_Nouns\",\"Percentage_AdjAdverb\", \"Quote\",\"Sentiment_Score\"]]\n",
    "y_test_pred = GridSearch_xgb_model.predict(X_test)\n",
    "y_test_pred = list(map(round,y_test_pred))"
   ]
  },
  {
   "cell_type": "code",
   "execution_count": 149,
   "id": "587748de",
   "metadata": {},
   "outputs": [
    {
     "data": {
      "text/plain": [
       "<AxesSubplot:>"
      ]
     },
     "execution_count": 149,
     "metadata": {},
     "output_type": "execute_result"
    },
    {
     "data": {
      "image/png": "[encoded data removed]",
      "text/plain": [
       "<Figure size 432x288 with 2 Axes>"
      ]
     },
     "metadata": {
      "needs_background": "light"
     },
     "output_type": "display_data"
    }
   ],
   "source": [
    "# Plot the two-way Confusion Matrix\n",
    "sb.heatmap(confusion_matrix(y_test, y_test_pred), \n",
    "           annot = True, fmt=\".0f\", annot_kws={\"size\": 18})"
   ]
  },
  {
   "cell_type": "code",
   "execution_count": 150,
   "id": "f813035f",
   "metadata": {},
   "outputs": [
    {
     "name": "stdout",
     "output_type": "stream",
     "text": [
      "Train Data:\n",
      "Accuracy  :\t 0.8177780115797745\n",
      "TPR Train :\t 0.005154360480833348\n",
      "TNR Train :\t 0.9991072290319467\n",
      "FPR Train :\t 0.0008927709680532767\n",
      "FNR Train :\t 0.9948456395191666\n"
     ]
    }
   ],
   "source": [
    "confusion_matrix_test = confusion_matrix(y_test, y_test_pred)\n",
    "#Calculate accuracy of the prediction on train data\n",
    "\n",
    "#Accuracy = (TP+TN)/Total data\n",
    "accuracy = (confusion_matrix_test[1][1]+confusion_matrix_test[0][0])/(confusion_matrix_test[1][1]+confusion_matrix_test[1][0]+confusion_matrix_test[0][1]+confusion_matrix_test[0][0])\n",
    "#TPR (True Positive Rate) = TP/(TP+FN)\n",
    "TPR = confusion_matrix_test[1][1]/(confusion_matrix_test[1][1]+confusion_matrix_test[1][0])\n",
    "#TNR (True Negative Rate) = TN/(TN+FP)\n",
    "TNR = confusion_matrix_test[0][0]/(confusion_matrix_test[0][0]+ confusion_matrix_test[0][1])\n",
    "#FPR (False Positive Rate) = FP/(TN+FP)\n",
    "FPR = confusion_matrix_test[0][1]/(confusion_matrix_test[0][1]+confusion_matrix_test[0][0])\n",
    "#FNR (False Negative Rate) = FN/(TP+FN)\n",
    "FNR = confusion_matrix_test[1][0]/(confusion_matrix_test[1][0]+confusion_matrix_test[1][1])\n",
    "\n",
    "print(\"Test Data:\")\n",
    "print(\"Accuracy  :\\t\", accuracy)\n",
    "print(\"TPR Train :\\t\", TPR)\n",
    "print(\"TNR Train :\\t\", TNR)\n",
    "print(\"FPR Train :\\t\", FPR)\n",
    "print(\"FNR Train :\\t\", FNR)"
   ]
  },
  {
   "cell_type": "code",
   "execution_count": 151,
   "id": "58db64b3",
   "metadata": {},
   "outputs": [
    {
     "name": "stdout",
     "output_type": "stream",
     "text": [
      "[0.70230234 0.06850842 0.02030925 0.05225765 0.06049747 0.02732718\n",
      " 0.04774781 0.02104987]\n"
     ]
    },
    {
     "data": {
      "image/png": "[encoded data removed]",
      "text/plain": [
       "<Figure size 432x288 with 1 Axes>"
      ]
     },
     "metadata": {
      "needs_background": "light"
     },
     "output_type": "display_data"
    }
   ],
   "source": [
    "#Feature importance provides a score that indicates how useful each future is in the construction of the boosted decision trees within the model.\n",
    "#Higher score implies that the attribute is used more to make key decision with decision trees, thus it has higher relative importance\n",
    "print(GridSearch_xgb_model.best_estimator_.feature_importances_)\n",
    "#Number shows weight which is the is the number of times a feature appears in a tree\n",
    "xgb.plot_importance(GridSearch_xgb_model.best_estimator_)\n",
    "plt.tight_layout()"
   ]
  },
  {
   "cell_type": "code",
   "execution_count": 165,
   "id": "0e4848f6",
   "metadata": {},
   "outputs": [
    {
     "data": {
      "image/png": "[encoded data removed]",
      "text/plain": [
       "<Figure size 1440x1440 with 1 Axes>"
      ]
     },
     "metadata": {
      "needs_background": "light"
     },
     "output_type": "display_data"
    }
   ],
   "source": [
    "#Bar Plot to show Importance Score of each Non-Textual variables\n",
    "variables = ('Sentiment_Score', 'Average_WordLength', 'Num_Tokenized_Words', \"Percentage_Nouns\", \"Percentage_Verbs\", \"Average_WordsinSentence\", \"Percentage_AdjAdverb\", \"Quote\" )\n",
    "fig, ax = plt.subplots(figsize=(20,20))\n",
    "rects1 = ax.bar(variables, GridSearch_xgb_model.best_estimator_.feature_importances_, label = \"Importance Score\", align = \"center\")\n",
    "\n",
    "ax.set_ylabel('Importance Score')\n",
    "ax.set_title('Importance Score of Non-Textual Variables')\n",
    "ax.bar_label(rects1, fmt='%.2f')\n",
    "plt.show()\n"
   ]
  },
  {
   "cell_type": "markdown",
   "id": "27e2aad8",
   "metadata": {},
   "source": [
    "# Analysis of train and test data of Textual characteristics\n",
    "\n",
    "Both have high TNR and FNR, and low TPR and FPR \n",
    "\n",
    "\n",
    "# Analysis of Textual and Non-Textual prediction\n",
    "Both exhibit same characteristics (high in TNR and FNR, as well as lower in TPR and FPR)\n",
    "\n",
    "Accuracy of prediction with Non-Textual prediction is generally higher (0.82) compared to Textual charactertics(0.81). \n",
    "\n",
    "However, Textual prediction has a higher TNR (0.99) and FNR (0.99) compared to Non-textual prediction - TNR(0.98), FNR(0.88)\n",
    "\n",
    "Textual prediction has much lower TPR (0.006) and FPR (0.0009) compared to Non-textual prediction TPR (0.12) and FPR (0.01)\n",
    "\n",
    "\n",
    "This suggest that non-Textual prediction is better at sorting popular reviews (the review at which we have little data of)\n",
    "- It has higher TPR - higher percentage of model predicting correctly when review is popular\n",
    "- And lower FNR - less mistake of mis-predicting the popular review as notTex-popular\n",
    " \n",
    "Textual-Reviews on the other hand is much better at handling non-popular reviews\n",
    "- Higher TNR - higher percentage of model predicting correctly when review isn't popular\n",
    "- and Lower FNR - which means less mistake of mis-predicting non-popular review as popular\n",
    " \n",
    "# Conclusion:\n",
    "If we were to choose between Textual or Non-Textual characteristics for prediction, Non-Textual characteritics is better, because it generally has a higher accuracy. Plus, its more accurate in their prediction when the review is popular, when only 18.2% of our dataset is of popular reviews (highly undersampled)"
   ]
  },
  {
   "cell_type": "code",
   "execution_count": 181,
   "id": "617120fd",
   "metadata": {},
   "outputs": [],
   "source": [
    "#Split the dataset into 85% train set and 15% test set\n",
    "#Integer is inserted to random_state to reproduce the same split everytime it is run\n",
    "X_train, X_test, y_train, y_test = train_test_split(book_dtf.drop(columns=[\"Popularity\"]), book_dtf[\"Popularity\"],\n",
    "                                                    test_size = 0.15, random_state = 229)"
   ]
  },
  {
   "cell_type": "code",
   "execution_count": 167,
   "id": "14273d84",
   "metadata": {},
   "outputs": [],
   "source": [
    "#Now let's try to predict using both Textual and Non-textual characteristics\n",
    "X_train = X_train[[\"User_Reviews\",\"Stars_Ratings\",\"Diff_Ratings\", \"Num_Tokenized_Words\",\"Average_WordLength\",\"Average_WordsinSentence\", \"Percentage_Verbs\",\n",
    "                   \"Percentage_Nouns\",\"Percentage_AdjAdverb\", \"Quote\",\"Sentiment_Score\"]]"
   ]
  },
  {
   "cell_type": "code",
   "execution_count": 169,
   "id": "6be15e51",
   "metadata": {},
   "outputs": [
    {
     "data": {
      "text/plain": [
       "GridSearchCV(cv=ShuffleSplit(n_splits=1, random_state=229, test_size=0.2, train_size=None),\n",
       "             estimator=XGBRegressor(base_score=None, booster=None,\n",
       "                                    colsample_bylevel=None,\n",
       "                                    colsample_bynode=None,\n",
       "                                    colsample_bytree=None,\n",
       "                                    enable_categorical=False,\n",
       "                                    eval_metric='error', gamma=None,\n",
       "                                    gpu_id=None, importance_type=None,\n",
       "                                    interaction_constraints=None,\n",
       "                                    learning_rate=None, max_de...\n",
       "                                    missing=nan, monotone_constraints=None,\n",
       "                                    n_estimators=100, n_jobs=-1,\n",
       "                                    num_parallel_tree=None,\n",
       "                                    objective='binary:logistic', predictor=None,\n",
       "                                    random_state=None, reg_alpha=None,\n",
       "                                    reg_lambda=None, scale_pos_weight=None,\n",
       "                                    seed=229, subsample=None, tree_method=None,\n",
       "                                    validate_parameters=None, ...),\n",
       "             param_grid={'learning_rate': (0.01, 0.1, 0.3),\n",
       "                         'max_depth': (2, 4, 6),\n",
       "                         'n_estimators': (50, 100, 1000)})"
      ]
     },
     "execution_count": 169,
     "metadata": {},
     "output_type": "execute_result"
    }
   ],
   "source": [
    "#Perform fitting using the same conditions and parameters as Non-Textual features\n",
    "GridSearch_xgb_model.fit(X_train, y_train)"
   ]
  },
  {
   "cell_type": "code",
   "execution_count": 171,
   "id": "f4c9a204",
   "metadata": {},
   "outputs": [
    {
     "name": "stdout",
     "output_type": "stream",
     "text": [
      "{'learning_rate': 0.1, 'max_depth': 6, 'n_estimators': 1000}\n"
     ]
    }
   ],
   "source": [
    "#See which parameters best fit this model\n",
    "print(GridSearch_xgb_model.best_params_)"
   ]
  },
  {
   "cell_type": "code",
   "execution_count": 182,
   "id": "1f73adbd",
   "metadata": {},
   "outputs": [],
   "source": [
    "#Checking how good the predictions are on the Train Set.   \n",
    "X_train = X_train[[\"User_Reviews\",\"Stars_Ratings\",\"Diff_Ratings\", \"Num_Tokenized_Words\",\"Average_WordLength\",\"Average_WordsinSentence\", \"Percentage_Verbs\",\n",
    "                   \"Percentage_Nouns\",\"Percentage_AdjAdverb\", \"Quote\",\"Sentiment_Score\"]]\n",
    "y_train_pred = GridSearch_xgb_model.predict(X_train)\n",
    "y_train_pred = list(map(round,y_train_pred))"
   ]
  },
  {
   "cell_type": "code",
   "execution_count": 183,
   "id": "c66c9266",
   "metadata": {},
   "outputs": [
    {
     "data": {
      "text/plain": [
       "<AxesSubplot:>"
      ]
     },
     "execution_count": 183,
     "metadata": {},
     "output_type": "execute_result"
    },
    {
     "data": {
      "image/png": "[encoded data removed]",
      "text/plain": [
       "<Figure size 432x288 with 2 Axes>"
      ]
     },
     "metadata": {
      "needs_background": "light"
     },
     "output_type": "display_data"
    }
   ],
   "source": [
    "#Plot the two-way Confusion Matrix\n",
    "sb.heatmap(confusion_matrix(y_train, y_train_pred), \n",
    "           annot = True, fmt=\".0f\", annot_kws={\"size\": 18})"
   ]
  },
  {
   "cell_type": "code",
   "execution_count": 184,
   "id": "8d2c6df0",
   "metadata": {},
   "outputs": [
    {
     "name": "stdout",
     "output_type": "stream",
     "text": [
      "Train Data:\n",
      "Accuracy  :\t 0.8359330487223255\n",
      "TPR Train :\t 0.145479415365779\n",
      "TNR Train :\t 0.9895254239692458\n",
      "FPR Train :\t 0.010474576030754173\n",
      "FNR Train :\t 0.854520584634221\n"
     ]
    }
   ],
   "source": [
    "confusion_matrix_train = confusion_matrix(y_train, y_train_pred)\n",
    "#Calculate accuracy of the prediction on train data\n",
    "\n",
    "#Accuracy = (TP+TN)/Total data\n",
    "accuracy = (confusion_matrix_train[1][1]+confusion_matrix_train[0][0])/(confusion_matrix_train[1][1]+confusion_matrix_train[1][0]+confusion_matrix_train[0][1]+confusion_matrix_train[0][0])\n",
    "#TPR (True Positive Rate) = TP/(TP+FN)\n",
    "TPR = confusion_matrix_train[1][1]/(confusion_matrix_train[1][1]+confusion_matrix_train[1][0])\n",
    "#TNR (True Negative Rate) = TN/(TN+FP)\n",
    "TNR = confusion_matrix_train[0][0]/(confusion_matrix_train[0][0]+ confusion_matrix_train[0][1])\n",
    "#FPR (False Positive Rate) = FP/(TN+FP)\n",
    "FPR = confusion_matrix_train[0][1]/(confusion_matrix_train[0][1]+confusion_matrix_train[0][0])\n",
    "#FNR (False Negative Rate) = FN/(TP+FN)\n",
    "FNR = confusion_matrix_train[1][0]/(confusion_matrix_train[1][0]+confusion_matrix_train[1][1])\n",
    "\n",
    "print(\"Train Data:\")\n",
    "print(\"Accuracy  :\\t\", accuracy)\n",
    "print(\"TPR Train :\\t\", TPR)\n",
    "print(\"TNR Train :\\t\", TNR)\n",
    "print(\"FPR Train :\\t\", FPR)\n",
    "print(\"FNR Train :\\t\", FNR)"
   ]
  },
  {
   "cell_type": "code",
   "execution_count": 185,
   "id": "0c5479ea",
   "metadata": {},
   "outputs": [],
   "source": [
    "#Checking how good the predictions are on the Test Set.   \n",
    "X_test = X_test[[\"User_Reviews\",\"Stars_Ratings\",\"Diff_Ratings\", \"Num_Tokenized_Words\",\"Average_WordLength\",\"Average_WordsinSentence\", \"Percentage_Verbs\",\n",
    "                   \"Percentage_Nouns\",\"Percentage_AdjAdverb\", \"Quote\",\"Sentiment_Score\"]]\n",
    "y_test_pred = GridSearch_xgb_model.predict(X_test)\n",
    "y_test_pred = list(map(round,y_test_pred))"
   ]
  },
  {
   "cell_type": "code",
   "execution_count": 186,
   "id": "5e1897fd",
   "metadata": {},
   "outputs": [
    {
     "data": {
      "text/plain": [
       "<AxesSubplot:>"
      ]
     },
     "execution_count": 186,
     "metadata": {},
     "output_type": "execute_result"
    },
    {
     "data": {
      "image/png": "[encoded data removed]",
      "text/plain": [
       "<Figure size 432x288 with 2 Axes>"
      ]
     },
     "metadata": {
      "needs_background": "light"
     },
     "output_type": "display_data"
    }
   ],
   "source": [
    "# Plot the two-way Confusion Matrix\n",
    "sb.heatmap(confusion_matrix(y_test, y_test_pred), \n",
    "           annot = True, fmt=\".0f\", annot_kws={\"size\": 18})"
   ]
  },
  {
   "cell_type": "code",
   "execution_count": 187,
   "id": "37b4eba2",
   "metadata": {},
   "outputs": [
    {
     "name": "stdout",
     "output_type": "stream",
     "text": [
      "Test Data:\n",
      "Accuracy  :\t 0.8311200686501113\n",
      "TPR Train :\t 0.13275181574062392\n",
      "TNR Train :\t 0.9869542836920503\n",
      "FPR Train :\t 0.013045716307949684\n",
      "FNR Train :\t 0.8672481842593761\n"
     ]
    }
   ],
   "source": [
    "confusion_matrix_test = confusion_matrix(y_test, y_test_pred)\n",
    "#Calculate accuracy of the prediction on train data\n",
    "\n",
    "#Accuracy = (TP+TN)/Total data\n",
    "accuracy = (confusion_matrix_test[1][1]+confusion_matrix_test[0][0])/(confusion_matrix_test[1][1]+confusion_matrix_test[1][0]+confusion_matrix_test[0][1]+confusion_matrix_test[0][0])\n",
    "#TPR (True Positive Rate) = TP/(TP+FN)\n",
    "TPR = confusion_matrix_test[1][1]/(confusion_matrix_test[1][1]+confusion_matrix_test[1][0])\n",
    "#TNR (True Negative Rate) = TN/(TN+FP)\n",
    "TNR = confusion_matrix_test[0][0]/(confusion_matrix_test[0][0]+ confusion_matrix_test[0][1])\n",
    "#FPR (False Positive Rate) = FP/(TN+FP)\n",
    "FPR = confusion_matrix_test[0][1]/(confusion_matrix_test[0][1]+confusion_matrix_test[0][0])\n",
    "#FNR (False Negative Rate) = FN/(TP+FN)\n",
    "FNR = confusion_matrix_test[1][0]/(confusion_matrix_test[1][0]+confusion_matrix_test[1][1])\n",
    "\n",
    "print(\"Test Data:\")\n",
    "print(\"Accuracy  :\\t\", accuracy)\n",
    "print(\"TPR Train :\\t\", TPR)\n",
    "print(\"TNR Train :\\t\", TNR)\n",
    "print(\"FPR Train :\\t\", FPR)\n",
    "print(\"FNR Train :\\t\", FNR)"
   ]
  },
  {
   "cell_type": "code",
   "execution_count": 188,
   "id": "a5eabbe2",
   "metadata": {},
   "outputs": [
    {
     "name": "stdout",
     "output_type": "stream",
     "text": [
      "[0.2780863  0.17808096 0.06357522 0.19172649 0.05182869 0.03217863\n",
      " 0.04134887 0.03785759 0.03086298 0.06668603 0.0277681 ]\n"
     ]
    },
    {
     "data": {
      "image/png": "[encoded data removed]",
      "text/plain": [
       "<Figure size 432x288 with 1 Axes>"
      ]
     },
     "metadata": {
      "needs_background": "light"
     },
     "output_type": "display_data"
    }
   ],
   "source": [
    "#Feature importance provides a score that indicates how useful each future is in the construction of the boosted decision trees within the model.\n",
    "#Higher score implies that the attribute is used more to make key decision with decision trees, thus it has higher relative importance\n",
    "print(GridSearch_xgb_model.best_estimator_.feature_importances_)\n",
    "#Number shows weight which is the is the number of times a feature appears in a tree\n",
    "xgb.plot_importance(GridSearch_xgb_model.best_estimator_)\n",
    "plt.tight_layout()"
   ]
  },
  {
   "cell_type": "code",
   "execution_count": 196,
   "id": "453f1f42",
   "metadata": {},
   "outputs": [
    {
     "name": "stdout",
     "output_type": "stream",
     "text": [
      "[0.2780863, 0.19172649, 0.17808096, 0.06668603, 0.063575216, 0.051828694, 0.04134887, 0.03785759, 0.032178633, 0.030862976, 0.027768102]\n"
     ]
    },
    {
     "data": {
      "image/png": "[encoded data removed]",
      "text/plain": [
       "<Figure size 2160x2160 with 1 Axes>"
      ]
     },
     "metadata": {
      "needs_background": "light"
     },
     "output_type": "display_data"
    }
   ],
   "source": [
    "#Bar Plot to show Importance Score of each Non-Textual variables\n",
    "variables = ('User_Reviews', 'Diff_Ratings', 'Average_WordLength', \"Sentiment_Score\", \"Average_WordsinSentence\", \"Num_Tokenized_Words\", \"Percentage_Nouns\", \"Percentage_AdjAdverb\", \"Percentage_Verbs\", \"Stars_Ratings\", \"Quote\" )\n",
    "fig, ax = plt.subplots(figsize=(30,30))\n",
    "data = GridSearch_xgb_model.best_estimator_.feature_importances_\n",
    "data = sorted(data, reverse=True) \n",
    "rects1 = ax.bar(variables, data, label = \"Importance Score\", align = \"center\")\n",
    "ax.set_ylabel('Importance Score')\n",
    "ax.set_title('Importance Score of Non-Textual Variables')\n",
    "ax.bar_label(rects1, fmt='%.2f')\n",
    "plt.show()"
   ]
  },
  {
   "cell_type": "markdown",
   "id": "1da69b83",
   "metadata": {},
   "source": [
    "# Analysis of training and testing set for Non-Textual and Textual prediction\n",
    "Has quite high TNR and FNR, and low TPR as well as FPR.\n",
    "\n",
    "# Comparison of of Textual, Non-Textual, and Textual+Non-Textual prediction\n",
    "Both exhibit same characteristics (high in TNR and FNR, as well as lower in TPR and FPR)\n",
    "\n",
    "Accuracy of prediction is highest with Textual+Non-Textual prediction. \n",
    "\n",
    "# Conclusion:\n",
    "Accuracy of prediction is highest with Textual+Non-Textual prediction. "
   ]
  },
  {
   "cell_type": "code",
   "execution_count": null,
   "id": "67eaa01f",
   "metadata": {},
   "outputs": [],
   "source": []
  },
  {
   "cell_type": "code",
   "execution_count": null,
   "id": "7afa4e7d",
   "metadata": {},
   "outputs": [],
   "source": []
  }
 ],
 "metadata": {
  "kernelspec": {
   "display_name": "Python 3 (ipykernel)",
   "language": "python",
   "name": "python3"
  },
  "language_info": {
   "codemirror_mode": {
    "name": "ipython",
    "version": 3
   },
   "file_extension": ".py",
   "mimetype": "text/x-python",
   "name": "python",
   "nbconvert_exporter": "python",
   "pygments_lexer": "ipython3",
   "version": "3.9.7"
  }
 },
 "nbformat": 4,
 "nbformat_minor": 5
}
