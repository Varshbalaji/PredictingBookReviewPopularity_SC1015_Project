{
 "cells": [
  {
   "cell_type": "code",
   "execution_count": 1,
   "id": "743587af",
   "metadata": {},
   "outputs": [],
   "source": [
    "import sys\n",
    "import pandas as pd\n",
    "import numpy as np\n",
    "import matplotlib.pyplot as plt\n",
    "import seaborn as sb\n",
    "from sklearn.model_selection import train_test_split\n",
    "\n",
    "import xgboost as xgb\n",
    "from sklearn.model_selection import GridSearchCV, ShuffleSplit\n",
    "from sklearn.metrics import classification_report, confusion_matrix, roc_auc_score\n",
    "\n",
    "from sklearn.metrics import confusion_matrix"
   ]
  },
  {
   "cell_type": "code",
   "execution_count": 2,
   "id": "afef0490",
   "metadata": {},
   "outputs": [],
   "source": [
    "book_dtf = pd.read_csv(\"C:/Users/joann/Downloads/newProject/Data_Cleaning/NLTK.csv\")"
   ]
  },
  {
   "cell_type": "code",
   "execution_count": 30,
   "id": "8eac2335",
   "metadata": {},
   "outputs": [
    {
     "data": {
      "text/html": [
       "<div>\n",
       "<style scoped>\n",
       "    .dataframe tbody tr th:only-of-type {\n",
       "        vertical-align: middle;\n",
       "    }\n",
       "\n",
       "    .dataframe tbody tr th {\n",
       "        vertical-align: top;\n",
       "    }\n",
       "\n",
       "    .dataframe thead th {\n",
       "        text-align: right;\n",
       "    }\n",
       "</style>\n",
       "<table border=\"1\" class=\"dataframe\">\n",
       "  <thead>\n",
       "    <tr style=\"text-align: right;\">\n",
       "      <th></th>\n",
       "      <th>Popularity</th>\n",
       "      <th>User_Reviews</th>\n",
       "      <th>Stars_Ratings</th>\n",
       "      <th>Diff_Ratings</th>\n",
       "      <th>Num_Tokenized_Words</th>\n",
       "      <th>Average_WordLength</th>\n",
       "      <th>Average_WordsinSentence</th>\n",
       "      <th>Percentage_Verbs</th>\n",
       "      <th>Percentage_Nouns</th>\n",
       "      <th>Percentage_AdjAdverb</th>\n",
       "      <th>Quote</th>\n",
       "      <th>Sentiment_Score</th>\n",
       "      <th>Tokenized_Words</th>\n",
       "    </tr>\n",
       "  </thead>\n",
       "  <tbody>\n",
       "    <tr>\n",
       "      <th>0</th>\n",
       "      <td>0</td>\n",
       "      <td>18</td>\n",
       "      <td>5</td>\n",
       "      <td>0.46</td>\n",
       "      <td>14</td>\n",
       "      <td>3.500000</td>\n",
       "      <td>4.666667</td>\n",
       "      <td>0.285714</td>\n",
       "      <td>0.214286</td>\n",
       "      <td>0.071429</td>\n",
       "      <td>1</td>\n",
       "      <td>0.0000</td>\n",
       "      <td>['prince', 'read', 'find', 'say', 'never', 'gu...</td>\n",
       "    </tr>\n",
       "    <tr>\n",
       "      <th>1</th>\n",
       "      <td>0</td>\n",
       "      <td>18</td>\n",
       "      <td>5</td>\n",
       "      <td>0.53</td>\n",
       "      <td>67</td>\n",
       "      <td>4.611940</td>\n",
       "      <td>7.444444</td>\n",
       "      <td>0.134328</td>\n",
       "      <td>0.268657</td>\n",
       "      <td>0.134328</td>\n",
       "      <td>0</td>\n",
       "      <td>0.8591</td>\n",
       "      <td>['spoiler', 'alert', 'little', 'memorial', 'fa...</td>\n",
       "    </tr>\n",
       "    <tr>\n",
       "      <th>2</th>\n",
       "      <td>0</td>\n",
       "      <td>18</td>\n",
       "      <td>5</td>\n",
       "      <td>0.47</td>\n",
       "      <td>5</td>\n",
       "      <td>3.000000</td>\n",
       "      <td>2.500000</td>\n",
       "      <td>0.000000</td>\n",
       "      <td>0.400000</td>\n",
       "      <td>0.000000</td>\n",
       "      <td>0</td>\n",
       "      <td>0.5550</td>\n",
       "      <td>['one', 'fav', 'book']</td>\n",
       "    </tr>\n",
       "    <tr>\n",
       "      <th>3</th>\n",
       "      <td>0</td>\n",
       "      <td>18</td>\n",
       "      <td>5</td>\n",
       "      <td>1.14</td>\n",
       "      <td>337</td>\n",
       "      <td>4.038576</td>\n",
       "      <td>16.850000</td>\n",
       "      <td>0.225519</td>\n",
       "      <td>0.189911</td>\n",
       "      <td>0.148368</td>\n",
       "      <td>0</td>\n",
       "      <td>0.9861</td>\n",
       "      <td>['spoiler', 'alert', 'oh', 'goodness', 'one', ...</td>\n",
       "    </tr>\n",
       "    <tr>\n",
       "      <th>4</th>\n",
       "      <td>0</td>\n",
       "      <td>18</td>\n",
       "      <td>4</td>\n",
       "      <td>-0.11</td>\n",
       "      <td>52</td>\n",
       "      <td>3.807692</td>\n",
       "      <td>17.333333</td>\n",
       "      <td>0.326923</td>\n",
       "      <td>0.153846</td>\n",
       "      <td>0.115385</td>\n",
       "      <td>0</td>\n",
       "      <td>0.8807</td>\n",
       "      <td>['think', 'great', 'educational', 'book', 'rea...</td>\n",
       "    </tr>\n",
       "  </tbody>\n",
       "</table>\n",
       "</div>"
      ],
      "text/plain": [
       "   Popularity  User_Reviews  Stars_Ratings  Diff_Ratings  Num_Tokenized_Words  \\\n",
       "0           0            18              5          0.46                   14   \n",
       "1           0            18              5          0.53                   67   \n",
       "2           0            18              5          0.47                    5   \n",
       "3           0            18              5          1.14                  337   \n",
       "4           0            18              4         -0.11                   52   \n",
       "\n",
       "   Average_WordLength  Average_WordsinSentence  Percentage_Verbs  \\\n",
       "0            3.500000                 4.666667          0.285714   \n",
       "1            4.611940                 7.444444          0.134328   \n",
       "2            3.000000                 2.500000          0.000000   \n",
       "3            4.038576                16.850000          0.225519   \n",
       "4            3.807692                17.333333          0.326923   \n",
       "\n",
       "   Percentage_Nouns  Percentage_AdjAdverb  Quote  Sentiment_Score  \\\n",
       "0          0.214286              0.071429      1           0.0000   \n",
       "1          0.268657              0.134328      0           0.8591   \n",
       "2          0.400000              0.000000      0           0.5550   \n",
       "3          0.189911              0.148368      0           0.9861   \n",
       "4          0.153846              0.115385      0           0.8807   \n",
       "\n",
       "                                     Tokenized_Words  \n",
       "0  ['prince', 'read', 'find', 'say', 'never', 'gu...  \n",
       "1  ['spoiler', 'alert', 'little', 'memorial', 'fa...  \n",
       "2                             ['one', 'fav', 'book']  \n",
       "3  ['spoiler', 'alert', 'oh', 'goodness', 'one', ...  \n",
       "4  ['think', 'great', 'educational', 'book', 'rea...  "
      ]
     },
     "execution_count": 30,
     "metadata": {},
     "output_type": "execute_result"
    }
   ],
   "source": [
    "book_dtf.head()"
   ]
  },
  {
   "cell_type": "code",
   "execution_count": 31,
   "id": "0d9c3bcd",
   "metadata": {},
   "outputs": [
    {
     "data": {
      "text/plain": [
       "(2027673, 13)"
      ]
     },
     "execution_count": 31,
     "metadata": {},
     "output_type": "execute_result"
    }
   ],
   "source": [
    "book_dtf.shape"
   ]
  },
  {
   "cell_type": "code",
   "execution_count": 3,
   "id": "2985c972",
   "metadata": {},
   "outputs": [],
   "source": [
    "#Split the dataset into 85% train set and 15% test set\n",
    "#Integer is inserted to random_state to reproduce the same split everytime it is run\n",
    "X_train, X_test, y_train, y_test = train_test_split(book_dtf.drop(columns=[\"Popularity\"]), book_dtf[\"Popularity\"],\n",
    "                                                    test_size = 0.15, random_state = 229)"
   ]
  },
  {
   "cell_type": "markdown",
   "id": "1b2233d0",
   "metadata": {},
   "source": [
    "# Optimizing\n",
    "An issue that we see in the previous model is that the model is has high error when it comes to predicting popular review due to popular review making up onlt 18% of the whole dataset, so try to combat this problem by undersampling"
   ]
  },
  {
   "cell_type": "code",
   "execution_count": 4,
   "id": "2c94fc9d",
   "metadata": {},
   "outputs": [],
   "source": [
    "not_PopularReview_count = len(y_train[y_train==0])\n",
    "PopularReview_count = len(y_train[y_train==1])\n",
    "index_not_PopularReview = y_train[y_train==0].index\n",
    "\n",
    "#Random number from the indexed of not popular review will be chosen. \n",
    "#Number of number chosen will be the difference of no. between popular and not popular reviews\n",
    "rng = np.random.default_rng(seed=229)\n",
    "dropped_index = rng.choice(index_not_PopularReview, not_PopularReview_count-PopularReview_count, replace=False)\n",
    "\n",
    "#Will drop the indexes generated above, and thus we'll now have similar number of popular and not popular review in our train dataset\n",
    "X_train = X_train.drop(dropped_index)\n",
    "y_train = y_train.drop(dropped_index)"
   ]
  },
  {
   "cell_type": "code",
   "execution_count": 5,
   "id": "69848704",
   "metadata": {},
   "outputs": [
    {
     "data": {
      "text/plain": [
       "1    29304\n",
       "0    28956\n",
       "Name: Popularity, dtype: int64"
      ]
     },
     "execution_count": 5,
     "metadata": {},
     "output_type": "execute_result"
    }
   ],
   "source": [
    "y_train.value_counts()"
   ]
  },
  {
   "cell_type": "code",
   "execution_count": 6,
   "id": "b7d168e1",
   "metadata": {},
   "outputs": [
    {
     "data": {
      "text/plain": [
       "0    248830\n",
       "1     55534\n",
       "Name: Popularity, dtype: int64"
      ]
     },
     "execution_count": 6,
     "metadata": {},
     "output_type": "execute_result"
    }
   ],
   "source": [
    "y_test.value_counts()"
   ]
  },
  {
   "cell_type": "code",
   "execution_count": 34,
   "id": "28ff36f7",
   "metadata": {},
   "outputs": [],
   "source": [
    "# Instantiate the XGBRegressor Model\n",
    "# Objective = \"Binary:Logitic\" is used for logistic regression for binary classification (Statistical Analysis method to predict a binary outcome, such as yes or no)\n",
    "\n",
    "# Evaluation Matrix (eval_matrix) is set to \"error\"\n",
    "    # Calculate #(wrong case)/#(all cases). For the predictions, the evalution will regard the instances with\n",
    "    # prediction value larger than 0.5 as positive instances, and the others as negative instances\n",
    "\n",
    "# Seed variable is specified to reproduce the same result everytime the code is run\n",
    "xgb_model = xgb.XGBRegressor(objective='binary:logistic', eval_metric='error', seed=229, n_jobs=-1)"
   ]
  },
  {
   "cell_type": "code",
   "execution_count": 35,
   "id": "532fa6ca",
   "metadata": {},
   "outputs": [],
   "source": [
    "#Parameters to try\n",
    "parameters = {\n",
    "    'n_estimators': (50,100,1000),\n",
    "    'max_depth': (2,4,6),\n",
    "    'learning_rate': (0.01, 0.1, 0.3)\n",
    "}\n",
    "\n",
    "#ShuffleSplit is used to randomly sample dataset during each iteration in order to generate a training and test set.\n",
    "# n_splits set to 1, because dataset is only split to test set and train set\n",
    "#test_size represents the proportion of the dataset to include in the test split. test set will be 20% of the overall data \n",
    "ss = ShuffleSplit(n_splits=1, test_size=0.2, random_state=229)\n",
    "\n",
    "#GridSearchCV loops through the predefined parameters, and use it to fit the model on the training set.\n",
    "#This way, the best parameters can be selected \n",
    "GridSearch_xgb_model = GridSearchCV(xgb_model,parameters, cv= ss )"
   ]
  },
  {
   "cell_type": "code",
   "execution_count": null,
   "id": "03a21361",
   "metadata": {},
   "outputs": [],
   "source": [
    "#Train the model to predict Popularity based on Non-Textual features\n",
    "GridSearch_xgb_model.fit(X_train[[\"User_Reviews\",\"Stars_Ratings\",\"Diff_Ratings\"]], y_train)"
   ]
  },
  {
   "cell_type": "code",
   "execution_count": 14,
   "id": "426762fe",
   "metadata": {},
   "outputs": [
    {
     "name": "stdout",
     "output_type": "stream",
     "text": [
      "{'learning_rate': 0.3, 'max_depth': 2, 'n_estimators': 1000}\n"
     ]
    }
   ],
   "source": [
    "#See which parameters best fit this model\n",
    "print(GridSearch_xgb_model.best_params_)"
   ]
  },
  {
   "cell_type": "code",
   "execution_count": 15,
   "id": "c3c96bfc",
   "metadata": {},
   "outputs": [],
   "source": [
    "#Checking how good the predictions are on the Train Set.   \n",
    "y_train_pred = GridSearch_xgb_model.predict(X_train[[\"User_Reviews\",\"Stars_Ratings\",\"Diff_Ratings\"]])\n",
    "y_train_pred = list(map(round,y_train_pred))"
   ]
  },
  {
   "cell_type": "code",
   "execution_count": 16,
   "id": "74d891a0",
   "metadata": {},
   "outputs": [
    {
     "data": {
      "text/plain": [
       "<AxesSubplot:>"
      ]
     },
     "execution_count": 16,
     "metadata": {},
     "output_type": "execute_result"
    },
    {
     "data": {
      "image/png": "[encoded data removed]",
      "text/plain": [
       "<Figure size 432x288 with 2 Axes>"
      ]
     },
     "metadata": {
      "needs_background": "light"
     },
     "output_type": "display_data"
    }
   ],
   "source": [
    "#Plot the two-way Confusion Matrix\n",
    "sb.heatmap(confusion_matrix(y_train, y_train_pred), \n",
    "           annot = True, fmt=\".0f\", annot_kws={\"size\": 18})"
   ]
  },
  {
   "cell_type": "code",
   "execution_count": 17,
   "id": "4dab8cd9",
   "metadata": {},
   "outputs": [
    {
     "name": "stdout",
     "output_type": "stream",
     "text": [
      "Train Data:\n",
      "Accuracy  :\t 0.6481986945833687\n",
      "TPR Train :\t 0.5889807535917593\n",
      "TNR Train :\t 0.7074949954195365\n",
      "FPR Train :\t 0.29250500458046347\n",
      "FNR Train :\t 0.4110192464082407\n"
     ]
    }
   ],
   "source": [
    "confusion_matrix_train = confusion_matrix(y_train, y_train_pred)\n",
    "#Calculate accuracy of the prediction on train data\n",
    "\n",
    "#Accuracy = (TP+TN)/Total data\n",
    "accuracy = (confusion_matrix_train[1][1]+confusion_matrix_train[0][0])/(confusion_matrix_train[1][1]+confusion_matrix_train[1][0]+confusion_matrix_train[0][1]+confusion_matrix_train[0][0])\n",
    "#TPR (True Positive Rate) = TP/(TP+FN)\n",
    "TPR = confusion_matrix_train[1][1]/(confusion_matrix_train[1][1]+confusion_matrix_train[1][0])\n",
    "#TNR (True Negative Rate) = TN/(TN+FP)\n",
    "TNR = confusion_matrix_train[0][0]/(confusion_matrix_train[0][0]+ confusion_matrix_train[0][1])\n",
    "#FPR (False Positive Rate) = FP/(TN+FP)\n",
    "FPR = confusion_matrix_train[0][1]/(confusion_matrix_train[0][1]+confusion_matrix_train[0][0])\n",
    "#FNR (False Negative Rate) = FN/(TP+FN)\n",
    "FNR = confusion_matrix_train[1][0]/(confusion_matrix_train[1][0]+confusion_matrix_train[1][1])\n",
    "\n",
    "print(\"Train Data:\")\n",
    "print(\"Accuracy  :\\t\", accuracy)\n",
    "print(\"TPR Train :\\t\", TPR)\n",
    "print(\"TNR Train :\\t\", TNR)\n",
    "print(\"FPR Train :\\t\", FPR)\n",
    "print(\"FNR Train :\\t\", FNR)"
   ]
  },
  {
   "cell_type": "code",
   "execution_count": 18,
   "id": "7991a243",
   "metadata": {},
   "outputs": [],
   "source": [
    "#Checking how good the predictions are on the Test Set.   \n",
    "y_test_pred = GridSearch_xgb_model.predict(X_test[[\"User_Reviews\",\"Stars_Ratings\",\"Diff_Ratings\"]])\n",
    "y_test_pred = list(map(round,y_test_pred))"
   ]
  },
  {
   "cell_type": "code",
   "execution_count": 19,
   "id": "6c0b60d1",
   "metadata": {},
   "outputs": [
    {
     "data": {
      "text/plain": [
       "<AxesSubplot:>"
      ]
     },
     "execution_count": 19,
     "metadata": {},
     "output_type": "execute_result"
    },
    {
     "data": {
      "image/png": "[encoded data removed]",
      "text/plain": [
       "<Figure size 432x288 with 2 Axes>"
      ]
     },
     "metadata": {
      "needs_background": "light"
     },
     "output_type": "display_data"
    }
   ],
   "source": [
    "# Plot the two-way Confusion Matrix\n",
    "sb.heatmap(confusion_matrix(y_test, y_test_pred), \n",
    "           annot = True, fmt=\".0f\", annot_kws={\"size\": 18})"
   ]
  },
  {
   "cell_type": "code",
   "execution_count": 20,
   "id": "96f41928",
   "metadata": {},
   "outputs": [
    {
     "name": "stdout",
     "output_type": "stream",
     "text": [
      "Test Data:\n",
      "Accuracy  :\t 0.6663006204155173\n",
      "TPR Train :\t 0.5691423216248851\n",
      "TNR Train :\t 0.6879805681562269\n",
      "FPR Train :\t 0.3120194318437731\n",
      "FNR Train :\t 0.4308576783751149\n"
     ]
    }
   ],
   "source": [
    "confusion_matrix_test = confusion_matrix(y_test, y_test_pred)\n",
    "#Calculate accuracy of the prediction on train data\n",
    "\n",
    "#Accuracy = (TP+TN)/Total data\n",
    "accuracy = (confusion_matrix_test[1][1]+confusion_matrix_test[0][0])/(confusion_matrix_test[1][1]+confusion_matrix_test[1][0]+confusion_matrix_test[0][1]+confusion_matrix_test[0][0])\n",
    "#TPR (True Positive Rate) = TP/(TP+FN)\n",
    "TPR = confusion_matrix_test[1][1]/(confusion_matrix_test[1][1]+confusion_matrix_test[1][0])\n",
    "#TNR (True Negative Rate) = TN/(TN+FP)\n",
    "TNR = confusion_matrix_test[0][0]/(confusion_matrix_test[0][0]+ confusion_matrix_test[0][1])\n",
    "#FPR (False Positive Rate) = FP/(TN+FP)\n",
    "FPR = confusion_matrix_test[0][1]/(confusion_matrix_test[0][1]+confusion_matrix_test[0][0])\n",
    "#FNR (False Negative Rate) = FN/(TP+FN)\n",
    "FNR = confusion_matrix_test[1][0]/(confusion_matrix_test[1][0]+confusion_matrix_test[1][1])\n",
    "\n",
    "print(\"Test Data:\")\n",
    "print(\"Accuracy  :\\t\", accuracy)\n",
    "print(\"TPR Train :\\t\", TPR)\n",
    "print(\"TNR Train :\\t\", TNR)\n",
    "print(\"FPR Train :\\t\", FPR)\n",
    "print(\"FNR Train :\\t\", FNR)"
   ]
  },
  {
   "cell_type": "markdown",
   "id": "87bcf23a",
   "metadata": {},
   "source": [
    "Doing worse in terms of accuracy, but better in terms of predicting the review that are popular "
   ]
  },
  {
   "cell_type": "code",
   "execution_count": 21,
   "id": "8ee3f2a8",
   "metadata": {},
   "outputs": [
    {
     "name": "stdout",
     "output_type": "stream",
     "text": [
      "[0.4443309  0.45480874 0.10086037]\n"
     ]
    },
    {
     "data": {
      "image/png": "[encoded data removed]",
      "text/plain": [
       "<Figure size 432x288 with 1 Axes>"
      ]
     },
     "metadata": {
      "needs_background": "light"
     },
     "output_type": "display_data"
    }
   ],
   "source": [
    "#Feature importance provides a score that indicates how useful each future is in the construction of the boosted decision trees within the model.\n",
    "#Higher score implies that the attribute is used more to make key decision with decision trees, thus it has higher relative importance\n",
    "print(GridSearch_xgb_model.best_estimator_.feature_importances_)\n",
    "#Number shows weight which is the is the number of times a feature appears in a tree\n",
    "xgb.plot_importance(GridSearch_xgb_model.best_estimator_)\n",
    "plt.tight_layout()"
   ]
  },
  {
   "cell_type": "code",
   "execution_count": 22,
   "id": "78848d6f",
   "metadata": {},
   "outputs": [
    {
     "data": {
      "image/png": "[encoded data removed]",
      "text/plain": [
       "<Figure size 432x288 with 1 Axes>"
      ]
     },
     "metadata": {
      "needs_background": "light"
     },
     "output_type": "display_data"
    }
   ],
   "source": [
    "#Bar Plot to show Importance Score of each Non-Textual variables\n",
    "variables = ('User_Reviews', 'Diff_Ratings', 'Stars_Ratings')\n",
    "fig, ax = plt.subplots()\n",
    "data = GridSearch_xgb_model.best_estimator_.feature_importances_\n",
    "data = sorted(data, reverse=True) \n",
    "rects1 = ax.bar(variables, data, label = \"Importance Score\", align = \"center\")\n",
    "ax.set_ylabel('Importance Score')\n",
    "ax.set_title('Importance Score of Non-Textual Variables')\n",
    "ax.bar_label(rects1, fmt='%.2f')\n",
    "plt.show()"
   ]
  },
  {
   "cell_type": "code",
   "execution_count": null,
   "id": "7d2617e9",
   "metadata": {},
   "outputs": [],
   "source": []
  },
  {
   "cell_type": "code",
   "execution_count": null,
   "id": "c2573368",
   "metadata": {},
   "outputs": [],
   "source": []
  },
  {
   "cell_type": "markdown",
   "id": "9e32093f",
   "metadata": {},
   "source": [
    "# Textual Data"
   ]
  },
  {
   "cell_type": "code",
   "execution_count": 36,
   "id": "77a75117",
   "metadata": {},
   "outputs": [
    {
     "data": {
      "text/plain": [
       "GridSearchCV(cv=ShuffleSplit(n_splits=1, random_state=229, test_size=0.2, train_size=None),\n",
       "             estimator=XGBRegressor(base_score=None, booster=None,\n",
       "                                    colsample_bylevel=None,\n",
       "                                    colsample_bynode=None,\n",
       "                                    colsample_bytree=None,\n",
       "                                    enable_categorical=False,\n",
       "                                    eval_metric='error', gamma=None,\n",
       "                                    gpu_id=None, importance_type=None,\n",
       "                                    interaction_constraints=None,\n",
       "                                    learning_rate=None, max_de...\n",
       "                                    missing=nan, monotone_constraints=None,\n",
       "                                    n_estimators=100, n_jobs=-1,\n",
       "                                    num_parallel_tree=None,\n",
       "                                    objective='binary:logistic', predictor=None,\n",
       "                                    random_state=None, reg_alpha=None,\n",
       "                                    reg_lambda=None, scale_pos_weight=None,\n",
       "                                    seed=229, subsample=None, tree_method=None,\n",
       "                                    validate_parameters=None, ...),\n",
       "             param_grid={'learning_rate': (0.01, 0.1, 0.3),\n",
       "                         'max_depth': (2, 4, 6),\n",
       "                         'n_estimators': (50, 100, 1000)})"
      ]
     },
     "execution_count": 36,
     "metadata": {},
     "output_type": "execute_result"
    }
   ],
   "source": [
    "#Try to predict popularity with Textual features:\n",
    "    #Num_Tokenized_Words, Average_WordLength, Average_WordsinSentence,Percentage_Verbs,\n",
    "    #Percentage_Nouns, Percentage_AdjAdverb, Quote, Sentiment_Score\n",
    "    \n",
    "#Perform fitting using the same conditions and parameters as Non-Textual features\n",
    "GridSearch_xgb_model.fit(X_train[[\"Num_Tokenized_Words\",\"Average_WordLength\",\"Average_WordsinSentence\", \"Percentage_Verbs\",\n",
    "                   \"Percentage_Nouns\",\"Percentage_AdjAdverb\", \"Quote\",\"Sentiment_Score\"]], y_train)"
   ]
  },
  {
   "cell_type": "code",
   "execution_count": 37,
   "id": "67396145",
   "metadata": {},
   "outputs": [],
   "source": [
    "#Checking how good the predictions are on the Train Set.   \n",
    "y_train_pred = GridSearch_xgb_model.predict(X_train[[\"Num_Tokenized_Words\",\"Average_WordLength\",\"Average_WordsinSentence\", \"Percentage_Verbs\",\n",
    "                   \"Percentage_Nouns\",\"Percentage_AdjAdverb\", \"Quote\",\"Sentiment_Score\"]])\n",
    "y_train_pred = list(map(round,y_train_pred))"
   ]
  },
  {
   "cell_type": "code",
   "execution_count": 38,
   "id": "d8dcd8e4",
   "metadata": {},
   "outputs": [
    {
     "data": {
      "text/plain": [
       "<AxesSubplot:>"
      ]
     },
     "execution_count": 38,
     "metadata": {},
     "output_type": "execute_result"
    },
    {
     "data": {
      "image/png": "[encoded data removed]",
      "text/plain": [
       "<Figure size 432x288 with 2 Axes>"
      ]
     },
     "metadata": {
      "needs_background": "light"
     },
     "output_type": "display_data"
    }
   ],
   "source": [
    "#Plot the two-way Confusion Matrix\n",
    "sb.heatmap(confusion_matrix(y_train, y_train_pred), \n",
    "           annot = True, fmt=\".0f\", annot_kws={\"size\": 18})"
   ]
  },
  {
   "cell_type": "code",
   "execution_count": 39,
   "id": "09a2b203",
   "metadata": {},
   "outputs": [
    {
     "name": "stdout",
     "output_type": "stream",
     "text": [
      "Train Data:\n",
      "Accuracy  :\t 0.6096465203017717\n",
      "TPR Train :\t 0.6187652480346978\n",
      "TNR Train :\t 0.600515726257931\n",
      "FPR Train :\t 0.399484273742069\n",
      "FNR Train :\t 0.38123475196530227\n"
     ]
    }
   ],
   "source": [
    "confusion_matrix_train = confusion_matrix(y_train, y_train_pred)\n",
    "#Calculate accuracy of the prediction on train data\n",
    "\n",
    "#Accuracy = (TP+TN)/Total data\n",
    "accuracy = (confusion_matrix_train[1][1]+confusion_matrix_train[0][0])/(confusion_matrix_train[1][1]+confusion_matrix_train[1][0]+confusion_matrix_train[0][1]+confusion_matrix_train[0][0])\n",
    "#TPR (True Positive Rate) = TP/(TP+FN)\n",
    "TPR = confusion_matrix_train[1][1]/(confusion_matrix_train[1][1]+confusion_matrix_train[1][0])\n",
    "#TNR (True Negative Rate) = TN/(TN+FP)\n",
    "TNR = confusion_matrix_train[0][0]/(confusion_matrix_train[0][0]+ confusion_matrix_train[0][1])\n",
    "#FPR (False Positive Rate) = FP/(TN+FP)\n",
    "FPR = confusion_matrix_train[0][1]/(confusion_matrix_train[0][1]+confusion_matrix_train[0][0])\n",
    "#FNR (False Negative Rate) = FN/(TP+FN)\n",
    "FNR = confusion_matrix_train[1][0]/(confusion_matrix_train[1][0]+confusion_matrix_train[1][1])\n",
    "\n",
    "print(\"Train Data:\")\n",
    "print(\"Accuracy  :\\t\", accuracy)\n",
    "print(\"TPR Train :\\t\", TPR)\n",
    "print(\"TNR Train :\\t\", TNR)\n",
    "print(\"FPR Train :\\t\", FPR)\n",
    "print(\"FNR Train :\\t\", FNR)"
   ]
  },
  {
   "cell_type": "code",
   "execution_count": 40,
   "id": "839016d0",
   "metadata": {},
   "outputs": [],
   "source": [
    "#Checking how good the predictions are on the Test Set.   \n",
    "y_test_pred = GridSearch_xgb_model.predict(X_test[[\"Num_Tokenized_Words\",\"Average_WordLength\",\"Average_WordsinSentence\", \"Percentage_Verbs\",\n",
    "                   \"Percentage_Nouns\",\"Percentage_AdjAdverb\", \"Quote\",\"Sentiment_Score\"]])\n",
    "y_test_pred = list(map(round,y_test_pred))"
   ]
  },
  {
   "cell_type": "code",
   "execution_count": 41,
   "id": "3ce96352",
   "metadata": {},
   "outputs": [
    {
     "name": "stdout",
     "output_type": "stream",
     "text": [
      "Test Data:\n",
      "Accuracy  :\t 0.5979792931800323\n",
      "TPR Train :\t 0.6185412799394453\n",
      "TNR Train :\t 0.5933910819418975\n",
      "FPR Train :\t 0.4066089180581025\n",
      "FNR Train :\t 0.3814587200605547\n"
     ]
    }
   ],
   "source": [
    "confusion_matrix_test = confusion_matrix(y_test, y_test_pred)\n",
    "#Calculate accuracy of the prediction on train data\n",
    "\n",
    "#Accuracy = (TP+TN)/Total data\n",
    "accuracy = (confusion_matrix_test[1][1]+confusion_matrix_test[0][0])/(confusion_matrix_test[1][1]+confusion_matrix_test[1][0]+confusion_matrix_test[0][1]+confusion_matrix_test[0][0])\n",
    "#TPR (True Positive Rate) = TP/(TP+FN)\n",
    "TPR = confusion_matrix_test[1][1]/(confusion_matrix_test[1][1]+confusion_matrix_test[1][0])\n",
    "#TNR (True Negative Rate) = TN/(TN+FP)\n",
    "TNR = confusion_matrix_test[0][0]/(confusion_matrix_test[0][0]+ confusion_matrix_test[0][1])\n",
    "#FPR (False Positive Rate) = FP/(TN+FP)\n",
    "FPR = confusion_matrix_test[0][1]/(confusion_matrix_test[0][1]+confusion_matrix_test[0][0])\n",
    "#FNR (False Negative Rate) = FN/(TP+FN)\n",
    "FNR = confusion_matrix_test[1][0]/(confusion_matrix_test[1][0]+confusion_matrix_test[1][1])\n",
    "\n",
    "print(\"Test Data:\")\n",
    "print(\"Accuracy  :\\t\", accuracy)\n",
    "print(\"TPR Train :\\t\", TPR)\n",
    "print(\"TNR Train :\\t\", TNR)\n",
    "print(\"FPR Train :\\t\", FPR)\n",
    "print(\"FNR Train :\\t\", FNR)"
   ]
  },
  {
   "cell_type": "markdown",
   "id": "1ce18093",
   "metadata": {},
   "source": [
    "Less accurate than Non-Textual features, but follow same trend"
   ]
  },
  {
   "cell_type": "code",
   "execution_count": 28,
   "id": "e9f48000",
   "metadata": {},
   "outputs": [
    {
     "name": "stdout",
     "output_type": "stream",
     "text": [
      "[0.57746    0.10797084 0.01863669 0.07968307 0.11081652 0.03462087\n",
      " 0.03919541 0.03161663]\n"
     ]
    },
    {
     "data": {
      "image/png": "[encoded data removed]",
      "text/plain": [
       "<Figure size 432x288 with 1 Axes>"
      ]
     },
     "metadata": {
      "needs_background": "light"
     },
     "output_type": "display_data"
    }
   ],
   "source": [
    "#Feature importance provides a score that indicates how useful each future is in the construction of the boosted decision trees within the model.\n",
    "#Higher score implies that the attribute is used more to make key decision with decision trees, thus it has higher relative importance\n",
    "print(GridSearch_xgb_model.best_estimator_.feature_importances_)\n",
    "#Number shows weight which is the is the number of times a feature appears in a tree\n",
    "xgb.plot_importance(GridSearch_xgb_model.best_estimator_)\n",
    "plt.tight_layout()"
   ]
  },
  {
   "cell_type": "code",
   "execution_count": 30,
   "id": "a52225ea",
   "metadata": {},
   "outputs": [
    {
     "data": {
      "image/png": "[encoded data removed]",
      "text/plain": [
       "<Figure size 1440x1440 with 1 Axes>"
      ]
     },
     "metadata": {
      "needs_background": "light"
     },
     "output_type": "display_data"
    }
   ],
   "source": [
    "#Bar Plot to show Importance Score of each Non-Textual variables\n",
    "variables = (\"Num_Tokenized_Words\", \"Average_WordLength\", \"Percentage_Verbs\", 'Sentiment_Score', 'Percentage_Nouns', 'Percentage_AdjAdverb', \"Average_WordsinSentence\",\"Quote\" )\n",
    "fig, ax = plt.subplots(figsize=(20,20))\n",
    "data = GridSearch_xgb_model.best_estimator_.feature_importances_\n",
    "data = sorted(data, reverse=True) \n",
    "rects1 = ax.bar(variables, data, label = \"Importance Score\", align = \"center\")\n",
    "ax.set_ylabel('Importance Score')\n",
    "ax.set_title('Importance Score of Non-Textual Variables')\n",
    "ax.bar_label(rects1, fmt='%.2f')\n",
    "plt.show()"
   ]
  },
  {
   "cell_type": "code",
   "execution_count": 31,
   "id": "d4fc1709",
   "metadata": {},
   "outputs": [
    {
     "data": {
      "text/plain": [
       "GridSearchCV(cv=ShuffleSplit(n_splits=1, random_state=229, test_size=0.2, train_size=None),\n",
       "             estimator=XGBRegressor(base_score=None, booster=None,\n",
       "                                    colsample_bylevel=None,\n",
       "                                    colsample_bynode=None,\n",
       "                                    colsample_bytree=None,\n",
       "                                    enable_categorical=False,\n",
       "                                    eval_metric='error', gamma=None,\n",
       "                                    gpu_id=None, importance_type=None,\n",
       "                                    interaction_constraints=None,\n",
       "                                    learning_rate=None, max_de...\n",
       "                                    missing=nan, monotone_constraints=None,\n",
       "                                    n_estimators=100, n_jobs=-1,\n",
       "                                    num_parallel_tree=None,\n",
       "                                    objective='binary:logistic', predictor=None,\n",
       "                                    random_state=None, reg_alpha=None,\n",
       "                                    reg_lambda=None, scale_pos_weight=None,\n",
       "                                    seed=229, subsample=None, tree_method=None,\n",
       "                                    validate_parameters=None, ...),\n",
       "             param_grid={'learning_rate': (0.01, 0.1, 0.3),\n",
       "                         'max_depth': (2, 4, 6),\n",
       "                         'n_estimators': (50, 100, 1000)})"
      ]
     },
     "execution_count": 31,
     "metadata": {},
     "output_type": "execute_result"
    }
   ],
   "source": [
    "#Now let's try to predict using both Textual and Non-textual characteristics\n",
    "\n",
    "#Split the dataset into 85% train set and 15% test set\n",
    "#Integer is inserted to random_state to reproduce the same split everytime it is run\n",
    "\n",
    "#Perform fitting using the same conditions and parameters as Non-Textual features\n",
    "GridSearch_xgb_model.fit(X_train[[\"User_Reviews\",\"Stars_Ratings\",\"Diff_Ratings\", \"Num_Tokenized_Words\",\"Average_WordLength\",\"Average_WordsinSentence\", \"Percentage_Verbs\",\n",
    "                   \"Percentage_Nouns\",\"Percentage_AdjAdverb\", \"Quote\",\"Sentiment_Score\"]], y_train)"
   ]
  },
  {
   "cell_type": "code",
   "execution_count": 32,
   "id": "53fdae7f",
   "metadata": {},
   "outputs": [
    {
     "name": "stdout",
     "output_type": "stream",
     "text": [
      "{'learning_rate': 0.01, 'max_depth': 6, 'n_estimators': 1000}\n"
     ]
    }
   ],
   "source": [
    "#See which parameters best fit this model\n",
    "print(GridSearch_xgb_model.best_params_)"
   ]
  },
  {
   "cell_type": "code",
   "execution_count": 33,
   "id": "3f211878",
   "metadata": {},
   "outputs": [],
   "source": [
    "#Checking how good the predictions are on the Train Set.   \n",
    "y_train_pred = GridSearch_xgb_model.predict(X_train[[\"User_Reviews\",\"Stars_Ratings\",\"Diff_Ratings\", \"Num_Tokenized_Words\",\"Average_WordLength\",\"Average_WordsinSentence\", \"Percentage_Verbs\",\n",
    "                   \"Percentage_Nouns\",\"Percentage_AdjAdverb\", \"Quote\",\"Sentiment_Score\"]])\n",
    "y_train_pred = list(map(round,y_train_pred))"
   ]
  },
  {
   "cell_type": "code",
   "execution_count": 34,
   "id": "2f8831d5",
   "metadata": {},
   "outputs": [
    {
     "data": {
      "text/plain": [
       "<AxesSubplot:>"
      ]
     },
     "execution_count": 34,
     "metadata": {},
     "output_type": "execute_result"
    },
    {
     "data": {
      "image/png": "[encoded data removed]",
      "text/plain": [
       "<Figure size 432x288 with 2 Axes>"
      ]
     },
     "metadata": {
      "needs_background": "light"
     },
     "output_type": "display_data"
    }
   ],
   "source": [
    "#Plot the two-way Confusion Matrix\n",
    "sb.heatmap(confusion_matrix(y_train, y_train_pred), \n",
    "           annot = True, fmt=\".0f\", annot_kws={\"size\": 18})"
   ]
  },
  {
   "cell_type": "code",
   "execution_count": 35,
   "id": "2c99a2de",
   "metadata": {},
   "outputs": [
    {
     "name": "stdout",
     "output_type": "stream",
     "text": [
      "Train Data:\n",
      "Accuracy  :\t 0.6850385691277443\n",
      "TPR Train :\t 0.6616969368392518\n",
      "TNR Train :\t 0.7084110881145456\n",
      "FPR Train :\t 0.2915889118854545\n",
      "FNR Train :\t 0.33830306316074815\n"
     ]
    }
   ],
   "source": [
    "confusion_matrix_train = confusion_matrix(y_train, y_train_pred)\n",
    "#Calculate accuracy of the prediction on train data\n",
    "\n",
    "#Accuracy = (TP+TN)/Total data\n",
    "accuracy = (confusion_matrix_train[1][1]+confusion_matrix_train[0][0])/(confusion_matrix_train[1][1]+confusion_matrix_train[1][0]+confusion_matrix_train[0][1]+confusion_matrix_train[0][0])\n",
    "#TPR (True Positive Rate) = TP/(TP+FN)\n",
    "TPR = confusion_matrix_train[1][1]/(confusion_matrix_train[1][1]+confusion_matrix_train[1][0])\n",
    "#TNR (True Negative Rate) = TN/(TN+FP)\n",
    "TNR = confusion_matrix_train[0][0]/(confusion_matrix_train[0][0]+ confusion_matrix_train[0][1])\n",
    "#FPR (False Positive Rate) = FP/(TN+FP)\n",
    "FPR = confusion_matrix_train[0][1]/(confusion_matrix_train[0][1]+confusion_matrix_train[0][0])\n",
    "#FNR (False Negative Rate) = FN/(TP+FN)\n",
    "FNR = confusion_matrix_train[1][0]/(confusion_matrix_train[1][0]+confusion_matrix_train[1][1])\n",
    "\n",
    "print(\"Train Data:\")\n",
    "print(\"Accuracy  :\\t\", accuracy)\n",
    "print(\"TPR Train :\\t\", TPR)\n",
    "print(\"TNR Train :\\t\", TNR)\n",
    "print(\"FPR Train :\\t\", FPR)\n",
    "print(\"FNR Train :\\t\", FNR)"
   ]
  },
  {
   "cell_type": "code",
   "execution_count": 36,
   "id": "e61b6cc3",
   "metadata": {},
   "outputs": [],
   "source": [
    "#Checking how good the predictions are on the Test Set.   \n",
    "y_test_pred = GridSearch_xgb_model.predict(X_test[[\"User_Reviews\",\"Stars_Ratings\",\"Diff_Ratings\", \"Num_Tokenized_Words\",\"Average_WordLength\",\"Average_WordsinSentence\", \"Percentage_Verbs\",\n",
    "                   \"Percentage_Nouns\",\"Percentage_AdjAdverb\", \"Quote\",\"Sentiment_Score\"]])\n",
    "y_test_pred = list(map(round,y_test_pred))"
   ]
  },
  {
   "cell_type": "code",
   "execution_count": 37,
   "id": "3275d40e",
   "metadata": {},
   "outputs": [
    {
     "data": {
      "text/plain": [
       "<AxesSubplot:>"
      ]
     },
     "execution_count": 37,
     "metadata": {},
     "output_type": "execute_result"
    },
    {
     "data": {
      "image/png": "[encoded data removed]",
      "text/plain": [
       "<Figure size 432x288 with 2 Axes>"
      ]
     },
     "metadata": {
      "needs_background": "light"
     },
     "output_type": "display_data"
    }
   ],
   "source": [
    "# Plot the two-way Confusion Matrix\n",
    "sb.heatmap(confusion_matrix(y_test, y_test_pred), \n",
    "           annot = True, fmt=\".0f\", annot_kws={\"size\": 18})"
   ]
  },
  {
   "cell_type": "code",
   "execution_count": 38,
   "id": "6ae5b951",
   "metadata": {},
   "outputs": [
    {
     "name": "stdout",
     "output_type": "stream",
     "text": [
      "Test Data:\n",
      "Accuracy  :\t 0.6548129054318415\n",
      "TPR Train :\t 0.6249571971813217\n",
      "TNR Train :\t 0.6614749219830776\n",
      "FPR Train :\t 0.33852507801692244\n",
      "FNR Train :\t 0.37504280281867824\n"
     ]
    }
   ],
   "source": [
    "confusion_matrix_test = confusion_matrix(y_test, y_test_pred)\n",
    "#Calculate accuracy of the prediction on train data\n",
    "\n",
    "#Accuracy = (TP+TN)/Total data\n",
    "accuracy = (confusion_matrix_test[1][1]+confusion_matrix_test[0][0])/(confusion_matrix_test[1][1]+confusion_matrix_test[1][0]+confusion_matrix_test[0][1]+confusion_matrix_test[0][0])\n",
    "#TPR (True Positive Rate) = TP/(TP+FN)\n",
    "TPR = confusion_matrix_test[1][1]/(confusion_matrix_test[1][1]+confusion_matrix_test[1][0])\n",
    "#TNR (True Negative Rate) = TN/(TN+FP)\n",
    "TNR = confusion_matrix_test[0][0]/(confusion_matrix_test[0][0]+ confusion_matrix_test[0][1])\n",
    "#FPR (False Positive Rate) = FP/(TN+FP)\n",
    "FPR = confusion_matrix_test[0][1]/(confusion_matrix_test[0][1]+confusion_matrix_test[0][0])\n",
    "#FNR (False Negative Rate) = FN/(TP+FN)\n",
    "FNR = confusion_matrix_test[1][0]/(confusion_matrix_test[1][0]+confusion_matrix_test[1][1])\n",
    "\n",
    "print(\"Test Data:\")\n",
    "print(\"Accuracy  :\\t\", accuracy)\n",
    "print(\"TPR Train :\\t\", TPR)\n",
    "print(\"TNR Train :\\t\", TNR)\n",
    "print(\"FPR Train :\\t\", FPR)\n",
    "print(\"FNR Train :\\t\", FNR)"
   ]
  },
  {
   "cell_type": "markdown",
   "id": "bd7e79bb",
   "metadata": {},
   "source": [
    "highest accuracy, still follows the same trend"
   ]
  },
  {
   "cell_type": "code",
   "execution_count": 39,
   "id": "65dd600e",
   "metadata": {},
   "outputs": [
    {
     "name": "stdout",
     "output_type": "stream",
     "text": [
      "[0.30860743 0.08699179 0.06116884 0.19042934 0.06619699 0.04307543\n",
      " 0.0510855  0.05489631 0.04459617 0.05295441 0.03999772]\n"
     ]
    },
    {
     "data": {
      "image/png": "[encoded data removed]",
      "text/plain": [
       "<Figure size 432x288 with 1 Axes>"
      ]
     },
     "metadata": {
      "needs_background": "light"
     },
     "output_type": "display_data"
    }
   ],
   "source": [
    "#Feature importance provides a score that indicates how useful each future is in the construction of the boosted decision trees within the model.\n",
    "#Higher score implies that the attribute is used more to make key decision with decision trees, thus it has higher relative importance\n",
    "print(GridSearch_xgb_model.best_estimator_.feature_importances_)\n",
    "#Number shows weight which is the is the number of times a feature appears in a tree\n",
    "xgb.plot_importance(GridSearch_xgb_model.best_estimator_)\n",
    "plt.tight_layout()"
   ]
  },
  {
   "cell_type": "code",
   "execution_count": null,
   "id": "51e09bd2",
   "metadata": {},
   "outputs": [],
   "source": []
  }
 ],
 "metadata": {
  "kernelspec": {
   "display_name": "Python 3 (ipykernel)",
   "language": "python",
   "name": "python3"
  },
  "language_info": {
   "codemirror_mode": {
    "name": "ipython",
    "version": 3
   },
   "file_extension": ".py",
   "mimetype": "text/x-python",
   "name": "python",
   "nbconvert_exporter": "python",
   "pygments_lexer": "ipython3",
   "version": "3.9.7"
  }
 },
 "nbformat": 4,
 "nbformat_minor": 5
}
